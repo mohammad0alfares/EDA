{
  "nbformat": 4,
  "nbformat_minor": 0,
  "metadata": {
    "anaconda-cloud": {},
    "kernelspec": {
      "display_name": "Python 3",
      "language": "python",
      "name": "python3"
    },
    "language_info": {
      "codemirror_mode": {
        "name": "ipython",
        "version": 3
      },
      "file_extension": ".py",
      "mimetype": "text/x-python",
      "name": "python",
      "nbconvert_exporter": "python",
      "pygments_lexer": "ipython3",
      "version": "3.7.4"
    },
    "colab": {
      "name": "swing_states lab.ipynb",
      "provenance": []
    }
  },
  "cells": [
    {
      "cell_type": "code",
      "metadata": {
        "id": "QWib0qaNUzh4",
        "colab_type": "code",
        "colab": {}
      },
      "source": [
        "import pandas as pd\n",
        "import matplotlib.pyplot as plt\n",
        "import seaborn as sns\n",
        "import numpy as np\n"
      ],
      "execution_count": 0,
      "outputs": []
    },
    {
      "cell_type": "code",
      "metadata": {
        "id": "1lJRY8WkUzh9",
        "colab_type": "code",
        "colab": {}
      },
      "source": [
        "%matplotlib inline"
      ],
      "execution_count": 0,
      "outputs": []
    },
    {
      "cell_type": "code",
      "metadata": {
        "id": "ze2k735XUziE",
        "colab_type": "code",
        "colab": {}
      },
      "source": [
        "df_swing = pd.read_csv('https://raw.githubusercontent.com/mohammad0alfares/EDA/master/Labs/data/2008_swing_states.csv')\n"
      ],
      "execution_count": 0,
      "outputs": []
    },
    {
      "cell_type": "code",
      "metadata": {
        "id": "jorV90R3UziK",
        "colab_type": "code",
        "outputId": "259bcf83-6b8e-4dee-8ff5-cb3b28a4215d",
        "colab": {
          "base_uri": "https://localhost:8080/",
          "height": 357
        }
      },
      "source": [
        "df_swing.info()"
      ],
      "execution_count": 6,
      "outputs": [
        {
          "output_type": "stream",
          "text": [
            "<class 'pandas.core.frame.DataFrame'>\n",
            "RangeIndex: 3154 entries, 0 to 3153\n",
            "Data columns (total 15 columns):\n",
            "year                           3154 non-null int64\n",
            "state                          3154 non-null object\n",
            "county                         3154 non-null object\n",
            "fips                           3154 non-null object\n",
            "vote_rep                       3154 non-null int64\n",
            "vote_dem                       3154 non-null int64\n",
            "vote_oth                       3154 non-null int64\n",
            "vote_total                     3154 non-null int64\n",
            "pct_rep                        3154 non-null float64\n",
            "pct_dem                        3154 non-null float64\n",
            "pct_oth                        3154 non-null float64\n",
            "winner                         3154 non-null object\n",
            "runnerup                       3154 non-null object\n",
            "pct_winner                     3154 non-null float64\n",
            "margin_winner_over_runnerup    3154 non-null float64\n",
            "dtypes: float64(5), int64(5), object(5)\n",
            "memory usage: 369.7+ KB\n"
          ],
          "name": "stdout"
        }
      ]
    },
    {
      "cell_type": "code",
      "metadata": {
        "id": "F4jg-7lPUziQ",
        "colab_type": "code",
        "outputId": "91e65468-5585-41eb-9486-1c9faec6fd29",
        "colab": {
          "base_uri": "https://localhost:8080/",
          "height": 255
        }
      },
      "source": [
        "df_swing.head()"
      ],
      "execution_count": 7,
      "outputs": [
        {
          "output_type": "execute_result",
          "data": {
            "text/html": [
              "<div>\n",
              "<style scoped>\n",
              "    .dataframe tbody tr th:only-of-type {\n",
              "        vertical-align: middle;\n",
              "    }\n",
              "\n",
              "    .dataframe tbody tr th {\n",
              "        vertical-align: top;\n",
              "    }\n",
              "\n",
              "    .dataframe thead th {\n",
              "        text-align: right;\n",
              "    }\n",
              "</style>\n",
              "<table border=\"1\" class=\"dataframe\">\n",
              "  <thead>\n",
              "    <tr style=\"text-align: right;\">\n",
              "      <th></th>\n",
              "      <th>year</th>\n",
              "      <th>state</th>\n",
              "      <th>county</th>\n",
              "      <th>fips</th>\n",
              "      <th>vote_rep</th>\n",
              "      <th>vote_dem</th>\n",
              "      <th>vote_oth</th>\n",
              "      <th>vote_total</th>\n",
              "      <th>pct_rep</th>\n",
              "      <th>pct_dem</th>\n",
              "      <th>pct_oth</th>\n",
              "      <th>winner</th>\n",
              "      <th>runnerup</th>\n",
              "      <th>pct_winner</th>\n",
              "      <th>margin_winner_over_runnerup</th>\n",
              "    </tr>\n",
              "  </thead>\n",
              "  <tbody>\n",
              "    <tr>\n",
              "      <th>0</th>\n",
              "      <td>2008</td>\n",
              "      <td>AL</td>\n",
              "      <td>Autauga County</td>\n",
              "      <td>1001</td>\n",
              "      <td>17403</td>\n",
              "      <td>6093</td>\n",
              "      <td>145</td>\n",
              "      <td>23641</td>\n",
              "      <td>73.6</td>\n",
              "      <td>25.8</td>\n",
              "      <td>0.6</td>\n",
              "      <td>rep</td>\n",
              "      <td>dem</td>\n",
              "      <td>73.6</td>\n",
              "      <td>47.8</td>\n",
              "    </tr>\n",
              "    <tr>\n",
              "      <th>1</th>\n",
              "      <td>2008</td>\n",
              "      <td>AL</td>\n",
              "      <td>Baldwin County</td>\n",
              "      <td>1003</td>\n",
              "      <td>61271</td>\n",
              "      <td>19386</td>\n",
              "      <td>756</td>\n",
              "      <td>81413</td>\n",
              "      <td>75.3</td>\n",
              "      <td>23.8</td>\n",
              "      <td>0.9</td>\n",
              "      <td>rep</td>\n",
              "      <td>dem</td>\n",
              "      <td>75.3</td>\n",
              "      <td>51.5</td>\n",
              "    </tr>\n",
              "    <tr>\n",
              "      <th>2</th>\n",
              "      <td>2008</td>\n",
              "      <td>AL</td>\n",
              "      <td>Barbour County</td>\n",
              "      <td>1005</td>\n",
              "      <td>5866</td>\n",
              "      <td>5697</td>\n",
              "      <td>67</td>\n",
              "      <td>11630</td>\n",
              "      <td>50.4</td>\n",
              "      <td>49.0</td>\n",
              "      <td>0.6</td>\n",
              "      <td>rep</td>\n",
              "      <td>dem</td>\n",
              "      <td>50.4</td>\n",
              "      <td>1.4</td>\n",
              "    </tr>\n",
              "    <tr>\n",
              "      <th>3</th>\n",
              "      <td>2008</td>\n",
              "      <td>AL</td>\n",
              "      <td>Bibb County</td>\n",
              "      <td>1007</td>\n",
              "      <td>6262</td>\n",
              "      <td>2299</td>\n",
              "      <td>83</td>\n",
              "      <td>8644</td>\n",
              "      <td>72.4</td>\n",
              "      <td>26.6</td>\n",
              "      <td>1.0</td>\n",
              "      <td>rep</td>\n",
              "      <td>dem</td>\n",
              "      <td>72.4</td>\n",
              "      <td>45.8</td>\n",
              "    </tr>\n",
              "    <tr>\n",
              "      <th>4</th>\n",
              "      <td>2008</td>\n",
              "      <td>AL</td>\n",
              "      <td>Blount County</td>\n",
              "      <td>1009</td>\n",
              "      <td>20389</td>\n",
              "      <td>3522</td>\n",
              "      <td>356</td>\n",
              "      <td>24267</td>\n",
              "      <td>84.0</td>\n",
              "      <td>14.5</td>\n",
              "      <td>1.5</td>\n",
              "      <td>rep</td>\n",
              "      <td>dem</td>\n",
              "      <td>84.0</td>\n",
              "      <td>69.5</td>\n",
              "    </tr>\n",
              "  </tbody>\n",
              "</table>\n",
              "</div>"
            ],
            "text/plain": [
              "   year state          county  ... runnerup  pct_winner  margin_winner_over_runnerup\n",
              "0  2008    AL  Autauga County  ...      dem        73.6                         47.8\n",
              "1  2008    AL  Baldwin County  ...      dem        75.3                         51.5\n",
              "2  2008    AL  Barbour County  ...      dem        50.4                          1.4\n",
              "3  2008    AL     Bibb County  ...      dem        72.4                         45.8\n",
              "4  2008    AL   Blount County  ...      dem        84.0                         69.5\n",
              "\n",
              "[5 rows x 15 columns]"
            ]
          },
          "metadata": {
            "tags": []
          },
          "execution_count": 7
        }
      ]
    },
    {
      "cell_type": "code",
      "metadata": {
        "id": "HpInHI8gUziW",
        "colab_type": "code",
        "outputId": "aab07c10-b426-4b92-d47e-315f8492e869",
        "colab": {
          "base_uri": "https://localhost:8080/",
          "height": 419
        }
      },
      "source": [
        "df_swing[['state','county','vote_total','vote_rep','vote_dem','pct_dem']]"
      ],
      "execution_count": 8,
      "outputs": [
        {
          "output_type": "execute_result",
          "data": {
            "text/html": [
              "<div>\n",
              "<style scoped>\n",
              "    .dataframe tbody tr th:only-of-type {\n",
              "        vertical-align: middle;\n",
              "    }\n",
              "\n",
              "    .dataframe tbody tr th {\n",
              "        vertical-align: top;\n",
              "    }\n",
              "\n",
              "    .dataframe thead th {\n",
              "        text-align: right;\n",
              "    }\n",
              "</style>\n",
              "<table border=\"1\" class=\"dataframe\">\n",
              "  <thead>\n",
              "    <tr style=\"text-align: right;\">\n",
              "      <th></th>\n",
              "      <th>state</th>\n",
              "      <th>county</th>\n",
              "      <th>vote_total</th>\n",
              "      <th>vote_rep</th>\n",
              "      <th>vote_dem</th>\n",
              "      <th>pct_dem</th>\n",
              "    </tr>\n",
              "  </thead>\n",
              "  <tbody>\n",
              "    <tr>\n",
              "      <th>0</th>\n",
              "      <td>AL</td>\n",
              "      <td>Autauga County</td>\n",
              "      <td>23641</td>\n",
              "      <td>17403</td>\n",
              "      <td>6093</td>\n",
              "      <td>25.80</td>\n",
              "    </tr>\n",
              "    <tr>\n",
              "      <th>1</th>\n",
              "      <td>AL</td>\n",
              "      <td>Baldwin County</td>\n",
              "      <td>81413</td>\n",
              "      <td>61271</td>\n",
              "      <td>19386</td>\n",
              "      <td>23.80</td>\n",
              "    </tr>\n",
              "    <tr>\n",
              "      <th>2</th>\n",
              "      <td>AL</td>\n",
              "      <td>Barbour County</td>\n",
              "      <td>11630</td>\n",
              "      <td>5866</td>\n",
              "      <td>5697</td>\n",
              "      <td>49.00</td>\n",
              "    </tr>\n",
              "    <tr>\n",
              "      <th>3</th>\n",
              "      <td>AL</td>\n",
              "      <td>Bibb County</td>\n",
              "      <td>8644</td>\n",
              "      <td>6262</td>\n",
              "      <td>2299</td>\n",
              "      <td>26.60</td>\n",
              "    </tr>\n",
              "    <tr>\n",
              "      <th>4</th>\n",
              "      <td>AL</td>\n",
              "      <td>Blount County</td>\n",
              "      <td>24267</td>\n",
              "      <td>20389</td>\n",
              "      <td>3522</td>\n",
              "      <td>14.50</td>\n",
              "    </tr>\n",
              "    <tr>\n",
              "      <th>...</th>\n",
              "      <td>...</td>\n",
              "      <td>...</td>\n",
              "      <td>...</td>\n",
              "      <td>...</td>\n",
              "      <td>...</td>\n",
              "      <td>...</td>\n",
              "    </tr>\n",
              "    <tr>\n",
              "      <th>3149</th>\n",
              "      <td>AK</td>\n",
              "      <td>State House District 36, Kodiak</td>\n",
              "      <td>6673</td>\n",
              "      <td>4201</td>\n",
              "      <td>2264</td>\n",
              "      <td>33.93</td>\n",
              "    </tr>\n",
              "    <tr>\n",
              "      <th>3150</th>\n",
              "      <td>AK</td>\n",
              "      <td>State House District 37, Bristol Bay-Aleuti</td>\n",
              "      <td>4665</td>\n",
              "      <td>2661</td>\n",
              "      <td>1868</td>\n",
              "      <td>40.04</td>\n",
              "    </tr>\n",
              "    <tr>\n",
              "      <th>3151</th>\n",
              "      <td>AK</td>\n",
              "      <td>State House District 38, Bethel</td>\n",
              "      <td>4820</td>\n",
              "      <td>2056</td>\n",
              "      <td>2549</td>\n",
              "      <td>52.88</td>\n",
              "    </tr>\n",
              "    <tr>\n",
              "      <th>3152</th>\n",
              "      <td>AK</td>\n",
              "      <td>State House District 39, Bering Straits</td>\n",
              "      <td>5184</td>\n",
              "      <td>2323</td>\n",
              "      <td>2695</td>\n",
              "      <td>51.99</td>\n",
              "    </tr>\n",
              "    <tr>\n",
              "      <th>3153</th>\n",
              "      <td>AK</td>\n",
              "      <td>State House District 40, Arctic</td>\n",
              "      <td>5000</td>\n",
              "      <td>2686</td>\n",
              "      <td>2137</td>\n",
              "      <td>42.74</td>\n",
              "    </tr>\n",
              "  </tbody>\n",
              "</table>\n",
              "<p>3154 rows × 6 columns</p>\n",
              "</div>"
            ],
            "text/plain": [
              "     state                                       county  ...  vote_dem  pct_dem\n",
              "0       AL                               Autauga County  ...      6093    25.80\n",
              "1       AL                               Baldwin County  ...     19386    23.80\n",
              "2       AL                               Barbour County  ...      5697    49.00\n",
              "3       AL                                  Bibb County  ...      2299    26.60\n",
              "4       AL                                Blount County  ...      3522    14.50\n",
              "...    ...                                          ...  ...       ...      ...\n",
              "3149    AK              State House District 36, Kodiak  ...      2264    33.93\n",
              "3150    AK  State House District 37, Bristol Bay-Aleuti  ...      1868    40.04\n",
              "3151    AK              State House District 38, Bethel  ...      2549    52.88\n",
              "3152    AK      State House District 39, Bering Straits  ...      2695    51.99\n",
              "3153    AK              State House District 40, Arctic  ...      2137    42.74\n",
              "\n",
              "[3154 rows x 6 columns]"
            ]
          },
          "metadata": {
            "tags": []
          },
          "execution_count": 8
        }
      ]
    },
    {
      "cell_type": "code",
      "metadata": {
        "id": "ESYdUcwqUzib",
        "colab_type": "code",
        "outputId": "b1fc7c11-d7da-4292-9f41-01d47071d271",
        "colab": {
          "base_uri": "https://localhost:8080/",
          "height": 419
        }
      },
      "source": [
        "df_swing[['state', 'county', 'pct_dem']]"
      ],
      "execution_count": 9,
      "outputs": [
        {
          "output_type": "execute_result",
          "data": {
            "text/html": [
              "<div>\n",
              "<style scoped>\n",
              "    .dataframe tbody tr th:only-of-type {\n",
              "        vertical-align: middle;\n",
              "    }\n",
              "\n",
              "    .dataframe tbody tr th {\n",
              "        vertical-align: top;\n",
              "    }\n",
              "\n",
              "    .dataframe thead th {\n",
              "        text-align: right;\n",
              "    }\n",
              "</style>\n",
              "<table border=\"1\" class=\"dataframe\">\n",
              "  <thead>\n",
              "    <tr style=\"text-align: right;\">\n",
              "      <th></th>\n",
              "      <th>state</th>\n",
              "      <th>county</th>\n",
              "      <th>pct_dem</th>\n",
              "    </tr>\n",
              "  </thead>\n",
              "  <tbody>\n",
              "    <tr>\n",
              "      <th>0</th>\n",
              "      <td>AL</td>\n",
              "      <td>Autauga County</td>\n",
              "      <td>25.80</td>\n",
              "    </tr>\n",
              "    <tr>\n",
              "      <th>1</th>\n",
              "      <td>AL</td>\n",
              "      <td>Baldwin County</td>\n",
              "      <td>23.80</td>\n",
              "    </tr>\n",
              "    <tr>\n",
              "      <th>2</th>\n",
              "      <td>AL</td>\n",
              "      <td>Barbour County</td>\n",
              "      <td>49.00</td>\n",
              "    </tr>\n",
              "    <tr>\n",
              "      <th>3</th>\n",
              "      <td>AL</td>\n",
              "      <td>Bibb County</td>\n",
              "      <td>26.60</td>\n",
              "    </tr>\n",
              "    <tr>\n",
              "      <th>4</th>\n",
              "      <td>AL</td>\n",
              "      <td>Blount County</td>\n",
              "      <td>14.50</td>\n",
              "    </tr>\n",
              "    <tr>\n",
              "      <th>...</th>\n",
              "      <td>...</td>\n",
              "      <td>...</td>\n",
              "      <td>...</td>\n",
              "    </tr>\n",
              "    <tr>\n",
              "      <th>3149</th>\n",
              "      <td>AK</td>\n",
              "      <td>State House District 36, Kodiak</td>\n",
              "      <td>33.93</td>\n",
              "    </tr>\n",
              "    <tr>\n",
              "      <th>3150</th>\n",
              "      <td>AK</td>\n",
              "      <td>State House District 37, Bristol Bay-Aleuti</td>\n",
              "      <td>40.04</td>\n",
              "    </tr>\n",
              "    <tr>\n",
              "      <th>3151</th>\n",
              "      <td>AK</td>\n",
              "      <td>State House District 38, Bethel</td>\n",
              "      <td>52.88</td>\n",
              "    </tr>\n",
              "    <tr>\n",
              "      <th>3152</th>\n",
              "      <td>AK</td>\n",
              "      <td>State House District 39, Bering Straits</td>\n",
              "      <td>51.99</td>\n",
              "    </tr>\n",
              "    <tr>\n",
              "      <th>3153</th>\n",
              "      <td>AK</td>\n",
              "      <td>State House District 40, Arctic</td>\n",
              "      <td>42.74</td>\n",
              "    </tr>\n",
              "  </tbody>\n",
              "</table>\n",
              "<p>3154 rows × 3 columns</p>\n",
              "</div>"
            ],
            "text/plain": [
              "     state                                       county  pct_dem\n",
              "0       AL                               Autauga County    25.80\n",
              "1       AL                               Baldwin County    23.80\n",
              "2       AL                               Barbour County    49.00\n",
              "3       AL                                  Bibb County    26.60\n",
              "4       AL                                Blount County    14.50\n",
              "...    ...                                          ...      ...\n",
              "3149    AK              State House District 36, Kodiak    33.93\n",
              "3150    AK  State House District 37, Bristol Bay-Aleuti    40.04\n",
              "3151    AK              State House District 38, Bethel    52.88\n",
              "3152    AK      State House District 39, Bering Straits    51.99\n",
              "3153    AK              State House District 40, Arctic    42.74\n",
              "\n",
              "[3154 rows x 3 columns]"
            ]
          },
          "metadata": {
            "tags": []
          },
          "execution_count": 9
        }
      ]
    },
    {
      "cell_type": "code",
      "metadata": {
        "id": "uKR3uvgQUzih",
        "colab_type": "code",
        "outputId": "f7b18485-0348-4eb7-e4ef-f5255e20edd3",
        "colab": {
          "base_uri": "https://localhost:8080/",
          "height": 285
        }
      },
      "source": [
        "sns.set()\n",
        "_=plt.hist(df_swing['pct_rep'])\n",
        "_=plt.xlabel('votes for rep')\n",
        "_=plt.ylabel('number of counties')\n",
        "plt.show()\n"
      ],
      "execution_count": 10,
      "outputs": [
        {
          "output_type": "display_data",
          "data": {
            "image/png": "[encoded data removed]",
            "text/plain": [
              "<Figure size 432x288 with 1 Axes>"
            ]
          },
          "metadata": {
            "tags": []
          }
        }
      ]
    },
    {
      "cell_type": "code",
      "metadata": {
        "id": "-CUUfuohUzim",
        "colab_type": "code",
        "outputId": "9f209aa6-7243-4f46-b115-99f6fffb80f2",
        "colab": {
          "base_uri": "https://localhost:8080/",
          "height": 285
        }
      },
      "source": [
        "bin_edges = range(0,100,10) #[0,20,30,40,50,60,70,80,90,100]\n",
        "sns.set()\n",
        "_=plt.hist(df_swing['pct_rep'],bins=bin_edges)\n",
        "_=plt.xlabel('votes for rep')\n",
        "_=plt.ylabel('number of counties')\n",
        "plt.show()"
      ],
      "execution_count": 11,
      "outputs": [
        {
          "output_type": "display_data",
          "data": {
            "image/png": "[encoded data removed]",
            "text/plain": [
              "<Figure size 432x288 with 1 Axes>"
            ]
          },
          "metadata": {
            "tags": []
          }
        }
      ]
    },
    {
      "cell_type": "code",
      "metadata": {
        "id": "VRaolfPqUzis",
        "colab_type": "code",
        "outputId": "9a38930c-3659-46c5-bf41-d51842314665",
        "colab": {
          "base_uri": "https://localhost:8080/",
          "height": 85
        }
      },
      "source": [
        "df_OH=df_swing[df_swing.state == 'OH']\n",
        "df_PA=df_swing[df_swing.state == 'PA']\n",
        "df_FL=df_swing[df_swing.state == 'FL']\n",
        "df_states=df_OH\n",
        "df_states=df_states.append(df_PA)\n",
        "df_states=df_states.append(df_FL)\n",
        "\n",
        "df_states.state.value_counts()\n",
        "\n"
      ],
      "execution_count": 12,
      "outputs": [
        {
          "output_type": "execute_result",
          "data": {
            "text/plain": [
              "OH    88\n",
              "FL    67\n",
              "PA    67\n",
              "Name: state, dtype: int64"
            ]
          },
          "metadata": {
            "tags": []
          },
          "execution_count": 12
        }
      ]
    },
    {
      "cell_type": "code",
      "metadata": {
        "id": "sgHp_w1UUzi2",
        "colab_type": "code",
        "outputId": "55d9aa0c-25e8-4202-c07d-5fc6636bee76",
        "colab": {
          "base_uri": "https://localhost:8080/",
          "height": 285
        }
      },
      "source": [
        "sns.set()\n",
        "plot = plt.hist(df_states['pct_rep'])\n",
        "plot = plt.xlabel('percentage of votes for rep')\n",
        "plot = plt.ylabel('number of counties')\n",
        "plt.show()"
      ],
      "execution_count": 13,
      "outputs": [
        {
          "output_type": "display_data",
          "data": {
            "image/png": "[encoded data removed]",
            "text/plain": [
              "<Figure size 432x288 with 1 Axes>"
            ]
          },
          "metadata": {
            "tags": []
          }
        }
      ]
    },
    {
      "cell_type": "code",
      "metadata": {
        "id": "xWBvB2WVUzi6",
        "colab_type": "code",
        "outputId": "f5ab4bb9-f1e1-44ba-ad83-c81878320e44",
        "colab": {
          "base_uri": "https://localhost:8080/",
          "height": 285
        }
      },
      "source": [
        "_ = sns.swarmplot(x='state', y='pct_rep', data=df_states)\n",
        "_= plt.xlabel('state')\n",
        "_= plt.ylabel('percentage of votes for rep')\n",
        "_= plt.axhline(50)  \n",
        "plt.show()\n"
      ],
      "execution_count": 15,
      "outputs": [
        {
          "output_type": "display_data",
          "data": {
            "image/png": "[encoded data removed]",
            "text/plain": [
              "<Figure size 432x288 with 1 Axes>"
            ]
          },
          "metadata": {
            "tags": []
          }
        }
      ]
    },
    {
      "cell_type": "code",
      "metadata": {
        "id": "tEL-xLffZB6f",
        "colab_type": "code",
        "colab": {
          "base_uri": "https://localhost:8080/",
          "height": 285
        },
        "outputId": "bcde187e-882e-4322-f962-1e79ef167ab1"
      },
      "source": [
        "_= sns.boxplot(x='state', y='pct_rep', data=df_states)\n",
        "_= sns.swarmplot(x='state', y='pct_rep', data=df_states, color=\".25\")\n",
        "_= plt.xlabel('state')\n",
        "_= plt.ylabel('percentage of votes for rep')\n",
        "plt.show()"
      ],
      "execution_count": 31,
      "outputs": [
        {
          "output_type": "display_data",
          "data": {
            "image/png": "[encoded data removed]",
            "text/plain": [
              "<Figure size 432x288 with 1 Axes>"
            ]
          },
          "metadata": {
            "tags": []
          }
        }
      ]
    },
    {
      "cell_type": "code",
      "metadata": {
        "id": "sS1GCXCVUzjA",
        "colab_type": "code",
        "colab": {}
      },
      "source": [
        "def ecdf(data):\n",
        "    \"\"\"Compute ECDF for a one-dimensional array of measurements.\"\"\"\n",
        "\n",
        "    # Number of data points: n\n",
        "    n = len(data)\n",
        "\n",
        "    # x-data for the ECDF: x\n",
        "    x = np.sort(data)\n",
        "\n",
        "    # y-data for the ECDF: y\n",
        "    y = np.arange(1, n+1) / n\n",
        "\n",
        "    return x, y"
      ],
      "execution_count": 0,
      "outputs": []
    },
    {
      "cell_type": "code",
      "metadata": {
        "id": "_aTuds6yUzjH",
        "colab_type": "code",
        "outputId": "9e15fa15-1691-4156-bb2e-79f5dc5633af",
        "colab": {
          "base_uri": "https://localhost:8080/",
          "height": 285
        }
      },
      "source": [
        "# Compute ECDF for versicolor data: x_vers, y_vers\n",
        "x_OH, y_OH = ecdf(df_OH['pct_rep'])\n",
        "x_PA, y_PA = ecdf(df_PA['pct_rep'])\n",
        "x_FL, y_FL = ecdf(df_FL['pct_rep'])\n",
        "\n",
        "# Generate plot\n",
        "_ = plt.plot(x_OH, y_OH, marker='.', linestyle='none')\n",
        "_ = plt.plot(x_PA, y_PA, marker='.', linestyle='none')\n",
        "_ = plt.plot(x_FL, y_FL, marker='.', linestyle='none')\n",
        "# Make the margins nice\n",
        "plt.margins(0.02)\n",
        "\n",
        "# Label the axes\n",
        "_ = plt.legend(('OH', 'PA', 'FL'), loc='lower right')\n",
        "_ = plt.xlabel('pct_rep')\n",
        "_ = plt.ylabel('ECDF')\n",
        "\n",
        "# Display the plot\n",
        "plt.show()"
      ],
      "execution_count": 24,
      "outputs": [
        {
          "output_type": "display_data",
          "data": {
            "image/png": "[encoded data removed]",
            "text/plain": [
              "<Figure size 432x288 with 1 Axes>"
            ]
          },
          "metadata": {
            "tags": []
          }
        }
      ]
    },
    {
      "cell_type": "code",
      "metadata": {
        "id": "Nf3dPbZvUzjN",
        "colab_type": "code",
        "outputId": "0b65c720-f1aa-4ff6-8b74-783169566f88",
        "colab": {}
      },
      "source": [
        "df_states=df_states[['state','vote_total','vote_rep','vote_dem','pct_dem']];\n",
        "df_states.describe()"
      ],
      "execution_count": 0,
      "outputs": [
        {
          "output_type": "execute_result",
          "data": {
            "text/html": [
              "<div>\n",
              "<style scoped>\n",
              "    .dataframe tbody tr th:only-of-type {\n",
              "        vertical-align: middle;\n",
              "    }\n",
              "\n",
              "    .dataframe tbody tr th {\n",
              "        vertical-align: top;\n",
              "    }\n",
              "\n",
              "    .dataframe thead th {\n",
              "        text-align: right;\n",
              "    }\n",
              "</style>\n",
              "<table border=\"1\" class=\"dataframe\">\n",
              "  <thead>\n",
              "    <tr style=\"text-align: right;\">\n",
              "      <th></th>\n",
              "      <th>vote_total</th>\n",
              "      <th>vote_rep</th>\n",
              "      <th>vote_dem</th>\n",
              "      <th>pct_dem</th>\n",
              "    </tr>\n",
              "  </thead>\n",
              "  <tbody>\n",
              "    <tr>\n",
              "      <td>count</td>\n",
              "      <td>222.000000</td>\n",
              "      <td>222.000000</td>\n",
              "      <td>222.000000</td>\n",
              "      <td>222.000000</td>\n",
              "    </tr>\n",
              "    <tr>\n",
              "      <td>mean</td>\n",
              "      <td>90424.513514</td>\n",
              "      <td>42236.567568</td>\n",
              "      <td>47214.283784</td>\n",
              "      <td>43.114595</td>\n",
              "    </tr>\n",
              "    <tr>\n",
              "      <td>std</td>\n",
              "      <td>142285.290653</td>\n",
              "      <td>56208.862490</td>\n",
              "      <td>88913.077046</td>\n",
              "      <td>10.602505</td>\n",
              "    </tr>\n",
              "    <tr>\n",
              "      <td>min</td>\n",
              "      <td>2245.000000</td>\n",
              "      <td>1323.000000</td>\n",
              "      <td>642.000000</td>\n",
              "      <td>6.600000</td>\n",
              "    </tr>\n",
              "    <tr>\n",
              "      <td>25%</td>\n",
              "      <td>16537.250000</td>\n",
              "      <td>9203.750000</td>\n",
              "      <td>6337.500000</td>\n",
              "      <td>36.605000</td>\n",
              "    </tr>\n",
              "    <tr>\n",
              "      <td>50%</td>\n",
              "      <td>32491.000000</td>\n",
              "      <td>18050.500000</td>\n",
              "      <td>14392.000000</td>\n",
              "      <td>42.640000</td>\n",
              "    </tr>\n",
              "    <tr>\n",
              "      <td>75%</td>\n",
              "      <td>95516.750000</td>\n",
              "      <td>50651.750000</td>\n",
              "      <td>41623.000000</td>\n",
              "      <td>49.182500</td>\n",
              "    </tr>\n",
              "    <tr>\n",
              "      <td>max</td>\n",
              "      <td>863486.000000</td>\n",
              "      <td>360551.000000</td>\n",
              "      <td>595980.000000</td>\n",
              "      <td>83.080000</td>\n",
              "    </tr>\n",
              "  </tbody>\n",
              "</table>\n",
              "</div>"
            ],
            "text/plain": [
              "          vote_total       vote_rep       vote_dem     pct_dem\n",
              "count     222.000000     222.000000     222.000000  222.000000\n",
              "mean    90424.513514   42236.567568   47214.283784   43.114595\n",
              "std    142285.290653   56208.862490   88913.077046   10.602505\n",
              "min      2245.000000    1323.000000     642.000000    6.600000\n",
              "25%     16537.250000    9203.750000    6337.500000   36.605000\n",
              "50%     32491.000000   18050.500000   14392.000000   42.640000\n",
              "75%     95516.750000   50651.750000   41623.000000   49.182500\n",
              "max    863486.000000  360551.000000  595980.000000   83.080000"
            ]
          },
          "metadata": {
            "tags": []
          },
          "execution_count": 55
        }
      ]
    },
    {
      "cell_type": "code",
      "metadata": {
        "id": "9woe7OZlUzjT",
        "colab_type": "code",
        "outputId": "3db1d85a-8b2e-4ac0-f8f5-e112329d0c61",
        "colab": {}
      },
      "source": [
        "df_states.mean()"
      ],
      "execution_count": 0,
      "outputs": [
        {
          "output_type": "execute_result",
          "data": {
            "text/plain": [
              "vote_total    90424.513514\n",
              "vote_rep      42236.567568\n",
              "vote_dem      47214.283784\n",
              "pct_dem          43.114595\n",
              "dtype: float64"
            ]
          },
          "metadata": {
            "tags": []
          },
          "execution_count": 56
        }
      ]
    },
    {
      "cell_type": "code",
      "metadata": {
        "id": "2InxL9LxUzjc",
        "colab_type": "code",
        "outputId": "5cfa8ca5-6c4f-4653-a2d1-aa00b2b07ac7",
        "colab": {}
      },
      "source": [
        "df_states.median()"
      ],
      "execution_count": 0,
      "outputs": [
        {
          "output_type": "execute_result",
          "data": {
            "text/plain": [
              "vote_total    32491.00\n",
              "vote_rep      18050.50\n",
              "vote_dem      14392.00\n",
              "pct_dem          42.64\n",
              "dtype: float64"
            ]
          },
          "metadata": {
            "tags": []
          },
          "execution_count": 57
        }
      ]
    },
    {
      "cell_type": "code",
      "metadata": {
        "id": "m8_0Q33XUzjh",
        "colab_type": "code",
        "outputId": "44a78b1c-5d88-4b07-eee5-f95c075daa25",
        "colab": {}
      },
      "source": [
        "np.percentile(df_states['pct_dem'], [25,50,75])"
      ],
      "execution_count": 0,
      "outputs": [
        {
          "output_type": "execute_result",
          "data": {
            "text/plain": [
              "array([36.605 , 42.64  , 49.1825])"
            ]
          },
          "metadata": {
            "tags": []
          },
          "execution_count": 58
        }
      ]
    },
    {
      "cell_type": "code",
      "metadata": {
        "id": "Y34BinqfUzjq",
        "colab_type": "code",
        "outputId": "ae778c5b-f45d-4db6-8b06-605c53fb5ebf",
        "colab": {}
      },
      "source": [
        "np.var(df_states['pct_dem'])"
      ],
      "execution_count": 0,
      "outputs": [
        {
          "output_type": "execute_result",
          "data": {
            "text/plain": [
              "111.90675006087173"
            ]
          },
          "metadata": {
            "tags": []
          },
          "execution_count": 65
        }
      ]
    },
    {
      "cell_type": "code",
      "metadata": {
        "id": "-o7FKSnMUzju",
        "colab_type": "code",
        "outputId": "b4b42630-a307-4217-a5f1-8029dceb3f03",
        "colab": {
          "base_uri": "https://localhost:8080/",
          "height": 302
        }
      },
      "source": [
        "#scatter plot\n",
        "plt.plot(df_states['vote_total']/1000, df_states['pct_rep'], marker='.', linestyle='none')\n",
        "plt.xlabel('votes (thousands)')\n",
        "plt.ylabel('percentage of votes for rep')"
      ],
      "execution_count": 26,
      "outputs": [
        {
          "output_type": "execute_result",
          "data": {
            "text/plain": [
              "Text(0, 0.5, 'percentage of votes for rep')"
            ]
          },
          "metadata": {
            "tags": []
          },
          "execution_count": 26
        },
        {
          "output_type": "display_data",
          "data": {
            "image/png": "[encoded data removed]",
            "text/plain": [
              "<Figure size 432x288 with 1 Axes>"
            ]
          },
          "metadata": {
            "tags": []
          }
        }
      ]
    },
    {
      "cell_type": "code",
      "metadata": {
        "id": "Xl9Xw4x1Uzj0",
        "colab_type": "code",
        "colab": {}
      },
      "source": [
        ""
      ],
      "execution_count": 0,
      "outputs": []
    }
  ]
}