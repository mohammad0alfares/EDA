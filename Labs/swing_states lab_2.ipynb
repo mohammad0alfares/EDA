{
  "nbformat": 4,
  "nbformat_minor": 0,
  "metadata": {
    "anaconda-cloud": {},
    "kernelspec": {
      "display_name": "Python 3",
      "language": "python",
      "name": "python3"
    },
    "language_info": {
      "codemirror_mode": {
        "name": "ipython",
        "version": 3
      },
      "file_extension": ".py",
      "mimetype": "text/x-python",
      "name": "python",
      "nbconvert_exporter": "python",
      "pygments_lexer": "ipython3",
      "version": "3.7.4"
    },
    "colab": {
      "name": "swing_states lab.ipynb",
      "provenance": []
    }
  },
  "cells": [
    {
      "cell_type": "code",
      "metadata": {
        "id": "QWib0qaNUzh4",
        "colab_type": "code",
        "colab": {}
      },
      "source": [
        "import pandas as pd\n",
        "import matplotlib.pyplot as plt\n",
        "import seaborn as sns\n",
        "import numpy as np\n"
      ],
      "execution_count": 0,
      "outputs": []
    },
    {
      "cell_type": "code",
      "metadata": {
        "id": "1lJRY8WkUzh9",
        "colab_type": "code",
        "colab": {}
      },
      "source": [
        "%matplotlib inline"
      ],
      "execution_count": 0,
      "outputs": []
    },
    {
      "cell_type": "code",
      "metadata": {
        "id": "ze2k735XUziE",
        "colab_type": "code",
        "colab": {}
      },
      "source": [
        "df_swing = pd.read_csv('https://raw.githubusercontent.com/mohammad0alfares/EDA/master/Labs/data/2008_swing_states.csv')\n"
      ],
      "execution_count": 0,
      "outputs": []
    },
    {
      "cell_type": "code",
      "metadata": {
        "id": "jorV90R3UziK",
        "colab_type": "code",
        "colab": {}
      },
      "source": [
        "df_swing.info()"
      ],
      "execution_count": 0,
      "outputs": []
    },
    {
      "cell_type": "code",
      "metadata": {
        "id": "F4jg-7lPUziQ",
        "colab_type": "code",
        "outputId": "3d61d7ea-0c80-4c9b-acef-2721f035344e",
        "colab": {
          "base_uri": "https://localhost:8080/",
          "height": 255
        }
      },
      "source": [
        "df_swing.head()"
      ],
      "execution_count": 4,
      "outputs": [
        {
          "output_type": "execute_result",
          "data": {
            "text/html": [
              "<div>\n",
              "<style scoped>\n",
              "    .dataframe tbody tr th:only-of-type {\n",
              "        vertical-align: middle;\n",
              "    }\n",
              "\n",
              "    .dataframe tbody tr th {\n",
              "        vertical-align: top;\n",
              "    }\n",
              "\n",
              "    .dataframe thead th {\n",
              "        text-align: right;\n",
              "    }\n",
              "</style>\n",
              "<table border=\"1\" class=\"dataframe\">\n",
              "  <thead>\n",
              "    <tr style=\"text-align: right;\">\n",
              "      <th></th>\n",
              "      <th>year</th>\n",
              "      <th>state</th>\n",
              "      <th>county</th>\n",
              "      <th>fips</th>\n",
              "      <th>vote_rep</th>\n",
              "      <th>vote_dem</th>\n",
              "      <th>vote_oth</th>\n",
              "      <th>vote_total</th>\n",
              "      <th>pct_rep</th>\n",
              "      <th>pct_dem</th>\n",
              "      <th>pct_oth</th>\n",
              "      <th>winner</th>\n",
              "      <th>runnerup</th>\n",
              "      <th>pct_winner</th>\n",
              "      <th>margin_winner_over_runnerup</th>\n",
              "    </tr>\n",
              "  </thead>\n",
              "  <tbody>\n",
              "    <tr>\n",
              "      <th>0</th>\n",
              "      <td>2008</td>\n",
              "      <td>AL</td>\n",
              "      <td>Autauga County</td>\n",
              "      <td>1001</td>\n",
              "      <td>17403</td>\n",
              "      <td>6093</td>\n",
              "      <td>145</td>\n",
              "      <td>23641</td>\n",
              "      <td>73.6</td>\n",
              "      <td>25.8</td>\n",
              "      <td>0.6</td>\n",
              "      <td>rep</td>\n",
              "      <td>dem</td>\n",
              "      <td>73.6</td>\n",
              "      <td>47.8</td>\n",
              "    </tr>\n",
              "    <tr>\n",
              "      <th>1</th>\n",
              "      <td>2008</td>\n",
              "      <td>AL</td>\n",
              "      <td>Baldwin County</td>\n",
              "      <td>1003</td>\n",
              "      <td>61271</td>\n",
              "      <td>19386</td>\n",
              "      <td>756</td>\n",
              "      <td>81413</td>\n",
              "      <td>75.3</td>\n",
              "      <td>23.8</td>\n",
              "      <td>0.9</td>\n",
              "      <td>rep</td>\n",
              "      <td>dem</td>\n",
              "      <td>75.3</td>\n",
              "      <td>51.5</td>\n",
              "    </tr>\n",
              "    <tr>\n",
              "      <th>2</th>\n",
              "      <td>2008</td>\n",
              "      <td>AL</td>\n",
              "      <td>Barbour County</td>\n",
              "      <td>1005</td>\n",
              "      <td>5866</td>\n",
              "      <td>5697</td>\n",
              "      <td>67</td>\n",
              "      <td>11630</td>\n",
              "      <td>50.4</td>\n",
              "      <td>49.0</td>\n",
              "      <td>0.6</td>\n",
              "      <td>rep</td>\n",
              "      <td>dem</td>\n",
              "      <td>50.4</td>\n",
              "      <td>1.4</td>\n",
              "    </tr>\n",
              "    <tr>\n",
              "      <th>3</th>\n",
              "      <td>2008</td>\n",
              "      <td>AL</td>\n",
              "      <td>Bibb County</td>\n",
              "      <td>1007</td>\n",
              "      <td>6262</td>\n",
              "      <td>2299</td>\n",
              "      <td>83</td>\n",
              "      <td>8644</td>\n",
              "      <td>72.4</td>\n",
              "      <td>26.6</td>\n",
              "      <td>1.0</td>\n",
              "      <td>rep</td>\n",
              "      <td>dem</td>\n",
              "      <td>72.4</td>\n",
              "      <td>45.8</td>\n",
              "    </tr>\n",
              "    <tr>\n",
              "      <th>4</th>\n",
              "      <td>2008</td>\n",
              "      <td>AL</td>\n",
              "      <td>Blount County</td>\n",
              "      <td>1009</td>\n",
              "      <td>20389</td>\n",
              "      <td>3522</td>\n",
              "      <td>356</td>\n",
              "      <td>24267</td>\n",
              "      <td>84.0</td>\n",
              "      <td>14.5</td>\n",
              "      <td>1.5</td>\n",
              "      <td>rep</td>\n",
              "      <td>dem</td>\n",
              "      <td>84.0</td>\n",
              "      <td>69.5</td>\n",
              "    </tr>\n",
              "  </tbody>\n",
              "</table>\n",
              "</div>"
            ],
            "text/plain": [
              "   year state          county  ... runnerup  pct_winner  margin_winner_over_runnerup\n",
              "0  2008    AL  Autauga County  ...      dem        73.6                         47.8\n",
              "1  2008    AL  Baldwin County  ...      dem        75.3                         51.5\n",
              "2  2008    AL  Barbour County  ...      dem        50.4                          1.4\n",
              "3  2008    AL     Bibb County  ...      dem        72.4                         45.8\n",
              "4  2008    AL   Blount County  ...      dem        84.0                         69.5\n",
              "\n",
              "[5 rows x 15 columns]"
            ]
          },
          "metadata": {
            "tags": []
          },
          "execution_count": 4
        }
      ]
    },
    {
      "cell_type": "code",
      "metadata": {
        "id": "HpInHI8gUziW",
        "colab_type": "code",
        "outputId": "0eed3107-a6f8-4e5d-c582-4dcae23f63cd",
        "colab": {
          "base_uri": "https://localhost:8080/",
          "height": 419
        }
      },
      "source": [
        "df_swing[['state','county','vote_total','vote_rep','vote_dem','pct_dem']]"
      ],
      "execution_count": 5,
      "outputs": [
        {
          "output_type": "execute_result",
          "data": {
            "text/html": [
              "<div>\n",
              "<style scoped>\n",
              "    .dataframe tbody tr th:only-of-type {\n",
              "        vertical-align: middle;\n",
              "    }\n",
              "\n",
              "    .dataframe tbody tr th {\n",
              "        vertical-align: top;\n",
              "    }\n",
              "\n",
              "    .dataframe thead th {\n",
              "        text-align: right;\n",
              "    }\n",
              "</style>\n",
              "<table border=\"1\" class=\"dataframe\">\n",
              "  <thead>\n",
              "    <tr style=\"text-align: right;\">\n",
              "      <th></th>\n",
              "      <th>state</th>\n",
              "      <th>county</th>\n",
              "      <th>vote_total</th>\n",
              "      <th>vote_rep</th>\n",
              "      <th>vote_dem</th>\n",
              "      <th>pct_dem</th>\n",
              "    </tr>\n",
              "  </thead>\n",
              "  <tbody>\n",
              "    <tr>\n",
              "      <th>0</th>\n",
              "      <td>AL</td>\n",
              "      <td>Autauga County</td>\n",
              "      <td>23641</td>\n",
              "      <td>17403</td>\n",
              "      <td>6093</td>\n",
              "      <td>25.80</td>\n",
              "    </tr>\n",
              "    <tr>\n",
              "      <th>1</th>\n",
              "      <td>AL</td>\n",
              "      <td>Baldwin County</td>\n",
              "      <td>81413</td>\n",
              "      <td>61271</td>\n",
              "      <td>19386</td>\n",
              "      <td>23.80</td>\n",
              "    </tr>\n",
              "    <tr>\n",
              "      <th>2</th>\n",
              "      <td>AL</td>\n",
              "      <td>Barbour County</td>\n",
              "      <td>11630</td>\n",
              "      <td>5866</td>\n",
              "      <td>5697</td>\n",
              "      <td>49.00</td>\n",
              "    </tr>\n",
              "    <tr>\n",
              "      <th>3</th>\n",
              "      <td>AL</td>\n",
              "      <td>Bibb County</td>\n",
              "      <td>8644</td>\n",
              "      <td>6262</td>\n",
              "      <td>2299</td>\n",
              "      <td>26.60</td>\n",
              "    </tr>\n",
              "    <tr>\n",
              "      <th>4</th>\n",
              "      <td>AL</td>\n",
              "      <td>Blount County</td>\n",
              "      <td>24267</td>\n",
              "      <td>20389</td>\n",
              "      <td>3522</td>\n",
              "      <td>14.50</td>\n",
              "    </tr>\n",
              "    <tr>\n",
              "      <th>...</th>\n",
              "      <td>...</td>\n",
              "      <td>...</td>\n",
              "      <td>...</td>\n",
              "      <td>...</td>\n",
              "      <td>...</td>\n",
              "      <td>...</td>\n",
              "    </tr>\n",
              "    <tr>\n",
              "      <th>3149</th>\n",
              "      <td>AK</td>\n",
              "      <td>State House District 36, Kodiak</td>\n",
              "      <td>6673</td>\n",
              "      <td>4201</td>\n",
              "      <td>2264</td>\n",
              "      <td>33.93</td>\n",
              "    </tr>\n",
              "    <tr>\n",
              "      <th>3150</th>\n",
              "      <td>AK</td>\n",
              "      <td>State House District 37, Bristol Bay-Aleuti</td>\n",
              "      <td>4665</td>\n",
              "      <td>2661</td>\n",
              "      <td>1868</td>\n",
              "      <td>40.04</td>\n",
              "    </tr>\n",
              "    <tr>\n",
              "      <th>3151</th>\n",
              "      <td>AK</td>\n",
              "      <td>State House District 38, Bethel</td>\n",
              "      <td>4820</td>\n",
              "      <td>2056</td>\n",
              "      <td>2549</td>\n",
              "      <td>52.88</td>\n",
              "    </tr>\n",
              "    <tr>\n",
              "      <th>3152</th>\n",
              "      <td>AK</td>\n",
              "      <td>State House District 39, Bering Straits</td>\n",
              "      <td>5184</td>\n",
              "      <td>2323</td>\n",
              "      <td>2695</td>\n",
              "      <td>51.99</td>\n",
              "    </tr>\n",
              "    <tr>\n",
              "      <th>3153</th>\n",
              "      <td>AK</td>\n",
              "      <td>State House District 40, Arctic</td>\n",
              "      <td>5000</td>\n",
              "      <td>2686</td>\n",
              "      <td>2137</td>\n",
              "      <td>42.74</td>\n",
              "    </tr>\n",
              "  </tbody>\n",
              "</table>\n",
              "<p>3154 rows × 6 columns</p>\n",
              "</div>"
            ],
            "text/plain": [
              "     state                                       county  ...  vote_dem  pct_dem\n",
              "0       AL                               Autauga County  ...      6093    25.80\n",
              "1       AL                               Baldwin County  ...     19386    23.80\n",
              "2       AL                               Barbour County  ...      5697    49.00\n",
              "3       AL                                  Bibb County  ...      2299    26.60\n",
              "4       AL                                Blount County  ...      3522    14.50\n",
              "...    ...                                          ...  ...       ...      ...\n",
              "3149    AK              State House District 36, Kodiak  ...      2264    33.93\n",
              "3150    AK  State House District 37, Bristol Bay-Aleuti  ...      1868    40.04\n",
              "3151    AK              State House District 38, Bethel  ...      2549    52.88\n",
              "3152    AK      State House District 39, Bering Straits  ...      2695    51.99\n",
              "3153    AK              State House District 40, Arctic  ...      2137    42.74\n",
              "\n",
              "[3154 rows x 6 columns]"
            ]
          },
          "metadata": {
            "tags": []
          },
          "execution_count": 5
        }
      ]
    },
    {
      "cell_type": "code",
      "metadata": {
        "id": "ESYdUcwqUzib",
        "colab_type": "code",
        "outputId": "a1fe3261-4455-4c27-f354-d88eb02fb633",
        "colab": {
          "base_uri": "https://localhost:8080/",
          "height": 419
        }
      },
      "source": [
        "df_swing[['state', 'county', 'pct_dem']]"
      ],
      "execution_count": 6,
      "outputs": [
        {
          "output_type": "execute_result",
          "data": {
            "text/html": [
              "<div>\n",
              "<style scoped>\n",
              "    .dataframe tbody tr th:only-of-type {\n",
              "        vertical-align: middle;\n",
              "    }\n",
              "\n",
              "    .dataframe tbody tr th {\n",
              "        vertical-align: top;\n",
              "    }\n",
              "\n",
              "    .dataframe thead th {\n",
              "        text-align: right;\n",
              "    }\n",
              "</style>\n",
              "<table border=\"1\" class=\"dataframe\">\n",
              "  <thead>\n",
              "    <tr style=\"text-align: right;\">\n",
              "      <th></th>\n",
              "      <th>state</th>\n",
              "      <th>county</th>\n",
              "      <th>pct_dem</th>\n",
              "    </tr>\n",
              "  </thead>\n",
              "  <tbody>\n",
              "    <tr>\n",
              "      <th>0</th>\n",
              "      <td>AL</td>\n",
              "      <td>Autauga County</td>\n",
              "      <td>25.80</td>\n",
              "    </tr>\n",
              "    <tr>\n",
              "      <th>1</th>\n",
              "      <td>AL</td>\n",
              "      <td>Baldwin County</td>\n",
              "      <td>23.80</td>\n",
              "    </tr>\n",
              "    <tr>\n",
              "      <th>2</th>\n",
              "      <td>AL</td>\n",
              "      <td>Barbour County</td>\n",
              "      <td>49.00</td>\n",
              "    </tr>\n",
              "    <tr>\n",
              "      <th>3</th>\n",
              "      <td>AL</td>\n",
              "      <td>Bibb County</td>\n",
              "      <td>26.60</td>\n",
              "    </tr>\n",
              "    <tr>\n",
              "      <th>4</th>\n",
              "      <td>AL</td>\n",
              "      <td>Blount County</td>\n",
              "      <td>14.50</td>\n",
              "    </tr>\n",
              "    <tr>\n",
              "      <th>...</th>\n",
              "      <td>...</td>\n",
              "      <td>...</td>\n",
              "      <td>...</td>\n",
              "    </tr>\n",
              "    <tr>\n",
              "      <th>3149</th>\n",
              "      <td>AK</td>\n",
              "      <td>State House District 36, Kodiak</td>\n",
              "      <td>33.93</td>\n",
              "    </tr>\n",
              "    <tr>\n",
              "      <th>3150</th>\n",
              "      <td>AK</td>\n",
              "      <td>State House District 37, Bristol Bay-Aleuti</td>\n",
              "      <td>40.04</td>\n",
              "    </tr>\n",
              "    <tr>\n",
              "      <th>3151</th>\n",
              "      <td>AK</td>\n",
              "      <td>State House District 38, Bethel</td>\n",
              "      <td>52.88</td>\n",
              "    </tr>\n",
              "    <tr>\n",
              "      <th>3152</th>\n",
              "      <td>AK</td>\n",
              "      <td>State House District 39, Bering Straits</td>\n",
              "      <td>51.99</td>\n",
              "    </tr>\n",
              "    <tr>\n",
              "      <th>3153</th>\n",
              "      <td>AK</td>\n",
              "      <td>State House District 40, Arctic</td>\n",
              "      <td>42.74</td>\n",
              "    </tr>\n",
              "  </tbody>\n",
              "</table>\n",
              "<p>3154 rows × 3 columns</p>\n",
              "</div>"
            ],
            "text/plain": [
              "     state                                       county  pct_dem\n",
              "0       AL                               Autauga County    25.80\n",
              "1       AL                               Baldwin County    23.80\n",
              "2       AL                               Barbour County    49.00\n",
              "3       AL                                  Bibb County    26.60\n",
              "4       AL                                Blount County    14.50\n",
              "...    ...                                          ...      ...\n",
              "3149    AK              State House District 36, Kodiak    33.93\n",
              "3150    AK  State House District 37, Bristol Bay-Aleuti    40.04\n",
              "3151    AK              State House District 38, Bethel    52.88\n",
              "3152    AK      State House District 39, Bering Straits    51.99\n",
              "3153    AK              State House District 40, Arctic    42.74\n",
              "\n",
              "[3154 rows x 3 columns]"
            ]
          },
          "metadata": {
            "tags": []
          },
          "execution_count": 6
        }
      ]
    },
    {
      "cell_type": "code",
      "metadata": {
        "id": "uKR3uvgQUzih",
        "colab_type": "code",
        "outputId": "4facd3c3-86e5-4b21-c6b6-91dfb10a2bc5",
        "colab": {
          "base_uri": "https://localhost:8080/",
          "height": 285
        }
      },
      "source": [
        "sns.set()\n",
        "_=plt.hist(df_swing['pct_rep'])\n",
        "_=plt.xlabel('votes for rep')\n",
        "_=plt.ylabel('number of counties')\n",
        "plt.show()\n"
      ],
      "execution_count": 7,
      "outputs": [
        {
          "output_type": "display_data",
          "data": {
            "image/png": "[encoded data removed]",
            "text/plain": [
              "<Figure size 432x288 with 1 Axes>"
            ]
          },
          "metadata": {
            "tags": []
          }
        }
      ]
    },
    {
      "cell_type": "code",
      "metadata": {
        "id": "-CUUfuohUzim",
        "colab_type": "code",
        "outputId": "c17b7431-df2d-4226-8b20-ec5c51ef9438",
        "colab": {
          "base_uri": "https://localhost:8080/",
          "height": 285
        }
      },
      "source": [
        "bin_edges = range(0,100,10) #[0,20,30,40,50,60,70,80,90,100]\n",
        "sns.set()\n",
        "_=plt.hist(df_swing['pct_rep'],bins=bin_edges)\n",
        "_=plt.xlabel('votes for rep')\n",
        "_=plt.ylabel('number of counties')\n",
        "plt.show()"
      ],
      "execution_count": 8,
      "outputs": [
        {
          "output_type": "display_data",
          "data": {
            "image/png": "[encoded data removed]",
            "text/plain": [
              "<Figure size 432x288 with 1 Axes>"
            ]
          },
          "metadata": {
            "tags": []
          }
        }
      ]
    },
    {
      "cell_type": "code",
      "metadata": {
        "id": "VRaolfPqUzis",
        "colab_type": "code",
        "outputId": "6b969019-7b69-4459-fff8-507f2d19e661",
        "colab": {
          "base_uri": "https://localhost:8080/",
          "height": 85
        }
      },
      "source": [
        "df_OH=df_swing[df_swing.state == 'OH']\n",
        "df_PA=df_swing[df_swing.state == 'PA']\n",
        "df_FL=df_swing[df_swing.state == 'FL']\n",
        "df_states=df_OH\n",
        "df_states=df_states.append(df_PA)\n",
        "df_states=df_states.append(df_FL)\n",
        "\n",
        "df_states.state.value_counts()\n",
        "\n"
      ],
      "execution_count": 0,
      "outputs": [
        {
          "output_type": "execute_result",
          "data": {
            "text/plain": [
              "OH    88\n",
              "FL    67\n",
              "PA    67\n",
              "Name: state, dtype: int64"
            ]
          },
          "metadata": {
            "tags": []
          },
          "execution_count": 29
        }
      ]
    },
    {
      "cell_type": "code",
      "metadata": {
        "id": "sgHp_w1UUzi2",
        "colab_type": "code",
        "outputId": "76168595-0b61-4766-edeb-1f3979abfd7e",
        "colab": {
          "base_uri": "https://localhost:8080/",
          "height": 288
        }
      },
      "source": [
        "sns.set()\n",
        "plot = plt.hist(df_states['pct_dem'])\n",
        "plot = plt.xlabel('percentage of votes for obama')\n",
        "plot = plt.ylabel('number of counties')\n",
        "plt.show()"
      ],
      "execution_count": 0,
      "outputs": [
        {
          "output_type": "display_data",
          "data": {
            "image/png": "[encoded data removed]",
            "text/plain": [
              "<Figure size 432x288 with 1 Axes>"
            ]
          },
          "metadata": {
            "tags": []
          }
        }
      ]
    },
    {
      "cell_type": "code",
      "metadata": {
        "id": "xWBvB2WVUzi6",
        "colab_type": "code",
        "outputId": "04154ec0-cf40-412f-e1d8-b119b25e6120",
        "colab": {
          "base_uri": "https://localhost:8080/",
          "height": 877
        }
      },
      "source": [
        "_ = sns.swarmplot(x='state', y='pct_dem', data=df_states)\n",
        "_= plt.xlabel('state')\n",
        "_= plt.ylabel('percentage of votes for obama')\n",
        "plt.show()\n",
        "df_states"
      ],
      "execution_count": 0,
      "outputs": [
        {
          "output_type": "display_data",
          "data": {
            "image/png": "[encoded data removed]",
            "text/plain": [
              "<Figure size 432x288 with 1 Axes>"
            ]
          },
          "metadata": {
            "tags": []
          }
        },
        {
          "output_type": "execute_result",
          "data": {
            "text/html": [
              "<div>\n",
              "<style scoped>\n",
              "    .dataframe tbody tr th:only-of-type {\n",
              "        vertical-align: middle;\n",
              "    }\n",
              "\n",
              "    .dataframe tbody tr th {\n",
              "        vertical-align: top;\n",
              "    }\n",
              "\n",
              "    .dataframe thead th {\n",
              "        text-align: right;\n",
              "    }\n",
              "</style>\n",
              "<table border=\"1\" class=\"dataframe\">\n",
              "  <thead>\n",
              "    <tr style=\"text-align: right;\">\n",
              "      <th></th>\n",
              "      <th>year</th>\n",
              "      <th>state</th>\n",
              "      <th>county</th>\n",
              "      <th>fips</th>\n",
              "      <th>vote_rep</th>\n",
              "      <th>vote_dem</th>\n",
              "      <th>vote_oth</th>\n",
              "      <th>vote_total</th>\n",
              "      <th>pct_rep</th>\n",
              "      <th>pct_dem</th>\n",
              "      <th>pct_oth</th>\n",
              "      <th>winner</th>\n",
              "      <th>runnerup</th>\n",
              "      <th>pct_winner</th>\n",
              "      <th>margin_winner_over_runnerup</th>\n",
              "    </tr>\n",
              "  </thead>\n",
              "  <tbody>\n",
              "    <tr>\n",
              "      <th>2014</th>\n",
              "      <td>2008</td>\n",
              "      <td>OH</td>\n",
              "      <td>Adams County</td>\n",
              "      <td>39001</td>\n",
              "      <td>6914</td>\n",
              "      <td>4170</td>\n",
              "      <td>304</td>\n",
              "      <td>11388</td>\n",
              "      <td>60.70</td>\n",
              "      <td>36.60</td>\n",
              "      <td>2.70</td>\n",
              "      <td>rep</td>\n",
              "      <td>dem</td>\n",
              "      <td>60.70</td>\n",
              "      <td>24.10</td>\n",
              "    </tr>\n",
              "    <tr>\n",
              "      <th>2015</th>\n",
              "      <td>2008</td>\n",
              "      <td>OH</td>\n",
              "      <td>Allen County</td>\n",
              "      <td>39003</td>\n",
              "      <td>29940</td>\n",
              "      <td>19522</td>\n",
              "      <td>801</td>\n",
              "      <td>50263</td>\n",
              "      <td>59.60</td>\n",
              "      <td>38.80</td>\n",
              "      <td>1.60</td>\n",
              "      <td>rep</td>\n",
              "      <td>dem</td>\n",
              "      <td>59.60</td>\n",
              "      <td>20.80</td>\n",
              "    </tr>\n",
              "    <tr>\n",
              "      <th>2016</th>\n",
              "      <td>2008</td>\n",
              "      <td>OH</td>\n",
              "      <td>Ashland County</td>\n",
              "      <td>39005</td>\n",
              "      <td>15158</td>\n",
              "      <td>9300</td>\n",
              "      <td>710</td>\n",
              "      <td>25168</td>\n",
              "      <td>60.20</td>\n",
              "      <td>37.00</td>\n",
              "      <td>2.80</td>\n",
              "      <td>rep</td>\n",
              "      <td>dem</td>\n",
              "      <td>60.20</td>\n",
              "      <td>23.20</td>\n",
              "    </tr>\n",
              "    <tr>\n",
              "      <th>2017</th>\n",
              "      <td>2008</td>\n",
              "      <td>OH</td>\n",
              "      <td>Ashtabula County</td>\n",
              "      <td>39007</td>\n",
              "      <td>18949</td>\n",
              "      <td>25027</td>\n",
              "      <td>898</td>\n",
              "      <td>44874</td>\n",
              "      <td>42.20</td>\n",
              "      <td>55.80</td>\n",
              "      <td>2.00</td>\n",
              "      <td>dem</td>\n",
              "      <td>rep</td>\n",
              "      <td>55.80</td>\n",
              "      <td>13.60</td>\n",
              "    </tr>\n",
              "    <tr>\n",
              "      <th>2018</th>\n",
              "      <td>2008</td>\n",
              "      <td>OH</td>\n",
              "      <td>Athens County</td>\n",
              "      <td>39009</td>\n",
              "      <td>9742</td>\n",
              "      <td>20722</td>\n",
              "      <td>634</td>\n",
              "      <td>31098</td>\n",
              "      <td>31.33</td>\n",
              "      <td>66.63</td>\n",
              "      <td>2.04</td>\n",
              "      <td>dem</td>\n",
              "      <td>rep</td>\n",
              "      <td>66.63</td>\n",
              "      <td>35.30</td>\n",
              "    </tr>\n",
              "    <tr>\n",
              "      <th>...</th>\n",
              "      <td>...</td>\n",
              "      <td>...</td>\n",
              "      <td>...</td>\n",
              "      <td>...</td>\n",
              "      <td>...</td>\n",
              "      <td>...</td>\n",
              "      <td>...</td>\n",
              "      <td>...</td>\n",
              "      <td>...</td>\n",
              "      <td>...</td>\n",
              "      <td>...</td>\n",
              "      <td>...</td>\n",
              "      <td>...</td>\n",
              "      <td>...</td>\n",
              "      <td>...</td>\n",
              "    </tr>\n",
              "    <tr>\n",
              "      <th>353</th>\n",
              "      <td>2008</td>\n",
              "      <td>FL</td>\n",
              "      <td>Union County</td>\n",
              "      <td>12125</td>\n",
              "      <td>3940</td>\n",
              "      <td>1300</td>\n",
              "      <td>53</td>\n",
              "      <td>5293</td>\n",
              "      <td>74.44</td>\n",
              "      <td>24.56</td>\n",
              "      <td>1.00</td>\n",
              "      <td>rep</td>\n",
              "      <td>dem</td>\n",
              "      <td>74.44</td>\n",
              "      <td>49.88</td>\n",
              "    </tr>\n",
              "    <tr>\n",
              "      <th>354</th>\n",
              "      <td>2008</td>\n",
              "      <td>FL</td>\n",
              "      <td>Volusia County</td>\n",
              "      <td>12127</td>\n",
              "      <td>113938</td>\n",
              "      <td>127795</td>\n",
              "      <td>2091</td>\n",
              "      <td>243824</td>\n",
              "      <td>46.73</td>\n",
              "      <td>52.41</td>\n",
              "      <td>0.86</td>\n",
              "      <td>dem</td>\n",
              "      <td>rep</td>\n",
              "      <td>52.41</td>\n",
              "      <td>5.68</td>\n",
              "    </tr>\n",
              "    <tr>\n",
              "      <th>355</th>\n",
              "      <td>2008</td>\n",
              "      <td>FL</td>\n",
              "      <td>Wakulla County</td>\n",
              "      <td>12129</td>\n",
              "      <td>8877</td>\n",
              "      <td>5311</td>\n",
              "      <td>188</td>\n",
              "      <td>14376</td>\n",
              "      <td>61.75</td>\n",
              "      <td>36.94</td>\n",
              "      <td>1.31</td>\n",
              "      <td>rep</td>\n",
              "      <td>dem</td>\n",
              "      <td>61.75</td>\n",
              "      <td>24.81</td>\n",
              "    </tr>\n",
              "    <tr>\n",
              "      <th>356</th>\n",
              "      <td>2008</td>\n",
              "      <td>FL</td>\n",
              "      <td>Walton County</td>\n",
              "      <td>12131</td>\n",
              "      <td>19561</td>\n",
              "      <td>7174</td>\n",
              "      <td>311</td>\n",
              "      <td>27046</td>\n",
              "      <td>72.32</td>\n",
              "      <td>26.53</td>\n",
              "      <td>1.15</td>\n",
              "      <td>rep</td>\n",
              "      <td>dem</td>\n",
              "      <td>72.32</td>\n",
              "      <td>45.79</td>\n",
              "    </tr>\n",
              "    <tr>\n",
              "      <th>357</th>\n",
              "      <td>2008</td>\n",
              "      <td>FL</td>\n",
              "      <td>Washington County</td>\n",
              "      <td>12133</td>\n",
              "      <td>8178</td>\n",
              "      <td>2863</td>\n",
              "      <td>90</td>\n",
              "      <td>11131</td>\n",
              "      <td>73.47</td>\n",
              "      <td>25.72</td>\n",
              "      <td>0.81</td>\n",
              "      <td>rep</td>\n",
              "      <td>dem</td>\n",
              "      <td>73.47</td>\n",
              "      <td>47.75</td>\n",
              "    </tr>\n",
              "  </tbody>\n",
              "</table>\n",
              "<p>222 rows × 15 columns</p>\n",
              "</div>"
            ],
            "text/plain": [
              "      year state  ... pct_winner margin_winner_over_runnerup\n",
              "2014  2008    OH  ...      60.70                       24.10\n",
              "2015  2008    OH  ...      59.60                       20.80\n",
              "2016  2008    OH  ...      60.20                       23.20\n",
              "2017  2008    OH  ...      55.80                       13.60\n",
              "2018  2008    OH  ...      66.63                       35.30\n",
              "...    ...   ...  ...        ...                         ...\n",
              "353   2008    FL  ...      74.44                       49.88\n",
              "354   2008    FL  ...      52.41                        5.68\n",
              "355   2008    FL  ...      61.75                       24.81\n",
              "356   2008    FL  ...      72.32                       45.79\n",
              "357   2008    FL  ...      73.47                       47.75\n",
              "\n",
              "[222 rows x 15 columns]"
            ]
          },
          "metadata": {
            "tags": []
          },
          "execution_count": 32
        }
      ]
    },
    {
      "cell_type": "code",
      "metadata": {
        "id": "sS1GCXCVUzjA",
        "colab_type": "code",
        "colab": {}
      },
      "source": [
        "def ecdf(data):\n",
        "    \"\"\"Compute ECDF for a one-dimensional array of measurements.\"\"\"\n",
        "\n",
        "    # Number of data points: n\n",
        "    n = len(data)\n",
        "\n",
        "    # x-data for the ECDF: x\n",
        "    x = np.sort(data)\n",
        "\n",
        "    # y-data for the ECDF: y\n",
        "    y = np.arange(1, n+1) / n\n",
        "\n",
        "    return x, y"
      ],
      "execution_count": 0,
      "outputs": []
    },
    {
      "cell_type": "code",
      "metadata": {
        "id": "_aTuds6yUzjH",
        "colab_type": "code",
        "outputId": "7f7f93b7-38e6-4a00-e042-a983bca905a5",
        "colab": {
          "base_uri": "https://localhost:8080/",
          "height": 285
        }
      },
      "source": [
        "# Compute ECDF for versicolor data: x_vers, y_vers\n",
        "x_OH, y_OH = ecdf(df_OH['pct_dem'])\n",
        "x_PA, y_PA = ecdf(df_PA['pct_dem'])\n",
        "x_FL, y_FL = ecdf(df_FL['pct_dem'])\n",
        "\n",
        "# Generate plot\n",
        "_ = plt.plot(x_OH, y_OH, marker='.', linestyle='none')\n",
        "_ = plt.plot(x_PA, y_PA, marker='.', linestyle='none')\n",
        "_ = plt.plot(x_FL, y_FL, marker='.', linestyle='none')\n",
        "# Make the margins nice\n",
        "plt.margins(0.02)\n",
        "\n",
        "# Label the axes\n",
        "_ = plt.legend(('OH', 'PA', 'FL'), loc='lower right')\n",
        "_ = plt.xlabel('petal length (cm)')\n",
        "_ = plt.ylabel('ECDF')\n",
        "\n",
        "# Display the plot\n",
        "plt.show()"
      ],
      "execution_count": 0,
      "outputs": [
        {
          "output_type": "display_data",
          "data": {
            "image/png": "[encoded data removed]",
            "text/plain": [
              "<Figure size 432x288 with 1 Axes>"
            ]
          },
          "metadata": {
            "tags": []
          }
        }
      ]
    },
    {
      "cell_type": "code",
      "metadata": {
        "id": "Nf3dPbZvUzjN",
        "colab_type": "code",
        "outputId": "0b65c720-f1aa-4ff6-8b74-783169566f88",
        "colab": {}
      },
      "source": [
        "df_states=df_states[['state','vote_total','vote_rep','vote_dem','pct_dem']];\n",
        "df_states.describe()"
      ],
      "execution_count": 0,
      "outputs": [
        {
          "output_type": "execute_result",
          "data": {
            "text/html": [
              "<div>\n",
              "<style scoped>\n",
              "    .dataframe tbody tr th:only-of-type {\n",
              "        vertical-align: middle;\n",
              "    }\n",
              "\n",
              "    .dataframe tbody tr th {\n",
              "        vertical-align: top;\n",
              "    }\n",
              "\n",
              "    .dataframe thead th {\n",
              "        text-align: right;\n",
              "    }\n",
              "</style>\n",
              "<table border=\"1\" class=\"dataframe\">\n",
              "  <thead>\n",
              "    <tr style=\"text-align: right;\">\n",
              "      <th></th>\n",
              "      <th>vote_total</th>\n",
              "      <th>vote_rep</th>\n",
              "      <th>vote_dem</th>\n",
              "      <th>pct_dem</th>\n",
              "    </tr>\n",
              "  </thead>\n",
              "  <tbody>\n",
              "    <tr>\n",
              "      <td>count</td>\n",
              "      <td>222.000000</td>\n",
              "      <td>222.000000</td>\n",
              "      <td>222.000000</td>\n",
              "      <td>222.000000</td>\n",
              "    </tr>\n",
              "    <tr>\n",
              "      <td>mean</td>\n",
              "      <td>90424.513514</td>\n",
              "      <td>42236.567568</td>\n",
              "      <td>47214.283784</td>\n",
              "      <td>43.114595</td>\n",
              "    </tr>\n",
              "    <tr>\n",
              "      <td>std</td>\n",
              "      <td>142285.290653</td>\n",
              "      <td>56208.862490</td>\n",
              "      <td>88913.077046</td>\n",
              "      <td>10.602505</td>\n",
              "    </tr>\n",
              "    <tr>\n",
              "      <td>min</td>\n",
              "      <td>2245.000000</td>\n",
              "      <td>1323.000000</td>\n",
              "      <td>642.000000</td>\n",
              "      <td>6.600000</td>\n",
              "    </tr>\n",
              "    <tr>\n",
              "      <td>25%</td>\n",
              "      <td>16537.250000</td>\n",
              "      <td>9203.750000</td>\n",
              "      <td>6337.500000</td>\n",
              "      <td>36.605000</td>\n",
              "    </tr>\n",
              "    <tr>\n",
              "      <td>50%</td>\n",
              "      <td>32491.000000</td>\n",
              "      <td>18050.500000</td>\n",
              "      <td>14392.000000</td>\n",
              "      <td>42.640000</td>\n",
              "    </tr>\n",
              "    <tr>\n",
              "      <td>75%</td>\n",
              "      <td>95516.750000</td>\n",
              "      <td>50651.750000</td>\n",
              "      <td>41623.000000</td>\n",
              "      <td>49.182500</td>\n",
              "    </tr>\n",
              "    <tr>\n",
              "      <td>max</td>\n",
              "      <td>863486.000000</td>\n",
              "      <td>360551.000000</td>\n",
              "      <td>595980.000000</td>\n",
              "      <td>83.080000</td>\n",
              "    </tr>\n",
              "  </tbody>\n",
              "</table>\n",
              "</div>"
            ],
            "text/plain": [
              "          vote_total       vote_rep       vote_dem     pct_dem\n",
              "count     222.000000     222.000000     222.000000  222.000000\n",
              "mean    90424.513514   42236.567568   47214.283784   43.114595\n",
              "std    142285.290653   56208.862490   88913.077046   10.602505\n",
              "min      2245.000000    1323.000000     642.000000    6.600000\n",
              "25%     16537.250000    9203.750000    6337.500000   36.605000\n",
              "50%     32491.000000   18050.500000   14392.000000   42.640000\n",
              "75%     95516.750000   50651.750000   41623.000000   49.182500\n",
              "max    863486.000000  360551.000000  595980.000000   83.080000"
            ]
          },
          "metadata": {
            "tags": []
          },
          "execution_count": 55
        }
      ]
    },
    {
      "cell_type": "code",
      "metadata": {
        "id": "9woe7OZlUzjT",
        "colab_type": "code",
        "outputId": "3db1d85a-8b2e-4ac0-f8f5-e112329d0c61",
        "colab": {}
      },
      "source": [
        "df_states.mean()"
      ],
      "execution_count": 0,
      "outputs": [
        {
          "output_type": "execute_result",
          "data": {
            "text/plain": [
              "vote_total    90424.513514\n",
              "vote_rep      42236.567568\n",
              "vote_dem      47214.283784\n",
              "pct_dem          43.114595\n",
              "dtype: float64"
            ]
          },
          "metadata": {
            "tags": []
          },
          "execution_count": 56
        }
      ]
    },
    {
      "cell_type": "code",
      "metadata": {
        "id": "2InxL9LxUzjc",
        "colab_type": "code",
        "outputId": "5cfa8ca5-6c4f-4653-a2d1-aa00b2b07ac7",
        "colab": {}
      },
      "source": [
        "df_states.median()"
      ],
      "execution_count": 0,
      "outputs": [
        {
          "output_type": "execute_result",
          "data": {
            "text/plain": [
              "vote_total    32491.00\n",
              "vote_rep      18050.50\n",
              "vote_dem      14392.00\n",
              "pct_dem          42.64\n",
              "dtype: float64"
            ]
          },
          "metadata": {
            "tags": []
          },
          "execution_count": 57
        }
      ]
    },
    {
      "cell_type": "code",
      "metadata": {
        "id": "m8_0Q33XUzjh",
        "colab_type": "code",
        "outputId": "44a78b1c-5d88-4b07-eee5-f95c075daa25",
        "colab": {}
      },
      "source": [
        "np.percentile(df_states['pct_dem'], [25,50,75])"
      ],
      "execution_count": 0,
      "outputs": [
        {
          "output_type": "execute_result",
          "data": {
            "text/plain": [
              "array([36.605 , 42.64  , 49.1825])"
            ]
          },
          "metadata": {
            "tags": []
          },
          "execution_count": 58
        }
      ]
    },
    {
      "cell_type": "code",
      "metadata": {
        "id": "i394giWaUzjl",
        "colab_type": "code",
        "outputId": "c7c06f89-b77a-482b-eccd-77a1867f0d6b",
        "colab": {}
      },
      "source": [
        "sns.boxplot(x='state', y='pct_dem', data=df_states)\n",
        "plt.xlabel('state')\n",
        "plt.ylabel('percentage of votes for obama')\n",
        "plt.show()\n",
        "#annotate percentiles and outliers\n",
        "#calculate if outliers"
      ],
      "execution_count": 0,
      "outputs": [
        {
          "output_type": "display_data",
          "data": {
            "image/png": "[encoded data removed]",
            "text/plain": [
              "<Figure size 432x288 with 1 Axes>"
            ]
          },
          "metadata": {
            "tags": []
          }
        }
      ]
    },
    {
      "cell_type": "code",
      "metadata": {
        "id": "Y34BinqfUzjq",
        "colab_type": "code",
        "outputId": "ae778c5b-f45d-4db6-8b06-605c53fb5ebf",
        "colab": {}
      },
      "source": [
        "np.var(df_states['pct_dem'])"
      ],
      "execution_count": 0,
      "outputs": [
        {
          "output_type": "execute_result",
          "data": {
            "text/plain": [
              "111.90675006087173"
            ]
          },
          "metadata": {
            "tags": []
          },
          "execution_count": 65
        }
      ]
    },
    {
      "cell_type": "code",
      "metadata": {
        "id": "-o7FKSnMUzju",
        "colab_type": "code",
        "outputId": "66604d62-07f5-4575-a2ad-b40873e1cf80",
        "colab": {}
      },
      "source": [
        "#scatter plot\n",
        "plt.plot(df_states['vote_total']/1000, df_states['pct_dem'], marker='.', linestyle='none')\n",
        "plt.xlabel('votes (thousands)')\n",
        "plt.ylabel('percentage of votes for obama')"
      ],
      "execution_count": 0,
      "outputs": [
        {
          "output_type": "execute_result",
          "data": {
            "text/plain": [
              "Text(0, 0.5, 'percentage of votes for obama')"
            ]
          },
          "metadata": {
            "tags": []
          },
          "execution_count": 64
        },
        {
          "output_type": "display_data",
          "data": {
            "image/png": "[encoded data removed]",
            "text/plain": [
              "<Figure size 432x288 with 1 Axes>"
            ]
          },
          "metadata": {
            "tags": []
          }
        }
      ]
    },
    {
      "cell_type": "code",
      "metadata": {
        "id": "Xl9Xw4x1Uzj0",
        "colab_type": "code",
        "colab": {}
      },
      "source": [
        ""
      ],
      "execution_count": 0,
      "outputs": []
    }
  ]
}