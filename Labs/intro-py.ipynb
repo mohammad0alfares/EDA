{
  "nbformat": 4,
  "nbformat_minor": 0,
  "metadata": {
    "anaconda-cloud": {},
    "kernelspec": {
      "display_name": "Python 3",
      "language": "python",
      "name": "python3"
    },
    "language_info": {
      "codemirror_mode": {
        "name": "ipython",
        "version": 3
      },
      "file_extension": ".py",
      "mimetype": "text/x-python",
      "name": "python",
      "nbconvert_exporter": "python",
      "pygments_lexer": "ipython3",
      "version": "3.7.4"
    },
    "colab": {
      "name": "intro-py.ipynb",
      "provenance": []
    }
  },
  "cells": [
    {
      "cell_type": "markdown",
      "metadata": {
        "id": "uNoWFWapEgki",
        "colab_type": "text"
      },
      "source": [
        "\n",
        "\n",
        "# Lab 1: The Python Numerical stack and EDA"
      ]
    },
    {
      "cell_type": "markdown",
      "metadata": {
        "id": "iuH71EM0Egkl",
        "colab_type": "text"
      },
      "source": [
        "# Table of Contents \n",
        "\n",
        "<ol start=\"0\">\n",
        "<li> Learning Goals </li>\n",
        "<li> Functions </li>\n",
        "<li> Introduction to Numpy </li>\n",
        "<li> Introduction to Pandas </li>\n",
        "<li> Beginning Exploratory Data Analysis (EDA)</li>\n",
        "<li> Conclusions </li>\n",
        "</ol>"
      ]
    },
    {
      "cell_type": "markdown",
      "metadata": {
        "id": "sNplsaCJEgkn",
        "colab_type": "text"
      },
      "source": [
        "## Part 0: Learning Goals \n",
        "In this lab we pick up where we left off in lab 0, introducing functions and exploring numpy, a module which allows for mathematical manipulation of arrays.  We load a dataset first as a numpy array and then as a pandas dataframe, and begin exploratory data analysis (EDA). \n",
        "\n",
        "By the end of this lab, you will be able to:\n",
        "\n",
        "- Write user-defined functions to perform repetitive tasks.\n",
        "- Create and manipulate one-dimensional and two-dimensional numpy arrays, and pandas series and dataframes.\n",
        "- Describe how to index and \"type\" Pandas Series and Dataframes.\n",
        "- Create histograms and scatter plots for basic exploratory data analysis\n",
        "\n",
        "\n",
        "*This lab maps on to lecture 1, lecture 2, lecture 3 and to parts of homework 1.  Next Monday's lecture will address scraping, which is also needed for homework 1.*"
      ]
    },
    {
      "cell_type": "markdown",
      "metadata": {
        "id": "RwrfKmd8Egkq",
        "colab_type": "text"
      },
      "source": [
        "We first import the necessary libraries.  Besides the numpy and matplotlib libraries that we saw in lab 0, we also import pandas and seaborn, which will be discussed in more detail in this lab."
      ]
    },
    {
      "cell_type": "code",
      "metadata": {
        "id": "smGeCyCaEgks",
        "colab_type": "code",
        "colab": {}
      },
      "source": [
        "# Prepares iPython notebook for working with matplotlib\n",
        "%matplotlib inline \n",
        "\n",
        "import numpy as np # imports a fast numerical programming library\n",
        "import matplotlib.pyplot as plt #sets up plotting under plt\n",
        "import pandas as pd #lets us handle data as dataframes\n",
        "\n",
        "#sets up pandas table display\n",
        "pd.set_option('display.width', 500)\n",
        "pd.set_option('display.max_columns', 100)\n",
        "pd.set_option('display.notebook_repr_html', True)\n",
        "\n",
        "import seaborn as sns #sets up styles and gives us more plotting options"
      ],
      "execution_count": 0,
      "outputs": []
    },
    {
      "cell_type": "markdown",
      "metadata": {
        "id": "EXrHv88vEgkz",
        "colab_type": "text"
      },
      "source": [
        "## Part 1: Functions\n",
        "\n",
        "A *function* object is a reusable block of code that does a specific task.  Functions are all over Python, either on their own or on other objects.  To invoke a function `func`, you call it as `func(arguments)`.\n",
        "\n",
        "We've seen built-in Python functions and methods.  For example, `len` and `print` are built-in Python functions.  And at the beginning of Lab 0, you called `np.mean` to calculate the mean of three numbers, where `mean` is a function in the numpy module and numpy was abbreviated as `np`. This syntax allow us to have multiple \"mean\" functions in different modules; calling this one as `np.mean` guarantees that we will pick up numpy's mean function, as opposed to a mean function from a different module.\n",
        "\n",
        "### Methods\n",
        "A function that belongs to an object is called a *method*. An example of this is `append` on an existing list. In other words, a *method* is a function on an *instance* of a type of object (also called *class*, in this case, list type)."
      ]
    },
    {
      "cell_type": "code",
      "metadata": {
        "id": "NK2ocMwqEgk1",
        "colab_type": "code",
        "outputId": "88cd5fc0-2ae9-438c-93ca-09536d45c9b0",
        "colab": {}
      },
      "source": [
        "import numpy as np # imports a fast numerical programming library\n",
        "np.mean([1, 2, 3, 4, 5])"
      ],
      "execution_count": 0,
      "outputs": [
        {
          "output_type": "execute_result",
          "data": {
            "text/plain": [
              "3.0"
            ]
          },
          "metadata": {
            "tags": []
          },
          "execution_count": 2
        }
      ]
    },
    {
      "cell_type": "code",
      "metadata": {
        "id": "HlY0e4L-Egk8",
        "colab_type": "code",
        "outputId": "aae3644a-1c52-4714-bff2-809b5b7598a2",
        "colab": {}
      },
      "source": [
        "float_list = [1.0, 2.09, 4.0, 2.0, 0.444]\n",
        "print(float_list)\n",
        "float_list.append(56.7) \n",
        "float_list"
      ],
      "execution_count": 0,
      "outputs": [
        {
          "output_type": "stream",
          "text": [
            "[1.0, 2.09, 4.0, 2.0, 0.444]\n"
          ],
          "name": "stdout"
        },
        {
          "output_type": "execute_result",
          "data": {
            "text/plain": [
              "[1.0, 2.09, 4.0, 2.0, 0.444, 56.7]"
            ]
          },
          "metadata": {
            "tags": []
          },
          "execution_count": 3
        }
      ]
    },
    {
      "cell_type": "markdown",
      "metadata": {
        "id": "e5EEOjv_EglB",
        "colab_type": "text"
      },
      "source": [
        "### User-defined functions\n",
        "\n",
        "We'll now learn to write our own user-defined functions.  Below is the syntax for defining a basic function with one input argument and one output. You can also define functions with no input or output arguments, or multiple input or output arguments.\n",
        "\n",
        "```\n",
        "def name_of_function(arg):\n",
        "    ...\n",
        "    return(output)\n",
        "```\n",
        "\n",
        "We can write functions with one input and one output argument.  Here are two such functions."
      ]
    },
    {
      "cell_type": "code",
      "metadata": {
        "id": "G8fmOVoCEglD",
        "colab_type": "code",
        "outputId": "d23b87f1-e020-4980-9e4a-6bc7d592357b",
        "colab": {}
      },
      "source": [
        "def square(x):\n",
        "    x_sqr = x*x\n",
        "    return(x_sqr)\n",
        "\n",
        "def cube(x):\n",
        "    x_cub = x*x*x\n",
        "    return(x_cub)\n",
        "\n",
        "square(5),cube(5)"
      ],
      "execution_count": 0,
      "outputs": [
        {
          "output_type": "execute_result",
          "data": {
            "text/plain": [
              "(25, 125)"
            ]
          },
          "metadata": {
            "tags": []
          },
          "execution_count": 4
        }
      ]
    },
    {
      "cell_type": "markdown",
      "metadata": {
        "id": "OwQWkrqOEglK",
        "colab_type": "text"
      },
      "source": [
        "What if you want to return two variables at a time? The usual way is to return a tuple:"
      ]
    },
    {
      "cell_type": "code",
      "metadata": {
        "id": "BtGCkdNmEglN",
        "colab_type": "code",
        "outputId": "6d04a812-7a9c-4140-fbb1-f2e96ca3a8ce",
        "colab": {}
      },
      "source": [
        "def square_and_cube(x):\n",
        "    x_cub = x*x*x\n",
        "    x_sqr = x*x\n",
        "    return(x_sqr, x_cub)\n",
        "\n",
        "square_and_cube(5)"
      ],
      "execution_count": 0,
      "outputs": [
        {
          "output_type": "execute_result",
          "data": {
            "text/plain": [
              "(25, 125)"
            ]
          },
          "metadata": {
            "tags": []
          },
          "execution_count": 5
        }
      ]
    },
    {
      "cell_type": "markdown",
      "metadata": {
        "id": "qQTd1GldEglT",
        "colab_type": "text"
      },
      "source": [
        "### Lambda functions\n",
        "\n",
        "Often we quickly define mathematical functions with a one-line function called a *lambda* function.  Lambda functions are great because they enable us to write functions without having to name them, ie, they're *anonymous*.  \n",
        "No return statement is needed. \n"
      ]
    },
    {
      "cell_type": "code",
      "metadata": {
        "id": "oq0N0ZdrEglV",
        "colab_type": "code",
        "outputId": "7e25d3b3-f8f2-4803-eb61-043e3a224ee1",
        "colab": {}
      },
      "source": [
        "square = lambda x: x*x\n",
        "print(square(3))\n",
        "\n",
        "\n",
        "hypotenuse = lambda x, y: x*x + y*y\n",
        "\n",
        "## Same as\n",
        "\n",
        "# def hypotenuse(x, y):\n",
        "#     return(x*x + y*y)\n",
        "\n",
        "hypotenuse(3,4)"
      ],
      "execution_count": 0,
      "outputs": [
        {
          "output_type": "stream",
          "text": [
            "9\n"
          ],
          "name": "stdout"
        },
        {
          "output_type": "execute_result",
          "data": {
            "text/plain": [
              "25"
            ]
          },
          "metadata": {
            "tags": []
          },
          "execution_count": 6
        }
      ]
    },
    {
      "cell_type": "markdown",
      "metadata": {
        "id": "_JYfWnz8Egle",
        "colab_type": "text"
      },
      "source": [
        "### *Refactoring* using functions\n",
        "In an exercise from Lab 0, you wrote code that generated a list of the prime numbers between 1 and 100.  For the excercise below, it may help to revisit that code.\n",
        "\n",
        ">**EXERCISE**: Write a function called `isprime` that takes in a positive integer $N$, and determines whether or not it is prime.  Return the $N$ if it's prime and return nothing if it isn't.  \n",
        "\n",
        "> Then, using a list comprehension and `isprime`, create a list `myprimes` that contains all the prime numbers less than 100.  "
      ]
    },
    {
      "cell_type": "code",
      "metadata": {
        "id": "VNERTOa_Eglf",
        "colab_type": "code",
        "outputId": "56932112-b990-491e-bab7-cbef54890cef",
        "colab": {
          "base_uri": "https://localhost:8080/",
          "height": 34
        }
      },
      "source": [
        "# your code here\n",
        "# your code here\n",
        "def isprime(X):\n",
        "  if not isinstance(X,int):\n",
        "    return False\n",
        "  if X<=1:\n",
        "    return False\n",
        "  y = [i for i in range(1,X+1) if X%i==0]\n",
        "  if len(y) > 2:\n",
        "    return False \n",
        "  return True\n",
        "\n",
        "isprime(7)"
      ],
      "execution_count": 0,
      "outputs": [
        {
          "output_type": "execute_result",
          "data": {
            "text/plain": [
              "True"
            ]
          },
          "metadata": {
            "tags": []
          },
          "execution_count": 49
        }
      ]
    },
    {
      "cell_type": "code",
      "metadata": {
        "id": "sv6VRpf3IyQf",
        "colab_type": "code",
        "colab": {}
      },
      "source": [
        "myprime = [j for j in range(1,100) if isprime(j)]\n",
        "myprime"
      ],
      "execution_count": 0,
      "outputs": []
    },
    {
      "cell_type": "markdown",
      "metadata": {
        "id": "zwkJWxEZEglk",
        "colab_type": "text"
      },
      "source": [
        "What you just did is a *refactoring* of the algorithm you used in lab 0 to find primes smaller than 100. The current implementation is much cleaner, since  `isprime`  contains the main functionality of the algorithm and can thus be *re-used* as needed.  You should aim to write code like this, where the often-repeated algorithms are written as a reuseable function.\n"
      ]
    },
    {
      "cell_type": "markdown",
      "metadata": {
        "id": "NHP74hlHEglm",
        "colab_type": "text"
      },
      "source": [
        "### Default Arguments\n",
        "\n",
        "Functions may also have *default* argument values.  Functions with default values are used extensively in many libraries.  The default values are assigned when the function is defined."
      ]
    },
    {
      "cell_type": "code",
      "metadata": {
        "id": "4eWYA2Z_Egln",
        "colab_type": "code",
        "outputId": "03adbf8f-b15f-4e11-adb6-a9ab040000a7",
        "colab": {}
      },
      "source": [
        "# This function can be called with x and y, in which case it will return x*y;\n",
        "# or it can be called with x only, in which case it will return x*1.\n",
        "def get_multiple(x, y=1):\n",
        "    return x, y, x*y\n",
        "\n",
        "print(\"With x and y:\", get_multiple(10, 2))\n",
        "print(\"With x only:\", get_multiple(10))"
      ],
      "execution_count": 0,
      "outputs": [
        {
          "output_type": "stream",
          "text": [
            "With x and y: (10, 2, 20)\n",
            "With x only: (10, 1, 10)\n"
          ],
          "name": "stdout"
        }
      ]
    },
    {
      "cell_type": "markdown",
      "metadata": {
        "id": "RzLMJIl6Eglt",
        "colab_type": "text"
      },
      "source": [
        "Note that you can use the name of the argument in functions, but you must either use all the names, or get the position of the argument correct in the function call:"
      ]
    },
    {
      "cell_type": "code",
      "metadata": {
        "id": "OcvHnOyMEglu",
        "colab_type": "code",
        "outputId": "fe46e5e1-a59f-4f25-9e96-e355f66ae605",
        "colab": {}
      },
      "source": [
        "get_multiple(x=3), get_multiple(x=3, y=4)"
      ],
      "execution_count": 0,
      "outputs": [
        {
          "output_type": "execute_result",
          "data": {
            "text/plain": [
              "((3, 1, 3), (3, 4, 12))"
            ]
          },
          "metadata": {
            "tags": []
          },
          "execution_count": 9
        }
      ]
    },
    {
      "cell_type": "code",
      "metadata": {
        "id": "-5AwJcu1Eglw",
        "colab_type": "code",
        "outputId": "e17f633a-c376-4520-a7c1-a02d6363ce53",
        "colab": {}
      },
      "source": [
        "get_multiple(y=4, x=3), get_multiple(3, y=4)"
      ],
      "execution_count": 0,
      "outputs": [
        {
          "output_type": "execute_result",
          "data": {
            "text/plain": [
              "((3, 4, 12), (3, 4, 12))"
            ]
          },
          "metadata": {
            "tags": []
          },
          "execution_count": 10
        }
      ]
    },
    {
      "cell_type": "code",
      "metadata": {
        "id": "kRykoXLiEgl0",
        "colab_type": "code",
        "outputId": "6147662a-e6c6-4608-c5f6-2e73680a6f09",
        "colab": {}
      },
      "source": [
        "get_multiple(y=4, 3)"
      ],
      "execution_count": 0,
      "outputs": [
        {
          "output_type": "error",
          "ename": "SyntaxError",
          "evalue": "positional argument follows keyword argument (<ipython-input-11-e773096e795e>, line 1)",
          "traceback": [
            "\u001b[0;36m  File \u001b[0;32m\"<ipython-input-11-e773096e795e>\"\u001b[0;36m, line \u001b[0;32m1\u001b[0m\n\u001b[0;31m    get_multiple(y=4, 3)\u001b[0m\n\u001b[0m                     ^\u001b[0m\n\u001b[0;31mSyntaxError\u001b[0m\u001b[0;31m:\u001b[0m positional argument follows keyword argument\n"
          ]
        }
      ]
    },
    {
      "cell_type": "markdown",
      "metadata": {
        "id": "blbvTtFvEgl5",
        "colab_type": "text"
      },
      "source": [
        "The above error is due to the improper ordering of the *positional* and *keyword* arguments.  "
      ]
    },
    {
      "cell_type": "markdown",
      "metadata": {
        "id": "MaW3Vw8oEgl7",
        "colab_type": "text"
      },
      "source": [
        "## Part 2: Introduction to Numpy\n",
        "Scientific Python code uses a fast array structure, called the numpy array. Those who have worked in Matlab will find this very natural.   For reference, the numpy documention can be found [here](https://docs.scipy.org/doc/numpy/reference/).  \n",
        "\n",
        "Let's make a numpy array."
      ]
    },
    {
      "cell_type": "code",
      "metadata": {
        "id": "DHcpzLDXEgl-",
        "colab_type": "code",
        "outputId": "4aabde85-9b9f-487d-8583-ab4c8f663b5e",
        "colab": {
          "base_uri": "https://localhost:8080/",
          "height": 34
        }
      },
      "source": [
        "my_array = np.array([1, 2, 3, 4])\n",
        "my_array"
      ],
      "execution_count": 0,
      "outputs": [
        {
          "output_type": "execute_result",
          "data": {
            "text/plain": [
              "array([1, 2, 3, 4])"
            ]
          },
          "metadata": {
            "tags": []
          },
          "execution_count": 53
        }
      ]
    },
    {
      "cell_type": "markdown",
      "metadata": {
        "id": "3OswiKDUEgmE",
        "colab_type": "text"
      },
      "source": [
        "Numpy arrays are listy! Below we compute length, slice, and iterate. "
      ]
    },
    {
      "cell_type": "code",
      "metadata": {
        "id": "yb1NLQDZEgmF",
        "colab_type": "code",
        "outputId": "a8e5e485-c45b-4ed3-95a8-64300cedb8af",
        "colab": {
          "base_uri": "https://localhost:8080/",
          "height": 119
        }
      },
      "source": [
        "print(len(my_array))\n",
        "print(my_array[2:4])\n",
        "for ele in my_array:\n",
        "    print(ele)"
      ],
      "execution_count": 0,
      "outputs": [
        {
          "output_type": "stream",
          "text": [
            "4\n",
            "[3 4]\n",
            "1\n",
            "2\n",
            "3\n",
            "4\n"
          ],
          "name": "stdout"
        }
      ]
    },
    {
      "cell_type": "markdown",
      "metadata": {
        "id": "RsXswO7PEgmL",
        "colab_type": "text"
      },
      "source": [
        "**In general you should manipulate numpy arrays by using numpy module functions** (`np.mean`, for example). This is for efficiency purposes, and a discussion follows below this section.\n",
        "\n",
        "You can calculate the mean of the array elements either by calling the method `.mean` on a numpy array or by applying the function np.mean with the numpy array as an argument."
      ]
    },
    {
      "cell_type": "code",
      "metadata": {
        "id": "9CYHdHQrEgmM",
        "colab_type": "code",
        "outputId": "a315c367-276f-4bba-9601-99f79cad9f06",
        "colab": {
          "base_uri": "https://localhost:8080/",
          "height": 51
        }
      },
      "source": [
        "print(my_array.mean())\n",
        "print(np.mean(my_array))"
      ],
      "execution_count": 0,
      "outputs": [
        {
          "output_type": "stream",
          "text": [
            "2.5\n",
            "2.5\n"
          ],
          "name": "stdout"
        }
      ]
    },
    {
      "cell_type": "markdown",
      "metadata": {
        "id": "ncXKdxYfEgmR",
        "colab_type": "text"
      },
      "source": [
        "The way we constructed the numpy array above seems redundant..after all we already had a regular python list. Indeed, it is the other ways we have to construct numpy arrays that make them super useful. \n",
        "\n",
        "There are many such numpy array *constructors*. Here are some commonly used constructors. Look them up in the documentation."
      ]
    },
    {
      "cell_type": "code",
      "metadata": {
        "id": "3vfh0mpEEgmS",
        "colab_type": "code",
        "colab": {}
      },
      "source": [
        "np.ones(10) # generates 10 floating point ones"
      ],
      "execution_count": 0,
      "outputs": []
    },
    {
      "cell_type": "markdown",
      "metadata": {
        "id": "ZsO-JH8OEgmZ",
        "colab_type": "text"
      },
      "source": [
        "Numpy gains a lot of its efficiency from being typed. That is, all elements in the array have the same type, such as integer or floating point. The default type, as can be seen above, is a float of size appropriate for the machine (64 bit on a 64 bit machine)."
      ]
    },
    {
      "cell_type": "code",
      "metadata": {
        "id": "FiM7UWgiEgmb",
        "colab_type": "code",
        "outputId": "be65f68c-1855-4be3-be9b-a768b6988274",
        "colab": {
          "base_uri": "https://localhost:8080/",
          "height": 34
        }
      },
      "source": [
        "np.dtype(float).itemsize # in bytes"
      ],
      "execution_count": 0,
      "outputs": [
        {
          "output_type": "execute_result",
          "data": {
            "text/plain": [
              "8"
            ]
          },
          "metadata": {
            "tags": []
          },
          "execution_count": 60
        }
      ]
    },
    {
      "cell_type": "code",
      "metadata": {
        "id": "vu2Pa7phEgme",
        "colab_type": "code",
        "outputId": "2165495d-e0e6-4760-d192-5719817ebc8b",
        "colab": {
          "base_uri": "https://localhost:8080/",
          "height": 34
        }
      },
      "source": [
        "np.ones(10, dtype='int') # generates 10 integer ones"
      ],
      "execution_count": 0,
      "outputs": [
        {
          "output_type": "execute_result",
          "data": {
            "text/plain": [
              "array([1, 1, 1, 1, 1, 1, 1, 1, 1, 1])"
            ]
          },
          "metadata": {
            "tags": []
          },
          "execution_count": 59
        }
      ]
    },
    {
      "cell_type": "code",
      "metadata": {
        "id": "QkMQJcPHEgmj",
        "colab_type": "code",
        "outputId": "b5734e90-3d23-400d-d1d9-07575ee1522a",
        "colab": {
          "base_uri": "https://localhost:8080/",
          "height": 34
        }
      },
      "source": [
        "np.zeros(10)"
      ],
      "execution_count": 0,
      "outputs": [
        {
          "output_type": "execute_result",
          "data": {
            "text/plain": [
              "array([0., 0., 0., 0., 0., 0., 0., 0., 0., 0.])"
            ]
          },
          "metadata": {
            "tags": []
          },
          "execution_count": 58
        }
      ]
    },
    {
      "cell_type": "markdown",
      "metadata": {
        "id": "V_rW0sGuEgmo",
        "colab_type": "text"
      },
      "source": [
        "Often you will want random numbers. Use the `random` constructor!"
      ]
    },
    {
      "cell_type": "code",
      "metadata": {
        "id": "-xy5OqyrEgmp",
        "colab_type": "code",
        "outputId": "30293e45-1089-4899-9d47-6f495d2d0791",
        "colab": {
          "base_uri": "https://localhost:8080/",
          "height": 68
        }
      },
      "source": [
        "np.random.random(10) # uniform on [0,1]"
      ],
      "execution_count": 0,
      "outputs": [
        {
          "output_type": "execute_result",
          "data": {
            "text/plain": [
              "array([0.68499701, 0.90831234, 0.97949934, 0.51426124, 0.5557087 ,\n",
              "       0.75744438, 0.94232484, 0.97582134, 0.84153149, 0.88031365,\n",
              "       0.36537079])"
            ]
          },
          "metadata": {
            "tags": []
          },
          "execution_count": 57
        }
      ]
    },
    {
      "cell_type": "markdown",
      "metadata": {
        "id": "oYOiE-3kEgmv",
        "colab_type": "text"
      },
      "source": [
        "You can generate random numbers from a normal distribution with mean 0 and variance 1:"
      ]
    },
    {
      "cell_type": "code",
      "metadata": {
        "id": "AGY27oQfEgmw",
        "colab_type": "code",
        "outputId": "99d62904-76b3-4227-aeb6-e48445ec42b6",
        "colab": {
          "base_uri": "https://localhost:8080/",
          "height": 34
        }
      },
      "source": [
        "normal_array = np.random.randn(1000)\n",
        "print(\"The sample mean and standard devation are %f and %f, respectively.\" %(np.mean(normal_array), np.std(normal_array)))"
      ],
      "execution_count": 0,
      "outputs": [
        {
          "output_type": "stream",
          "text": [
            "The sample mean and standard devation are -0.006778 and 0.975477, respectively.\n"
          ],
          "name": "stdout"
        }
      ]
    },
    {
      "cell_type": "markdown",
      "metadata": {
        "id": "bd46huV6Egm2",
        "colab_type": "text"
      },
      "source": [
        "#### Numpy supports vector operations\n",
        "\n",
        "What does this mean? It means that instead of adding two arrays, element by element, you can just say: add the two arrays. Note that this behavior is very different from python lists."
      ]
    },
    {
      "cell_type": "code",
      "metadata": {
        "id": "Ipgz1QMWEgm4",
        "colab_type": "code",
        "outputId": "b20f0c53-aa81-4684-8bc8-513c5f062ed3",
        "colab": {
          "base_uri": "https://localhost:8080/",
          "height": 34
        }
      },
      "source": [
        "first = np.ones(5)\n",
        "second = np.ones(5)\n",
        "first + second"
      ],
      "execution_count": 5,
      "outputs": [
        {
          "output_type": "execute_result",
          "data": {
            "text/plain": [
              "array([2., 2., 2., 2., 2.])"
            ]
          },
          "metadata": {
            "tags": []
          },
          "execution_count": 5
        }
      ]
    },
    {
      "cell_type": "code",
      "metadata": {
        "id": "6LhEzpt0Egm9",
        "colab_type": "code",
        "outputId": "1d9252c6-8baa-4b05-c457-01907c1838fc",
        "colab": {
          "base_uri": "https://localhost:8080/",
          "height": 34
        }
      },
      "source": [
        "first_list = [1., 1., 1., 1., 1.]\n",
        "second_list = [1., 1., 1., 1., 1.]\n",
        "first_list + second_list #not what u want"
      ],
      "execution_count": 6,
      "outputs": [
        {
          "output_type": "execute_result",
          "data": {
            "text/plain": [
              "[1.0, 1.0, 1.0, 1.0, 1.0, 1.0, 1.0, 1.0, 1.0, 1.0]"
            ]
          },
          "metadata": {
            "tags": []
          },
          "execution_count": 6
        }
      ]
    },
    {
      "cell_type": "markdown",
      "metadata": {
        "id": "PlmZtwaqEgnC",
        "colab_type": "text"
      },
      "source": [
        "On some computer chips this addition actually happens in parallel, so speedups can be high. But even on regular chips, the advantage of greater readability is important."
      ]
    },
    {
      "cell_type": "markdown",
      "metadata": {
        "id": "ZG2stARPEgnD",
        "colab_type": "text"
      },
      "source": [
        "Numpy supports a concept known as *broadcasting*, which dictates how arrays of different sizes are combined together. There are too many rules to list here, but importantly, multiplying an array by a number multiplies each element by the number. Adding a number adds the number to each element."
      ]
    },
    {
      "cell_type": "code",
      "metadata": {
        "id": "1jIdZb2vEgnF",
        "colab_type": "code",
        "outputId": "23a034f8-18dc-42c4-8f14-2115140125f0",
        "colab": {
          "base_uri": "https://localhost:8080/",
          "height": 34
        }
      },
      "source": [
        "first + 1"
      ],
      "execution_count": 0,
      "outputs": [
        {
          "output_type": "execute_result",
          "data": {
            "text/plain": [
              "array([2., 2., 2., 2., 2.])"
            ]
          },
          "metadata": {
            "tags": []
          },
          "execution_count": 65
        }
      ]
    },
    {
      "cell_type": "code",
      "metadata": {
        "id": "OwMEssX2EgnK",
        "colab_type": "code",
        "outputId": "84f9d466-73dd-4072-b5b3-250be361714f",
        "colab": {
          "base_uri": "https://localhost:8080/",
          "height": 34
        }
      },
      "source": [
        "first*5"
      ],
      "execution_count": 0,
      "outputs": [
        {
          "output_type": "execute_result",
          "data": {
            "text/plain": [
              "array([5., 5., 5., 5., 5.])"
            ]
          },
          "metadata": {
            "tags": []
          },
          "execution_count": 66
        }
      ]
    },
    {
      "cell_type": "markdown",
      "metadata": {
        "id": "pQ8SWBlnEgnN",
        "colab_type": "text"
      },
      "source": [
        "This means that if you wanted the distribution $N(5, 7)$ you could do:"
      ]
    },
    {
      "cell_type": "code",
      "metadata": {
        "id": "xFlZyXMSEgnP",
        "colab_type": "code",
        "outputId": "07ddca8a-6911-45ef-9554-033db281b442",
        "colab": {
          "base_uri": "https://localhost:8080/",
          "height": 34
        }
      },
      "source": [
        "normal_5_7 = 5 + 7*normal_array\n",
        "np.mean(normal_5_7), np.std(normal_5_7)"
      ],
      "execution_count": 0,
      "outputs": [
        {
          "output_type": "execute_result",
          "data": {
            "text/plain": [
              "(5.071119931884262, 7.228448665230804)"
            ]
          },
          "metadata": {
            "tags": []
          },
          "execution_count": 67
        }
      ]
    },
    {
      "cell_type": "markdown",
      "metadata": {
        "id": "dDUyCoO7EgnT",
        "colab_type": "text"
      },
      "source": [
        "### 2D arrays\n",
        "Similarly, we can create two-dimensional arrays."
      ]
    },
    {
      "cell_type": "code",
      "metadata": {
        "id": "7BV9VvI0EgnU",
        "colab_type": "code",
        "outputId": "ede6d65e-0b30-4005-a1ff-a1000bf6abd1",
        "colab": {
          "base_uri": "https://localhost:8080/",
          "height": 170
        }
      },
      "source": [
        "my_array2d = np.array([ [1, 2, 3, 4], [5, 6, 7, 8], [9, 10, 11, 12] ])\n",
        "\n",
        "# 3 x 4 array of ones\n",
        "ones_2d = np.ones([3, 4])\n",
        "print(ones_2d)\n",
        "# 3 x 4 array of ones with random noise\n",
        "ones_noise = ones_2d + .01*np.random.randn(3, 4)\n",
        "print(ones_noise)\n",
        "# 3 x 3 identity matrix\n",
        "my_identity = np.eye(3)\n",
        "print(my_identity)"
      ],
      "execution_count": 7,
      "outputs": [
        {
          "output_type": "stream",
          "text": [
            "[[1. 1. 1. 1.]\n",
            " [1. 1. 1. 1.]\n",
            " [1. 1. 1. 1.]]\n",
            "[[1.01883159 0.99797534 1.00247225 1.00918532]\n",
            " [1.00300578 1.00020489 1.00078391 1.0051994 ]\n",
            " [0.98550454 1.00486772 0.99185272 0.99228753]]\n",
            "[[1. 0. 0.]\n",
            " [0. 1. 0.]\n",
            " [0. 0. 1.]]\n"
          ],
          "name": "stdout"
        }
      ]
    },
    {
      "cell_type": "markdown",
      "metadata": {
        "id": "63VkQZXUEgnY",
        "colab_type": "text"
      },
      "source": [
        "Like lists, numpy arrays are 0-indexed.  Thus we can access the $n$th row and the $m$th column of a two-dimensional array with the indices $[n - 1, m - 1]$."
      ]
    },
    {
      "cell_type": "code",
      "metadata": {
        "id": "SJu3x4DzEgnZ",
        "colab_type": "code",
        "outputId": "25c90880-dd12-4841-846a-c4428cae2ca3",
        "colab": {
          "base_uri": "https://localhost:8080/",
          "height": 85
        }
      },
      "source": [
        "print(my_array2d)\n",
        "my_array2d[2, 3]"
      ],
      "execution_count": 0,
      "outputs": [
        {
          "output_type": "stream",
          "text": [
            "[[ 1  2  3  4]\n",
            " [ 5  6  7  8]\n",
            " [ 9 10 11 12]]\n"
          ],
          "name": "stdout"
        },
        {
          "output_type": "execute_result",
          "data": {
            "text/plain": [
              "12"
            ]
          },
          "metadata": {
            "tags": []
          },
          "execution_count": 71
        }
      ]
    },
    {
      "cell_type": "markdown",
      "metadata": {
        "id": "i3sJStxqEgne",
        "colab_type": "text"
      },
      "source": [
        "Numpy arrays are listy!  They have set length (array dimensions), can be sliced, and can be iterated over with loop.  Below is a schematic illustrating slicing two-dimensional arrays.  \n",
        "\n",
        " <img src=\"https://github.com/mohammad0alfares/EDA/blob/master/Labs/images/2dindex_v2.png?raw=1\" alt=\"Drawing\" style=\"width: 500px;\"/>"
      ]
    },
    {
      "cell_type": "markdown",
      "metadata": {
        "id": "r1B67x54Egnf",
        "colab_type": "text"
      },
      "source": [
        "Earlier when we generated the one-dimensional arrays of ones and random numbers, we gave `ones` and `random`  the number of elements we wanted in the arrays. In two dimensions, we need to provide the shape of the array, ie, the number of rows and columns of the array."
      ]
    },
    {
      "cell_type": "code",
      "metadata": {
        "id": "0-GpNr84Egnh",
        "colab_type": "code",
        "outputId": "b6dcfd19-e0da-4a0d-f481-d6350a4d596f",
        "colab": {
          "base_uri": "https://localhost:8080/",
          "height": 68
        }
      },
      "source": [
        "onesarray = np.ones([3,4])\n",
        "onesarray"
      ],
      "execution_count": 0,
      "outputs": [
        {
          "output_type": "execute_result",
          "data": {
            "text/plain": [
              "array([[1., 1., 1., 1.],\n",
              "       [1., 1., 1., 1.],\n",
              "       [1., 1., 1., 1.]])"
            ]
          },
          "metadata": {
            "tags": []
          },
          "execution_count": 72
        }
      ]
    },
    {
      "cell_type": "markdown",
      "metadata": {
        "id": "LBk5JJvYEgnk",
        "colab_type": "text"
      },
      "source": [
        "You can transpose the array:"
      ]
    },
    {
      "cell_type": "code",
      "metadata": {
        "id": "yl8OS8ZxEgnl",
        "colab_type": "code",
        "outputId": "e106ea65-6df9-4fb9-b37a-fd9f4e408e47",
        "colab": {
          "base_uri": "https://localhost:8080/",
          "height": 34
        }
      },
      "source": [
        "onesarray.shape"
      ],
      "execution_count": 0,
      "outputs": [
        {
          "output_type": "execute_result",
          "data": {
            "text/plain": [
              "(3, 4)"
            ]
          },
          "metadata": {
            "tags": []
          },
          "execution_count": 73
        }
      ]
    },
    {
      "cell_type": "code",
      "metadata": {
        "id": "gg_X_7Y_Egnq",
        "colab_type": "code",
        "outputId": "dcf75e32-e9ed-45e5-bd8c-16dbb89aafcb",
        "colab": {
          "base_uri": "https://localhost:8080/",
          "height": 85
        }
      },
      "source": [
        "onesarray.T"
      ],
      "execution_count": 0,
      "outputs": [
        {
          "output_type": "execute_result",
          "data": {
            "text/plain": [
              "array([[1., 1., 1.],\n",
              "       [1., 1., 1.],\n",
              "       [1., 1., 1.],\n",
              "       [1., 1., 1.]])"
            ]
          },
          "metadata": {
            "tags": []
          },
          "execution_count": 74
        }
      ]
    },
    {
      "cell_type": "code",
      "metadata": {
        "id": "8RTJnQBVEgnt",
        "colab_type": "code",
        "outputId": "bfc980e1-0936-4c34-f644-2ae4f164a5f2",
        "colab": {
          "base_uri": "https://localhost:8080/",
          "height": 34
        }
      },
      "source": [
        "onesarray.T.shape"
      ],
      "execution_count": 0,
      "outputs": [
        {
          "output_type": "execute_result",
          "data": {
            "text/plain": [
              "(4, 3)"
            ]
          },
          "metadata": {
            "tags": []
          },
          "execution_count": 75
        }
      ]
    },
    {
      "cell_type": "markdown",
      "metadata": {
        "id": "yZUYMgKVEgn0",
        "colab_type": "text"
      },
      "source": [
        "Matrix multiplication is accomplished by `np.dot`. The `*` operator will do element-wise multiplication."
      ]
    },
    {
      "cell_type": "code",
      "metadata": {
        "id": "JIowHrEqEgn1",
        "colab_type": "code",
        "outputId": "44e27b80-d419-462b-8c4e-c154439fb258",
        "colab": {
          "base_uri": "https://localhost:8080/",
          "height": 136
        }
      },
      "source": [
        "print(np.dot(onesarray, onesarray.T)) # 3 x 3 matrix\n",
        "np.dot(onesarray.T, onesarray) # 4 x 4 matrix"
      ],
      "execution_count": 0,
      "outputs": [
        {
          "output_type": "stream",
          "text": [
            "[[4. 4. 4.]\n",
            " [4. 4. 4.]\n",
            " [4. 4. 4.]]\n"
          ],
          "name": "stdout"
        },
        {
          "output_type": "execute_result",
          "data": {
            "text/plain": [
              "array([[3., 3., 3., 3.],\n",
              "       [3., 3., 3., 3.],\n",
              "       [3., 3., 3., 3.],\n",
              "       [3., 3., 3., 3.]])"
            ]
          },
          "metadata": {
            "tags": []
          },
          "execution_count": 76
        }
      ]
    },
    {
      "cell_type": "markdown",
      "metadata": {
        "id": "ByUZO7J7Egn7",
        "colab_type": "text"
      },
      "source": [
        "Numpy functions will by default work on the entire array:"
      ]
    },
    {
      "cell_type": "code",
      "metadata": {
        "id": "WsR0F91jEgoA",
        "colab_type": "code",
        "outputId": "3a1d77c8-fe7a-4951-b7aa-3d4b78afb63b",
        "colab": {
          "base_uri": "https://localhost:8080/",
          "height": 34
        }
      },
      "source": [
        "np.sum(onesarray)"
      ],
      "execution_count": 0,
      "outputs": [
        {
          "output_type": "execute_result",
          "data": {
            "text/plain": [
              "12.0"
            ]
          },
          "metadata": {
            "tags": []
          },
          "execution_count": 77
        }
      ]
    },
    {
      "cell_type": "markdown",
      "metadata": {
        "id": "dXXmInw3EgoE",
        "colab_type": "text"
      },
      "source": [
        "The axis 0 is the one going downwards (the $y$-axis, so to speak), whereas axis 1 is the one going across (the $x$-axis). You will often use functions such as `mean`, `sum`, with an axis."
      ]
    },
    {
      "cell_type": "code",
      "metadata": {
        "id": "JKKlPeoNEgoF",
        "colab_type": "code",
        "outputId": "54970f79-46d4-4627-d5fc-7cd553f24e47",
        "colab": {
          "base_uri": "https://localhost:8080/",
          "height": 34
        }
      },
      "source": [
        "np.sum(onesarray, axis=0)"
      ],
      "execution_count": 0,
      "outputs": [
        {
          "output_type": "execute_result",
          "data": {
            "text/plain": [
              "array([3., 3., 3., 3.])"
            ]
          },
          "metadata": {
            "tags": []
          },
          "execution_count": 78
        }
      ]
    },
    {
      "cell_type": "code",
      "metadata": {
        "id": "8Bii6U-UMPJT",
        "colab_type": "code",
        "outputId": "7280d761-03f8-4f7e-bdeb-528619fbd5c6",
        "colab": {
          "base_uri": "https://localhost:8080/",
          "height": 68
        }
      },
      "source": [
        "onesarray"
      ],
      "execution_count": 0,
      "outputs": [
        {
          "output_type": "execute_result",
          "data": {
            "text/plain": [
              "array([[1., 1., 1., 1.],\n",
              "       [1., 1., 1., 1.],\n",
              "       [1., 1., 1., 1.]])"
            ]
          },
          "metadata": {
            "tags": []
          },
          "execution_count": 80
        }
      ]
    },
    {
      "cell_type": "code",
      "metadata": {
        "id": "YLhoBkEdEgoH",
        "colab_type": "code",
        "outputId": "b4c71ab9-12c6-4ba0-cde0-4dea9d2e2de0",
        "colab": {
          "base_uri": "https://localhost:8080/",
          "height": 34
        }
      },
      "source": [
        "np.sum(onesarray, axis=1)"
      ],
      "execution_count": 0,
      "outputs": [
        {
          "output_type": "execute_result",
          "data": {
            "text/plain": [
              "array([4., 4., 4.])"
            ]
          },
          "metadata": {
            "tags": []
          },
          "execution_count": 79
        }
      ]
    },
    {
      "cell_type": "markdown",
      "metadata": {
        "id": "hRm4NvAKEgoP",
        "colab_type": "text"
      },
      "source": [
        "See the documentation to learn more about numpy functions as needed."
      ]
    },
    {
      "cell_type": "markdown",
      "metadata": {
        "id": "D_loXygdEgoR",
        "colab_type": "text"
      },
      "source": [
        ">**EXERCISE**: Verify that two-dimensional arrays are listy. Create a two-dimensional array and show that this array has set length (shape), can be sliced, and can be iterated through with a loop.  Your code should slice the array in at least two different ways, and your loop should print out the array entries."
      ]
    },
    {
      "cell_type": "code",
      "metadata": {
        "id": "2vPEFFW6EgoS",
        "colab_type": "code",
        "outputId": "f1db2035-bced-44fe-f9cb-549a2fbd56c0",
        "colab": {
          "base_uri": "https://localhost:8080/",
          "height": 51
        }
      },
      "source": [
        "# your code here\n",
        "myarray = np.array([ [1, 2, 3,4,5], [6, 7, 8,9,10], [11,12,13,14,15]])\n",
        "print (myarray.shape)\n",
        "myarray2 = myarray.reshape(1,15)\n",
        "print(myarray2.shape)"
      ],
      "execution_count": 0,
      "outputs": [
        {
          "output_type": "stream",
          "text": [
            "(3, 5)\n",
            "(1, 15)\n"
          ],
          "name": "stdout"
        }
      ]
    },
    {
      "cell_type": "code",
      "metadata": {
        "id": "nvzDjlZVOLUt",
        "colab_type": "code",
        "outputId": "a778d80b-ddd0-4248-c525-34732c2b2100",
        "colab": {
          "base_uri": "https://localhost:8080/",
          "height": 231
        }
      },
      "source": [
        "print (myarray)\n",
        "sh= myarray.shape()\n",
        "#print(f'shape =  {shape}')\n",
        "print(sh)\n",
        "print (myarray[1:2,1:2])"
      ],
      "execution_count": 17,
      "outputs": [
        {
          "output_type": "error",
          "ename": "NameError",
          "evalue": "ignored",
          "traceback": [
            "\u001b[0;31m---------------------------------------------------------------------------\u001b[0m",
            "\u001b[0;31mNameError\u001b[0m                                 Traceback (most recent call last)",
            "\u001b[0;32m<ipython-input-17-e8ffb0eaccd7>\u001b[0m in \u001b[0;36m<module>\u001b[0;34m()\u001b[0m\n\u001b[0;32m----> 1\u001b[0;31m \u001b[0mprint\u001b[0m \u001b[0;34m(\u001b[0m\u001b[0mmyarray\u001b[0m\u001b[0;34m)\u001b[0m\u001b[0;34m\u001b[0m\u001b[0;34m\u001b[0m\u001b[0m\n\u001b[0m\u001b[1;32m      2\u001b[0m \u001b[0msh\u001b[0m\u001b[0;34m=\u001b[0m \u001b[0mmyarray\u001b[0m\u001b[0;34m.\u001b[0m\u001b[0mshape\u001b[0m\u001b[0;34m(\u001b[0m\u001b[0;34m)\u001b[0m\u001b[0;34m\u001b[0m\u001b[0;34m\u001b[0m\u001b[0m\n\u001b[1;32m      3\u001b[0m \u001b[0;31m#print(f'shape =  {shape}')\u001b[0m\u001b[0;34m\u001b[0m\u001b[0;34m\u001b[0m\u001b[0;34m\u001b[0m\u001b[0m\n\u001b[1;32m      4\u001b[0m \u001b[0mprint\u001b[0m\u001b[0;34m(\u001b[0m\u001b[0msh\u001b[0m\u001b[0;34m)\u001b[0m\u001b[0;34m\u001b[0m\u001b[0;34m\u001b[0m\u001b[0m\n\u001b[1;32m      5\u001b[0m \u001b[0mprint\u001b[0m \u001b[0;34m(\u001b[0m\u001b[0mmyarray\u001b[0m\u001b[0;34m[\u001b[0m\u001b[0;36m1\u001b[0m\u001b[0;34m:\u001b[0m\u001b[0;36m2\u001b[0m\u001b[0;34m,\u001b[0m\u001b[0;36m1\u001b[0m\u001b[0;34m:\u001b[0m\u001b[0;36m2\u001b[0m\u001b[0;34m]\u001b[0m\u001b[0;34m)\u001b[0m\u001b[0;34m\u001b[0m\u001b[0;34m\u001b[0m\u001b[0m\n",
            "\u001b[0;31mNameError\u001b[0m: name 'myarray' is not defined"
          ]
        }
      ]
    },
    {
      "cell_type": "markdown",
      "metadata": {
        "id": "1oXQqbRnEgoW",
        "colab_type": "text"
      },
      "source": [
        "You should notice that access is row-by-row and one dimensional iteration gives a row. This is because `numpy` lays out memory row-wise.\n",
        "\n",
        " <img src=\"https://aaronbloomfield.github.io/pdr/slides/images/04-arrays-bigoh/2d-array-layout.png\" alt=\"Drawing\" style=\"width: 500px;\"/>\n",
        " \n",
        "(from https://aaronbloomfield.github.io)"
      ]
    },
    {
      "cell_type": "markdown",
      "metadata": {
        "id": "qr6GQjrJEgoX",
        "colab_type": "text"
      },
      "source": [
        "An often seen idiom allocates a two-dimensional array, and then fills in one-dimensional arrays from some function:"
      ]
    },
    {
      "cell_type": "code",
      "metadata": {
        "id": "pjeb7PjxEgoY",
        "colab_type": "code",
        "colab": {
          "base_uri": "https://localhost:8080/",
          "height": 153
        },
        "outputId": "e8c13d31-1bf0-4138-f21a-2d0824f9496e"
      },
      "source": [
        "twod = np.zeros((5, 2))\n",
        "print(twod)\n",
        "print(twod.shape)\n",
        "\n",
        "print(f'twod.shape[0] = {twod.shape[0]}')\n",
        "print(f'twod.shape[1] = {twod.shape[1]}')"
      ],
      "execution_count": 13,
      "outputs": [
        {
          "output_type": "stream",
          "text": [
            "[[0. 0.]\n",
            " [0. 0.]\n",
            " [0. 0.]\n",
            " [0. 0.]\n",
            " [0. 0.]]\n",
            "(5, 2)\n",
            "twod.shape[0] = 5\n",
            "twod.shape[1] = 2\n"
          ],
          "name": "stdout"
        }
      ]
    },
    {
      "cell_type": "code",
      "metadata": {
        "id": "dYhqXZLaEgog",
        "colab_type": "code",
        "colab": {
          "base_uri": "https://localhost:8080/",
          "height": 102
        },
        "outputId": "f363ab55-4190-4722-80c7-0dd0bd98f33f"
      },
      "source": [
        "for i in range(twod.shape[0]):\n",
        "    twod[i, :] = np.random.random(2)\n",
        "twod"
      ],
      "execution_count": 16,
      "outputs": [
        {
          "output_type": "execute_result",
          "data": {
            "text/plain": [
              "array([[0.57063956, 0.45496645],\n",
              "       [0.25356105, 0.28114698],\n",
              "       [0.31744944, 0.37738008],\n",
              "       [0.29333118, 0.48916597],\n",
              "       [0.03224447, 0.75398176]])"
            ]
          },
          "metadata": {
            "tags": []
          },
          "execution_count": 16
        }
      ]
    },
    {
      "cell_type": "markdown",
      "metadata": {
        "id": "K-RpQor6Egol",
        "colab_type": "text"
      },
      "source": [
        "In this and many other cases, it may be faster to simply do:"
      ]
    },
    {
      "cell_type": "code",
      "metadata": {
        "id": "fZR13M-uEgom",
        "colab_type": "code",
        "colab": {
          "base_uri": "https://localhost:8080/",
          "height": 102
        },
        "outputId": "a11677b5-a9bc-4aec-cba1-e6dac6c0f108"
      },
      "source": [
        "twod = np.random.random(size=(5,2))\n",
        "twod"
      ],
      "execution_count": 15,
      "outputs": [
        {
          "output_type": "execute_result",
          "data": {
            "text/plain": [
              "array([[0.90503983, 0.21570381],\n",
              "       [0.07591694, 0.94409115],\n",
              "       [0.18443846, 0.06184229],\n",
              "       [0.38434904, 0.31335706],\n",
              "       [0.04805465, 0.03531569]])"
            ]
          },
          "metadata": {
            "tags": []
          },
          "execution_count": 15
        }
      ]
    },
    {
      "cell_type": "markdown",
      "metadata": {
        "id": "W0S0bJweEgoq",
        "colab_type": "text"
      },
      "source": [
        "### Numpy Arrays vs. Python Lists?\n",
        "\n",
        "1. Why the need for numpy arrays?  Can't we just use Python lists?\n",
        "2. Iterating over numpy arrays is slow. Slicing is faster\n",
        "\n",
        "In the last lab we said that Python lists may contain items of different types. This flexibility comes at a price: Python lists store *pointers* to memory locations.  On the other hand, numpy arrays are typed, where the default type is floating point.  Because of this, the system knows how much memory to allocate, and if you ask for an array of size 100, it will allocate one hundred contiguous spots in memory, where the size of each spot is based on the type.  This makes access extremely fast.\n",
        "\n",
        "<img src=\"https://jakevdp.github.io/PythonDataScienceHandbook/figures/array_vs_list.png\" alt=\"Drawing\" style=\"width: 500px;\"/>\n",
        "\n",
        "(from the book below)\n",
        "\n",
        "BUT, iteration slows things down again. In general you should not access numpy array elements by iteration.  This is because of type conversion.  Numpy stores integers and floating points in C-language format.  When you operate on array elements through iteration, Python needs to convert that element to a Python int or float, which is a more complex beast (a `struct` in C jargon).  This has a cost.\n",
        "\n",
        "<img src=\"https://jakevdp.github.io/PythonDataScienceHandbook/figures/cint_vs_pyint.png\" alt=\"Drawing\" style=\"width: 500px;\"/>\n",
        "\n",
        "(from the book below)\n",
        "\n",
        "If you want to know more, we will suggest that you read [this]() from [Jake Vanderplas's Data Science Handbook](https://jakevdp.github.io/PythonDataScienceHandbook/). You will find that book an incredible resource for this class.\n",
        "\n",
        "Why is slicing faster? The reason is technical: slicing provides a view onto the memory occupied by a numpy array, instead of creating a new array. That is the reason the code above this cell works nicely as well. However, if you iterate over a slice, then you have gone back to the slow access.\n",
        "\n",
        "By contrast, functions such as `np.dot` are implemented at C-level, do not do this type conversion, and access contiguous memory. If you want this kind of access in Python, use the struct module or Cython. Indeed many fast algorithms in numpy, pandas, and C are either implemented at the C-level, or employ Cython."
      ]
    },
    {
      "cell_type": "markdown",
      "metadata": {
        "id": "lrup5eBGEgor",
        "colab_type": "text"
      },
      "source": [
        "## Part 3:  Introduction to Pandas \n",
        "\n",
        "Often data is stored in comma separated values (CSV) files.    For the remainder of this lab, we'll be working with [automobile data](https://stat.ethz.ch/R-manual/R-devel/library/datasets/html/mtcars.html), where we've extracted relevant parts below.\n",
        "\n",
        "Note that CSV files can be output by any spreadsheet software, and are plain text, hence are a great way to share data. "
      ]
    },
    {
      "cell_type": "markdown",
      "metadata": {
        "id": "Z2GspiYOEgor",
        "colab_type": "text"
      },
      "source": [
        "### Importing data with numpy\n",
        "Below we'll read in automobile data from a CSV file, storing the data in Python's memory first as a numpy array.  \n",
        "\n",
        "````` \n",
        "Description\n",
        "The data was extracted from the 1974 Motor Trend US magazine, and comprises fuel consumption and ten aspects of automobile design and performance for 32 automobiles (1973–74 models).\n",
        "\n",
        "Format\n",
        "\n",
        "A data frame with 32 observations on 11 variables.\n",
        "\n",
        "[, 1]\tmpg\t     Miles/(US) gallon\n",
        "[, 2]\tcyl\t     Number of cylinders\n",
        "[, 3]\tdisp\t Displacement (cu.in.)\n",
        "[, 4]\thp\t     Gross horsepower\n",
        "[, 5]\tdrat\t Rear axle ratio\n",
        "[, 6]\twt\t     Weight (1000 lbs)\n",
        "[, 7]\tqsec\t 1/4 mile time\n",
        "[, 8]\tvs\t     V/S\n",
        "[, 9]\tam\t     Transmission (0 = automatic, 1 = manual)\n",
        "[,10]\tgear\t Number of forward gears\n",
        "[,11]\tcarb\t Number of carburetors\n",
        "        \n",
        "Source\n",
        "Henderson and Velleman (1981), Building multiple regression models interactively. Biometrics, 37, 391–411.\n",
        "`````"
      ]
    },
    {
      "cell_type": "markdown",
      "metadata": {
        "id": "RY0EKaW3Egot",
        "colab_type": "text"
      },
      "source": [
        ">EXERCISE: `genfromtxt` is a numpy function that can be used to load text data.  Write code that loads the data into a two-dimensional array called `arrcars`, prints out the shape and the first two rows of of `arrcars`."
      ]
    },
    {
      "cell_type": "code",
      "metadata": {
        "id": "YMENDFH8Egou",
        "colab_type": "code",
        "colab": {}
      },
      "source": [
        "# your code here\n",
        "import numpy as np\n",
        "import pandas as pd\n",
        "import matplotlib.pyplot as plt\n"
      ],
      "execution_count": 0,
      "outputs": []
    },
    {
      "cell_type": "code",
      "metadata": {
        "id": "9GdJwz2snyEf",
        "colab_type": "code",
        "colab": {
          "base_uri": "https://localhost:8080/",
          "height": 34
        },
        "outputId": "bf2f21d0-cc2d-459c-9dcd-4b34c88975e6"
      },
      "source": [
        "arrcars = np.genfromtxt('https://raw.githubusercontent.com/mohammad0alfares/EDA/master/Labs/data/mtcars.csv', delimiter=',')\n",
        "arrcars.shape"
      ],
      "execution_count": 29,
      "outputs": [
        {
          "output_type": "execute_result",
          "data": {
            "text/plain": [
              "(33, 12)"
            ]
          },
          "metadata": {
            "tags": []
          },
          "execution_count": 29
        }
      ]
    },
    {
      "cell_type": "code",
      "metadata": {
        "id": "1U_vvFs6prz1",
        "colab_type": "code",
        "colab": {
          "base_uri": "https://localhost:8080/",
          "height": 34
        },
        "outputId": "c6efbc22-112d-4909-b182-1c009500ed0a"
      },
      "source": [
        "type(arrcars)"
      ],
      "execution_count": 32,
      "outputs": [
        {
          "output_type": "execute_result",
          "data": {
            "text/plain": [
              "numpy.ndarray"
            ]
          },
          "metadata": {
            "tags": []
          },
          "execution_count": 32
        }
      ]
    },
    {
      "cell_type": "markdown",
      "metadata": {
        "id": "TloI_ekQEgo0",
        "colab_type": "text"
      },
      "source": [
        "You will see that reading the data into a numpy array is entirely clumsy.  "
      ]
    },
    {
      "cell_type": "markdown",
      "metadata": {
        "id": "DYJHBkWDEgo0",
        "colab_type": "text"
      },
      "source": [
        "\n",
        "We'd like a data structure that can represent the columns in the data above by their name. In particular, we want a structure that can easily store variables of different types, that stores column names, and that we can reference by column name as well as by indexed position.  And it would be nice this data structure came with built-in functions that we can use to manipulate it. \n",
        "\n",
        "Pandas is a package/library that does all of this!  The library is built on top of numpy.  There are two basic pandas objects, *series* and *dataframes*, which can be thought of as enhanced versions of 1D and 2D numpy arrays, respectively.  Indeed Pandas attempts to keep all the efficiencies that `numpy` gives us.\n",
        "\n",
        "For reference, here is a useful pandas [cheat sheet](https://drive.google.com/folderview?id=0ByIrJAE4KMTtaGhRcXkxNHhmY2M&usp=sharing) and the pandas [documentation](https://pandas.pydata.org/pandas-docs/stable/)."
      ]
    },
    {
      "cell_type": "markdown",
      "metadata": {
        "id": "b3021r9tEgo2",
        "colab_type": "text"
      },
      "source": [
        "### Importing data with pandas\n",
        "\n",
        "Now let's read in our automobile data as a pandas *dataframe* structure.  "
      ]
    },
    {
      "cell_type": "code",
      "metadata": {
        "id": "AYRCnFfHEgo3",
        "colab_type": "code",
        "colab": {
          "base_uri": "https://localhost:8080/",
          "height": 34
        },
        "outputId": "75dd5266-965d-4af1-b306-90b0b9e01d5a"
      },
      "source": [
        "# Read in the csv files\n",
        "dfcars=pd.read_csv(\"https://raw.githubusercontent.com/mohammad0alfares/EDA/master/Labs/data/mtcars.csv\")\n",
        "type(dfcars)"
      ],
      "execution_count": 34,
      "outputs": [
        {
          "output_type": "execute_result",
          "data": {
            "text/plain": [
              "pandas.core.frame.DataFrame"
            ]
          },
          "metadata": {
            "tags": []
          },
          "execution_count": 34
        }
      ]
    },
    {
      "cell_type": "code",
      "metadata": {
        "id": "SgvmcRdmEgo5",
        "colab_type": "code",
        "colab": {
          "base_uri": "https://localhost:8080/",
          "height": 204
        },
        "outputId": "644a33ad-f336-4071-bdf9-3cbb905197c3"
      },
      "source": [
        "dfcars.head()"
      ],
      "execution_count": 35,
      "outputs": [
        {
          "output_type": "execute_result",
          "data": {
            "text/html": [
              "<div>\n",
              "<style scoped>\n",
              "    .dataframe tbody tr th:only-of-type {\n",
              "        vertical-align: middle;\n",
              "    }\n",
              "\n",
              "    .dataframe tbody tr th {\n",
              "        vertical-align: top;\n",
              "    }\n",
              "\n",
              "    .dataframe thead th {\n",
              "        text-align: right;\n",
              "    }\n",
              "</style>\n",
              "<table border=\"1\" class=\"dataframe\">\n",
              "  <thead>\n",
              "    <tr style=\"text-align: right;\">\n",
              "      <th></th>\n",
              "      <th>Unnamed: 0</th>\n",
              "      <th>mpg</th>\n",
              "      <th>cyl</th>\n",
              "      <th>disp</th>\n",
              "      <th>hp</th>\n",
              "      <th>drat</th>\n",
              "      <th>wt</th>\n",
              "      <th>qsec</th>\n",
              "      <th>vs</th>\n",
              "      <th>am</th>\n",
              "      <th>gear</th>\n",
              "      <th>carb</th>\n",
              "    </tr>\n",
              "  </thead>\n",
              "  <tbody>\n",
              "    <tr>\n",
              "      <th>0</th>\n",
              "      <td>Mazda RX4</td>\n",
              "      <td>21.0</td>\n",
              "      <td>6</td>\n",
              "      <td>160.0</td>\n",
              "      <td>110</td>\n",
              "      <td>3.90</td>\n",
              "      <td>2.620</td>\n",
              "      <td>16.46</td>\n",
              "      <td>0</td>\n",
              "      <td>1</td>\n",
              "      <td>4</td>\n",
              "      <td>4</td>\n",
              "    </tr>\n",
              "    <tr>\n",
              "      <th>1</th>\n",
              "      <td>Mazda RX4 Wag</td>\n",
              "      <td>21.0</td>\n",
              "      <td>6</td>\n",
              "      <td>160.0</td>\n",
              "      <td>110</td>\n",
              "      <td>3.90</td>\n",
              "      <td>2.875</td>\n",
              "      <td>17.02</td>\n",
              "      <td>0</td>\n",
              "      <td>1</td>\n",
              "      <td>4</td>\n",
              "      <td>4</td>\n",
              "    </tr>\n",
              "    <tr>\n",
              "      <th>2</th>\n",
              "      <td>Datsun 710</td>\n",
              "      <td>22.8</td>\n",
              "      <td>4</td>\n",
              "      <td>108.0</td>\n",
              "      <td>93</td>\n",
              "      <td>3.85</td>\n",
              "      <td>2.320</td>\n",
              "      <td>18.61</td>\n",
              "      <td>1</td>\n",
              "      <td>1</td>\n",
              "      <td>4</td>\n",
              "      <td>1</td>\n",
              "    </tr>\n",
              "    <tr>\n",
              "      <th>3</th>\n",
              "      <td>Hornet 4 Drive</td>\n",
              "      <td>21.4</td>\n",
              "      <td>6</td>\n",
              "      <td>258.0</td>\n",
              "      <td>110</td>\n",
              "      <td>3.08</td>\n",
              "      <td>3.215</td>\n",
              "      <td>19.44</td>\n",
              "      <td>1</td>\n",
              "      <td>0</td>\n",
              "      <td>3</td>\n",
              "      <td>1</td>\n",
              "    </tr>\n",
              "    <tr>\n",
              "      <th>4</th>\n",
              "      <td>Hornet Sportabout</td>\n",
              "      <td>18.7</td>\n",
              "      <td>8</td>\n",
              "      <td>360.0</td>\n",
              "      <td>175</td>\n",
              "      <td>3.15</td>\n",
              "      <td>3.440</td>\n",
              "      <td>17.02</td>\n",
              "      <td>0</td>\n",
              "      <td>0</td>\n",
              "      <td>3</td>\n",
              "      <td>2</td>\n",
              "    </tr>\n",
              "  </tbody>\n",
              "</table>\n",
              "</div>"
            ],
            "text/plain": [
              "          Unnamed: 0   mpg  cyl   disp   hp  drat     wt   qsec  vs  am  gear  carb\n",
              "0          Mazda RX4  21.0    6  160.0  110  3.90  2.620  16.46   0   1     4     4\n",
              "1      Mazda RX4 Wag  21.0    6  160.0  110  3.90  2.875  17.02   0   1     4     4\n",
              "2         Datsun 710  22.8    4  108.0   93  3.85  2.320  18.61   1   1     4     1\n",
              "3     Hornet 4 Drive  21.4    6  258.0  110  3.08  3.215  19.44   1   0     3     1\n",
              "4  Hornet Sportabout  18.7    8  360.0  175  3.15  3.440  17.02   0   0     3     2"
            ]
          },
          "metadata": {
            "tags": []
          },
          "execution_count": 35
        }
      ]
    },
    {
      "cell_type": "markdown",
      "metadata": {
        "id": "XRPUyDriEgo9",
        "colab_type": "text"
      },
      "source": [
        "Wow!  That was easier and the output is nicer.  What we have now is a spreadsheet with indexed rows and named columns, called a *dataframe* in pandas.  `dfcars` is an *instance* of the pd.DataFrame *class*, created by calling the pd.read_csv \"constructor function\".\n",
        "\n",
        "The take-away is that `dfcars` is a dataframe object, and it has methods (functions) belonging to it. For example, `df.head()` is a method that shows the first 5 rows of the dataframe.\n",
        "\n",
        "A pandas dataframe is a set of columns pasted together into a spreadsheet, as shown in the schematic below, which is taken from the cheatsheet above.  The columns in pandas are called *series* objects.\n",
        "\n",
        "![](https://github.com/mohammad0alfares/EDA/blob/master/Labs/images/pandastruct.png?raw=1)"
      ]
    },
    {
      "cell_type": "markdown",
      "metadata": {
        "id": "nq_SPo3BEgo-",
        "colab_type": "text"
      },
      "source": [
        "Let's look again at the first five rows of `dfcars`.  "
      ]
    },
    {
      "cell_type": "code",
      "metadata": {
        "id": "g7Map2M2Ego_",
        "colab_type": "code",
        "colab": {}
      },
      "source": [
        "dfcars.head()"
      ],
      "execution_count": 0,
      "outputs": []
    },
    {
      "cell_type": "markdown",
      "metadata": {
        "id": "FqHr-6NvEgpC",
        "colab_type": "text"
      },
      "source": [
        "Notice the poorly named first column: \"Unnamed: 0\". Why did that happen?\n",
        "\n",
        "The first column, which seems to be the name of the car, does not have a name. Here are the first 3 lines of the file:"
      ]
    },
    {
      "cell_type": "markdown",
      "metadata": {
        "id": "whEDG3x5EgpD",
        "colab_type": "text"
      },
      "source": [
        "```    \n",
        "\"\",\"mpg\",\"cyl\",\"disp\",\"hp\",\"drat\",\"wt\",\"qsec\",\"vs\",\"am\",\"gear\",\"carb\"\n",
        "\"Mazda RX4\",21,6,160,110,3.9,2.62,16.46,0,1,4,4\n",
        "\"Mazda RX4 Wag\",21,6,160,110,3.9,2.875,17.02,0,1,4,4\n",
        "```\n",
        "\n",
        "Lets **clean** that up:"
      ]
    },
    {
      "cell_type": "code",
      "metadata": {
        "scrolled": false,
        "id": "R4Y85t8iEgpE",
        "colab_type": "code",
        "colab": {}
      },
      "source": [
        "dfcars = dfcars.rename(columns={\"Unnamed: 0\": \"name\"})\n",
        "dfcars.head()"
      ],
      "execution_count": 0,
      "outputs": []
    },
    {
      "cell_type": "markdown",
      "metadata": {
        "id": "nV5ErpdxEgpH",
        "colab_type": "text"
      },
      "source": [
        "In the above, the argument `columns = {\"Unnamed: 0\": \"name\"}` of `rename` changed the name of the first column in the dataframe from `Unnamed: 0` to `name`. \n",
        "\n",
        "To access a *series* (column), you can use either dictionary syntax or instance-variable syntax."
      ]
    },
    {
      "cell_type": "code",
      "metadata": {
        "id": "TTF7g4atEgpI",
        "colab_type": "code",
        "colab": {}
      },
      "source": [
        "dfcars.mpg"
      ],
      "execution_count": 0,
      "outputs": []
    },
    {
      "cell_type": "markdown",
      "metadata": {
        "id": "gpJXaBkAEgpL",
        "colab_type": "text"
      },
      "source": [
        "You can get a numpy array of values from the Pandas Series:"
      ]
    },
    {
      "cell_type": "code",
      "metadata": {
        "id": "nVsZs4IyEgpM",
        "colab_type": "code",
        "colab": {}
      },
      "source": [
        "dfcars.mpg.values"
      ],
      "execution_count": 0,
      "outputs": []
    },
    {
      "cell_type": "markdown",
      "metadata": {
        "id": "RwUyOBwiEgpP",
        "colab_type": "text"
      },
      "source": [
        "And we can produce a histogram from these values"
      ]
    },
    {
      "cell_type": "code",
      "metadata": {
        "id": "LLbAu27jEgpQ",
        "colab_type": "code",
        "colab": {}
      },
      "source": [
        "#documentation for plt.hist\n",
        "?plt.hist"
      ],
      "execution_count": 0,
      "outputs": []
    },
    {
      "cell_type": "code",
      "metadata": {
        "id": "0zNgiGbkEgpS",
        "colab_type": "code",
        "colab": {}
      },
      "source": [
        "plt.hist(dfcars.mpg.values, bins=20);\n",
        "plt.xlabel(\"mpg\");\n",
        "plt.ylabel(\"Frequency\")\n",
        "plt.title(\"Miles per Gallon\");"
      ],
      "execution_count": 0,
      "outputs": []
    },
    {
      "cell_type": "markdown",
      "metadata": {
        "id": "zp0K30MoEgpU",
        "colab_type": "text"
      },
      "source": [
        "But pandas is very cool: you can get a histogram directly:"
      ]
    },
    {
      "cell_type": "code",
      "metadata": {
        "id": "0jRw8G4mEgpU",
        "colab_type": "code",
        "colab": {}
      },
      "source": [
        "dfcars.mpg.hist(bins=20);\n",
        "plt.xlabel(\"mpg\");\n",
        "plt.ylabel(\"Frequency\")\n",
        "plt.title(\"Miles per Gallon\");"
      ],
      "execution_count": 0,
      "outputs": []
    },
    {
      "cell_type": "markdown",
      "metadata": {
        "id": "BbDmWrSLEgpX",
        "colab_type": "text"
      },
      "source": [
        "Pandas supports a dictionary like access to columns. This is very useful when column names have spaces: Python variables cannot have spaces in them."
      ]
    },
    {
      "cell_type": "code",
      "metadata": {
        "id": "-qQoZU0REgpX",
        "colab_type": "code",
        "colab": {}
      },
      "source": [
        "dfcars['mpg']"
      ],
      "execution_count": 0,
      "outputs": []
    },
    {
      "cell_type": "markdown",
      "metadata": {
        "id": "XJ36D1uvEgpc",
        "colab_type": "text"
      },
      "source": [
        "\n",
        "We can also get sub-dataframes by choosing a set of series. We  pass a list of the columns we want as \"dictionary keys\" to the dataframe.  "
      ]
    },
    {
      "cell_type": "code",
      "metadata": {
        "id": "KwECi9_KEgpd",
        "colab_type": "code",
        "colab": {}
      },
      "source": [
        "dfcars[['am', 'mpg']]"
      ],
      "execution_count": 0,
      "outputs": []
    },
    {
      "cell_type": "markdown",
      "metadata": {
        "id": "CN3fYKzpEgpj",
        "colab_type": "text"
      },
      "source": [
        "As we'll see, more complex indexing is also possible, using listiness."
      ]
    },
    {
      "cell_type": "markdown",
      "metadata": {
        "id": "uSApDeWaEgpk",
        "colab_type": "text"
      },
      "source": [
        "### Dataframes and Series"
      ]
    },
    {
      "cell_type": "markdown",
      "metadata": {
        "id": "yjzO83RWEgpl",
        "colab_type": "text"
      },
      "source": [
        "Now that we have our automobile data loaded as a dataframe, we'd like to be able to manipulate it, its series, and its sub-dataframes, say by calculating statistics and plotting distributions of features.  Like arrays and other containers, dataframes and series are listy, so we can apply the list operations we already know to these new containers.  Below we explore our dataframe and its properties, in the context of listiness."
      ]
    },
    {
      "cell_type": "markdown",
      "metadata": {
        "id": "8UR7LbudEgpm",
        "colab_type": "text"
      },
      "source": [
        "#### Listiness property 1: set length\n",
        "\n",
        " The attribute `shape` tells us the dimension of the dataframe, the number of rows and columns in the dataframe, `(rows, columns)`.  Somewhat strangely, but fairly usefully, (which is why the developers of Pandas probably did it ) the `len` function outputs the number of rows in the dataframe, not the number of columns as we'd expect based on how dataframes are built up from pandas series (columns).  "
      ]
    },
    {
      "cell_type": "code",
      "metadata": {
        "scrolled": true,
        "id": "mYmCf3mEEgpn",
        "colab_type": "code",
        "colab": {}
      },
      "source": [
        "print(dfcars.shape)     # 12 columns, each of length 32\n",
        "print(len(dfcars))      # the number of rows in the dataframe, also the length of a series\n",
        "print(len(dfcars.mpg))  # the length of a series"
      ],
      "execution_count": 0,
      "outputs": []
    },
    {
      "cell_type": "markdown",
      "metadata": {
        "id": "xr4hrRvYEgpr",
        "colab_type": "text"
      },
      "source": [
        "#### Listiness property 2: iteration via loops\n",
        "\n",
        " One consequence of the column-wise construction of dataframes is that you cannot easily iterate over the rows of the dataframe.  Instead, we iterate over the columns, for example, by printing out the column names via a for loop.  "
      ]
    },
    {
      "cell_type": "code",
      "metadata": {
        "id": "fwL7PLrcEgps",
        "colab_type": "code",
        "colab": {}
      },
      "source": [
        "for ele in dfcars: # iterating iterates over column names though, like a dictionary\n",
        "    print(ele)"
      ],
      "execution_count": 0,
      "outputs": []
    },
    {
      "cell_type": "markdown",
      "metadata": {
        "id": "QYzth4GvEgpv",
        "colab_type": "text"
      },
      "source": [
        "Or we can call the attribute `columns`.  Notice the `Index` in the output below. We'll return to this shortly. "
      ]
    },
    {
      "cell_type": "code",
      "metadata": {
        "id": "9S_WXMVqEgpw",
        "colab_type": "code",
        "colab": {}
      },
      "source": [
        "dfcars.columns"
      ],
      "execution_count": 0,
      "outputs": []
    },
    {
      "cell_type": "markdown",
      "metadata": {
        "id": "Kv4b0mfbEgpz",
        "colab_type": "text"
      },
      "source": [
        "We can iterate series in the same way that we iterate lists. Here we print out the number of cylinders for each of the 32 vehicles. \n",
        "\n",
        "BUT for the same reason as not iterating over numpy arrays, DON'T DO THIS."
      ]
    },
    {
      "cell_type": "code",
      "metadata": {
        "id": "tdzZaWS_Egp0",
        "colab_type": "code",
        "colab": {}
      },
      "source": [
        "for ele in dfcars.cyl:\n",
        "    print(ele)"
      ],
      "execution_count": 0,
      "outputs": []
    },
    {
      "cell_type": "markdown",
      "metadata": {
        "id": "ARLq6bFLEgp3",
        "colab_type": "text"
      },
      "source": [
        "How do you iterate over rows?  Dataframes are put together column-by-column and you should be able to write code which never requires iteration over loops. But if you still find a need to iterate over rows, you can do it using `itertuples`.  See the documentation.  \n",
        "\n",
        "**In general direct iteration through pandas series/dataframes (and numpy arrays) is a bad idea**, because of the reasons in the earlier \"Python Lists vs. Numpy Arrays\" section. \n",
        "\n",
        "Instead, you should manipulate dataframes and series with pandas methods which are written to be very fast (ie, they access series and dataframes at the C level). Similarly numpy arrays should be accessed directly through numpy methods."
      ]
    },
    {
      "cell_type": "markdown",
      "metadata": {
        "id": "UzxETHW_Egp4",
        "colab_type": "text"
      },
      "source": [
        "#### Listiness property 3: slice\n",
        "\n",
        "Let's see how indexing works in dataframes.  Like lists in Python and arrays in numpy, dataframes and series are zero-indexed."
      ]
    },
    {
      "cell_type": "code",
      "metadata": {
        "id": "hqVZUfaNEgp6",
        "colab_type": "code",
        "colab": {}
      },
      "source": [
        "dfcars.head()"
      ],
      "execution_count": 0,
      "outputs": []
    },
    {
      "cell_type": "code",
      "metadata": {
        "id": "Z8u-yq9NEgp8",
        "colab_type": "code",
        "colab": {}
      },
      "source": [
        "# index for the dataframe\n",
        "print(list(dfcars.index))\n",
        "# index for the cyl series\n",
        "dfcars.cyl.index"
      ],
      "execution_count": 0,
      "outputs": []
    },
    {
      "cell_type": "markdown",
      "metadata": {
        "id": "sLNEwJGzEgp-",
        "colab_type": "text"
      },
      "source": [
        "There are two ways to index dataframes. The `loc` property indexes by label name, while `iloc` indexes by position in the index.  We'll illustrate this with a slightly modified version of `dfcars`, created by relabeling the row indices of `dfcars` to start at 5 instead of 0.  "
      ]
    },
    {
      "cell_type": "code",
      "metadata": {
        "id": "XneTO6XxEgp_",
        "colab_type": "code",
        "colab": {}
      },
      "source": [
        "# create values from 5 to 36\n",
        "new_index = np.arange(5, 37)\n",
        "# new dataframe with indexed rows from 5 to 36\n",
        "dfcars_reindex = dfcars.reindex(new_index)\n",
        "dfcars_reindex.head()"
      ],
      "execution_count": 0,
      "outputs": []
    },
    {
      "cell_type": "markdown",
      "metadata": {
        "id": "qIKjuGyOEgqF",
        "colab_type": "text"
      },
      "source": [
        "We now return the first three rows of `dfcars_reindex` in two different ways, first with `iloc` and then with `loc`.  With `iloc` we use the command"
      ]
    },
    {
      "cell_type": "code",
      "metadata": {
        "id": "mosl9siMEgqG",
        "colab_type": "code",
        "colab": {}
      },
      "source": [
        "dfcars_reindex.iloc[0:3]"
      ],
      "execution_count": 0,
      "outputs": []
    },
    {
      "cell_type": "markdown",
      "metadata": {
        "id": "Fn8MtLtAEgqJ",
        "colab_type": "text"
      },
      "source": [
        "since `iloc` uses the position in the index.  Notice that the argument 0:3 with `iloc` returns the first three rows of the dataframe, which have label names 5, 6, and 7.  To access the same rows with `loc`, we write"
      ]
    },
    {
      "cell_type": "code",
      "metadata": {
        "id": "I19VQl2uEgqK",
        "colab_type": "code",
        "colab": {}
      },
      "source": [
        "dfcars_reindex.loc[0:7] # or dfcars_reindex.loc[5:7]"
      ],
      "execution_count": 0,
      "outputs": []
    },
    {
      "cell_type": "markdown",
      "metadata": {
        "id": "zwx1NzieEgqM",
        "colab_type": "text"
      },
      "source": [
        "since `loc` indexes via the label name.  \n",
        "\n",
        "Here's another example where we return three rows of `dfcars_reindex` that correspond to column attributes `mpg`, `cyl`, and `disp`.  First do it with `iloc`:"
      ]
    },
    {
      "cell_type": "code",
      "metadata": {
        "id": "yV4SPikIEgqN",
        "colab_type": "code",
        "colab": {}
      },
      "source": [
        "dfcars_reindex.iloc[2:5, 1:4]"
      ],
      "execution_count": 0,
      "outputs": []
    },
    {
      "cell_type": "markdown",
      "metadata": {
        "id": "8OL0ReIAEgqO",
        "colab_type": "text"
      },
      "source": [
        "Notice that rows we're accessing, 2, 3, and 4, have label names 7, 8, and 9, and the columns we're accessing, 1, 2, and 3, have label names `mpg`, `cyl`, and `disp`.  So for both rows and columns, we're accessing elements of the dataframe using the integer position indices.  Now let's do it with `loc`:"
      ]
    },
    {
      "cell_type": "code",
      "metadata": {
        "id": "zXdNBpeUEgqP",
        "colab_type": "code",
        "colab": {}
      },
      "source": [
        "dfcars_reindex.loc[7:9, ['mpg', 'cyl', 'disp']]"
      ],
      "execution_count": 0,
      "outputs": []
    },
    {
      "cell_type": "markdown",
      "metadata": {
        "id": "2QUpXRHgEgqQ",
        "colab_type": "text"
      },
      "source": [
        "We don't have to remember that `disp` is the third column of the dataframe the way we did when the data was stored as a numpy array -- we can simply access it with `loc` using the label name `disp`. \n",
        "\n",
        "Generally we prefer `iloc` for indexing rows and `loc` for indexing columns. "
      ]
    },
    {
      "cell_type": "markdown",
      "metadata": {
        "id": "h-U2nXikEgqQ",
        "colab_type": "text"
      },
      "source": [
        ">**EXERCISE**: In this exercise you'll examine the documentation to generate a toy dataframe from scratch.  Go to the documentation and click on \"10 minutes to pandas\" in the table of contents.  Then do the following:\n",
        "\n",
        ">1.  Create a series called `column_1` with entries 0, 1, 2, 3.\n",
        "\n",
        ">2.  Create a second series called `column_2` with entries 4, 5, 6, 7.\n",
        "\n",
        ">3.  Glue these series into a dataframe called `table`, where the first and second labelled column of the dataframe are `column_1` and `column_2`, respectively.  In the dataframe, `column_1` should be indexed as `col_1` and `column_2` should be indexed as `col_2`.\n",
        "\n",
        "> Oops!  You've changed your mind about the index labels for the columns.  Use `rename` to rename `col_1` as `Col_1` and `col_2` as `Col_2`.  \n",
        "\n",
        "> *Stretch*: Can you figure out how to rename the row indexes?  Try to rename `0` as `zero`, `1` as `one`, and so on.\n"
      ]
    },
    {
      "cell_type": "code",
      "metadata": {
        "id": "mV3xhV1uEgqR",
        "colab_type": "code",
        "colab": {}
      },
      "source": [
        "# your code here\n"
      ],
      "execution_count": 0,
      "outputs": []
    },
    {
      "cell_type": "markdown",
      "metadata": {
        "id": "FURPbyBLEgqW",
        "colab_type": "text"
      },
      "source": [
        "Picking rows is an idiom you probably wont use very often: there are better ways to do this which we will explore in lecture, such as grouping and querying. Picking columns can often be done by passing a list as a dictionary key.\n",
        "\n",
        "The place where `loc` and `iloc` are very useful are where you want to change particular rows. We'll see examples of this in lecture."
      ]
    },
    {
      "cell_type": "markdown",
      "metadata": {
        "id": "w1s0-InmEgqX",
        "colab_type": "text"
      },
      "source": [
        "### Data Types\n",
        "\n",
        "Columns in a dataframe (series) come with their own types. Some data may be categorical, that is, they come  with only few well defined values. An example is cylinders  (`cyl`). Cars may be 4, 6, or 8 cylindered. There is a ordered interpretation to this  (8 cylinders more powerful engine than 6 cylinders) but also a one-of-three-types interpretation to this. \n",
        "\n",
        "Sometimes categorical data does not have an ordered interpretation. An example is `am`: a boolean variable which indicates whether the car is an automatic or not.\n",
        "\n",
        "Other column types are integer, floating-point, and `object`. The latter is a catch-all for a string or anything Pandas cannot infer, for example, a column that contains data of mixed types. \n",
        " \n",
        "Let's see the types of the columns:"
      ]
    },
    {
      "cell_type": "code",
      "metadata": {
        "id": "W8TvwmczEgqY",
        "colab_type": "code",
        "colab": {}
      },
      "source": [
        "dfcars.dtypes"
      ],
      "execution_count": 0,
      "outputs": []
    },
    {
      "cell_type": "markdown",
      "metadata": {
        "id": "wMx-oN8NEgqa",
        "colab_type": "text"
      },
      "source": [
        "As we'll see in lab 2, the `dtypes` attribute is useful for debugging.  If one of these columns is not the type you expect, it can point to missing or malformed values that you should investigate further. Pandas assigns these types by inspection of some of the values,  and if the types are missed it will make assign it as an `object`, like the `name` column. Consider for example:"
      ]
    },
    {
      "cell_type": "code",
      "metadata": {
        "id": "dYGHqIsbEgqb",
        "colab_type": "code",
        "colab": {}
      },
      "source": [
        "diff_values = ['a', 1, 2, 3]\n",
        "diff_series = pd.Series(diff_values)\n",
        "print(diff_series)\n",
        "diff_series.dtypes # object because type inference fails"
      ],
      "execution_count": 0,
      "outputs": []
    },
    {
      "cell_type": "code",
      "metadata": {
        "id": "6Ja5sc0EEgqe",
        "colab_type": "code",
        "colab": {}
      },
      "source": [
        "diff_series.values # you destroyed performance, numpy starts to act like a python list"
      ],
      "execution_count": 0,
      "outputs": []
    },
    {
      "cell_type": "code",
      "metadata": {
        "id": "5dDvB8yfEgqh",
        "colab_type": "code",
        "colab": {}
      },
      "source": [
        "same_values = [2, 3, 4]\n",
        "same_series = pd.Series(same_values)\n",
        "print(same_series)\n",
        "same_series.dtypes # correctly infers ints"
      ],
      "execution_count": 0,
      "outputs": []
    },
    {
      "cell_type": "code",
      "metadata": {
        "id": "pKzaR5LjEgqk",
        "colab_type": "code",
        "colab": {}
      },
      "source": [
        "same_series.head()"
      ],
      "execution_count": 0,
      "outputs": []
    },
    {
      "cell_type": "markdown",
      "metadata": {
        "id": "oDDgNt47Egqq",
        "colab_type": "text"
      },
      "source": [
        "### *Aside: Pandas and memory*\n",
        "\n",
        "Notice that we did above:\n",
        "\n",
        "`dfcars=dfcars.rename(columns={\"Unnamed: 0\": \"name\"})`\n",
        "\n",
        "In other words we bound the same name `dfcars` to the result of the `rename` method.\n",
        "\n",
        "The `rename` operation  creates a new dataframe. This is an example of \"functional programming\" where we always create new objects from functions, rather than changing old ones. After doing this, we just renamed the new dataframe with the old name  `dfcars`. This is because variables in Python are just post-its, labels, or *bindings*: they are just aliases for a piece of memory.  The `rename` method on dataframes creates a new dataframe, and we rebind the variable `dfcars` to point to this new piece of memory. What about the old piece of memory `dfcars` pointed to? Its now  bindingless and will be destroyed by Python's garbage collector. This is how Python manages memory on your computer.\n",
        "\n",
        "This is the recommended style of Python programming unless you have very limited memory on your computer. Don't create a `dfcars2` dataframe.\n",
        "\n",
        "But you might, quite rightly argue, what if the dataframe is huge and you have very limited memory? For this reason, almost all Pandas methods have a `inplace=True` option, see the `rename` docs for example.  You can then say:\n",
        "\n",
        "```\n",
        "dfcars.rename(columns={\"Unnamed: 0\":\"name\"}, inplace=True)\n",
        "```\n",
        "\n",
        "Now the old dataframe is changed in place.\n",
        "\n",
        "That being said, don't do this if at all possible.  While it takes less memory (and thus you might sometimes need to do it), structures in place needs careful ordering and tracking of operations.  And, as human beings, we tend to be fallible.\n",
        "\n",
        "(Even in big-data programs like Hadoop and Spark, new objects are created. Why?  In these cases you are typically working on multiple machines.  What if one goes down while an operation is happening? You then at least have all of the old dataframe parts on all the machines, rather than some parts having changed. This is the advantage of functional programming using \"immutable\" data structures.)"
      ]
    },
    {
      "cell_type": "markdown",
      "metadata": {
        "collapsed": true,
        "id": "Rr7B_i16Egqr",
        "colab_type": "text"
      },
      "source": [
        "## Part 4:  Exploratory Data Analysis (EDA) - Global Properties\n",
        "\n",
        "Below is a basic checklist for the early stages of exploratory data analysis in Python. While not universally applicable, the rubric covers patterns which recur in several data analysis contexts, so useful to keep it in mind when encountering a new dataset.\n",
        "\n",
        "The basic workflow (enunciated in this form by Chris Beaumont, the first Head TF of cs109 ever) is as follows:\n",
        "\n",
        "1. **Build** a DataFrame from the data (ideally, put all data in this object)\n",
        "2. **Clean** the DataFrame. It should have the following properties:\n",
        "    - Each row describes a single object\n",
        "    - Each column describes a property of that object\n",
        "    - Columns are numeric whenever appropriate\n",
        "    - Columns contain atomic properties that cannot be further decomposed\n",
        "    \n",
        "3. Explore **global properties**. Use histograms, scatter plots, and aggregation functions to summarize the data.\n",
        "4. Explore **group properties**. Use groupby and small multiples to compare subsets of the data.\n",
        "\n",
        "This process transforms the data into a format which is easier to work with, gives you a basic overview of the data's properties, and likely generates several questions for you to follow-up on in subsequent analysis.\n",
        "\n",
        "So far we have **built** the dataframe from automobile data, and carried out very minimal **cleaning** (renaming) in this dataframe.  We'll now visualize global  properties of our dataset.  We illustrate the concepts using `mpg`.  A similar analysis should be done for all the data columns, as this may help identify interesting properties and even errors in the dataset.  **Group** properties will be discussed later in Monday's lecture."
      ]
    },
    {
      "cell_type": "markdown",
      "metadata": {
        "id": "DF_gOskkEgqs",
        "colab_type": "text"
      },
      "source": [
        "### Histograms\n",
        "A histogram shows the frequency distribution of a dataset.  Below is the distribution of `mpg`.  The `.hist` method of a pandas series plots the distribution, and the seaborn package sets the global `matplotlib` plotting context.  Here, we've used `notebook`, which makes reasonable sized graphics in seaborn's default color palette.  "
      ]
    },
    {
      "cell_type": "code",
      "metadata": {
        "id": "QZexWHO0Egqs",
        "colab_type": "code",
        "colab": {}
      },
      "source": [
        "import matplotlib.pyplot as plt #sets up plotting under plt\n",
        "import seaborn as sns #sets up styles and gives us more plotting options"
      ],
      "execution_count": 0,
      "outputs": []
    },
    {
      "cell_type": "code",
      "metadata": {
        "id": "EFPY1qY-Egqu",
        "colab_type": "code",
        "colab": {}
      },
      "source": [
        "sns.set_context(\"notebook\")\n",
        "dfcars.mpg.plot.hist()  \n",
        "plt.xlabel(\"mpg\");"
      ],
      "execution_count": 0,
      "outputs": []
    },
    {
      "cell_type": "markdown",
      "metadata": {
        "id": "I2cFoyy9Egqy",
        "colab_type": "text"
      },
      "source": [
        "We could have made the same histogram with `matplotlib` using the `hist` function.   We can use `matplotlib` on a pandas series or any other listy container which we might do, for example, if a certain type of plot is not yet supported by pandas.  Below we use `matplotlib`  `hist`, set the seaborn context to `poster` to create a larger graphic, add axes labels and titles, and change the number of bins from the default.  "
      ]
    },
    {
      "cell_type": "code",
      "metadata": {
        "id": "yUVUYj-hEgqz",
        "colab_type": "code",
        "colab": {}
      },
      "source": [
        "sns.set_context(\"poster\")\n",
        "plt.hist(dfcars.mpg, bins=20);\n",
        "plt.xlabel(\"mpg\");\n",
        "plt.ylabel(\"Frequency\")\n",
        "plt.title(\"Miles per Gallon\");"
      ],
      "execution_count": 0,
      "outputs": []
    },
    {
      "cell_type": "markdown",
      "metadata": {
        "id": "ZovBwkWqEgq1",
        "colab_type": "text"
      },
      "source": [
        "Check out the documentation for even more options!"
      ]
    },
    {
      "cell_type": "markdown",
      "metadata": {
        "id": "EySsFwuQEgq2",
        "colab_type": "text"
      },
      "source": [
        ">**EXERCISE**: Plot the distribution of the rear axle ratio (`drat`).  Label the axes accordingly and give the plot a title.    Calculate the mean of the distribution, and, if you like, draw a line on the figure showing the location of the mean (see the documentation for `axvline`).\n"
      ]
    },
    {
      "cell_type": "code",
      "metadata": {
        "id": "2DVbRSlvEgq5",
        "colab_type": "code",
        "colab": {}
      },
      "source": [
        "# your code here\n"
      ],
      "execution_count": 0,
      "outputs": []
    },
    {
      "cell_type": "markdown",
      "metadata": {
        "id": "5Ce2h_RyEgq7",
        "colab_type": "text"
      },
      "source": [
        "### Scatter plots\n",
        "We often want to see co-variation among our columns, for example, miles/gallon versus weight.  This can be done with a scatter plot. "
      ]
    },
    {
      "cell_type": "code",
      "metadata": {
        "id": "WxWrhYJ0Egq7",
        "colab_type": "code",
        "colab": {}
      },
      "source": [
        "sns.set_context(\"notebook\")\n",
        "plt.scatter(dfcars.wt, dfcars.mpg);\n",
        "plt.xlabel(\"weight\");\n",
        "plt.ylabel(\"miles per gallon\");"
      ],
      "execution_count": 0,
      "outputs": []
    },
    {
      "cell_type": "markdown",
      "metadata": {
        "id": "7E7nh7wAEgq9",
        "colab_type": "text"
      },
      "source": [
        "You could have used `plot` instead of `scatter`.  Let's look at the `plot` documentation."
      ]
    },
    {
      "cell_type": "code",
      "metadata": {
        "id": "ReZ2SM4JEgq9",
        "colab_type": "code",
        "colab": {}
      },
      "source": [
        "# look at the .plot documentation\n",
        "plt.plot?"
      ],
      "execution_count": 0,
      "outputs": []
    },
    {
      "cell_type": "markdown",
      "metadata": {
        "id": "7pYoxs91Egq-",
        "colab_type": "text"
      },
      "source": [
        "And plot the data as dots."
      ]
    },
    {
      "cell_type": "code",
      "metadata": {
        "id": "PLLe9xToEgrB",
        "colab_type": "code",
        "colab": {}
      },
      "source": [
        "plt.plot(dfcars.wt, dfcars.mpg, 'o');\n",
        "plt.xlabel(\"weight\");\n",
        "plt.ylabel(\"miles per gallon\");"
      ],
      "execution_count": 0,
      "outputs": []
    },
    {
      "cell_type": "markdown",
      "metadata": {
        "id": "1Z0R3GXQEgrD",
        "colab_type": "text"
      },
      "source": [
        "Usually we use `plt.show()` at the end of every plot to display the plot. Our magical incantation `%matplotlib inline` takes care of this for us, and we don't have to do it in the Jupyter notebook. But if you run your Python program from a file, you will need to explicitly have a call to show. We include it for completion."
      ]
    },
    {
      "cell_type": "code",
      "metadata": {
        "id": "UNqT5J6YEgrE",
        "colab_type": "code",
        "colab": {}
      },
      "source": [
        "plt.plot(dfcars.wt, dfcars.mpg, 'ko')  #black dots\n",
        "plt.xlabel(\"weight\");\n",
        "plt.ylabel(\"miles per gallon\");\n",
        "plt.show()"
      ],
      "execution_count": 0,
      "outputs": []
    },
    {
      "cell_type": "markdown",
      "metadata": {
        "id": "vurEoG62EgrG",
        "colab_type": "text"
      },
      "source": [
        "Suppose we'd like to save a figure to a file.  We do this by including the `savefig` command in the same cell as the plotting commands.  The file extension tells you how the file will be saved. "
      ]
    },
    {
      "cell_type": "code",
      "metadata": {
        "id": "MIQV8Z2EEgrG",
        "colab_type": "code",
        "colab": {}
      },
      "source": [
        "plt.plot(dfcars.wt, dfcars.mpg, 'o')\n",
        "plt.xlabel(\"weight\");\n",
        "plt.ylabel(\"miles per gallon\");\n",
        "plt.savefig('images/foo1.pdf')\n",
        "plt.savefig('images/foo2.png', bbox_inches='tight') #less whitespace around image"
      ],
      "execution_count": 0,
      "outputs": []
    },
    {
      "cell_type": "markdown",
      "metadata": {
        "id": "Wozewc-ZEgrI",
        "colab_type": "text"
      },
      "source": [
        "And this is what the saved png looks like. Code in Markdown to show this is:\n",
        "\n",
        "`![](https://github.com/mohammad0alfares/EDA/blob/master/Labs/images/foo2.png?raw=1)`\n",
        "\n",
        "![](https://github.com/mohammad0alfares/EDA/blob/master/Labs/images/foo2.png?raw=1)"
      ]
    },
    {
      "cell_type": "markdown",
      "metadata": {
        "id": "yVqfHZy4EgrJ",
        "colab_type": "text"
      },
      "source": [
        "Finally, look what happens if we plot the data as dots connected by a line.  We get a useless soup!"
      ]
    },
    {
      "cell_type": "code",
      "metadata": {
        "id": "Ztr6iewpEgrJ",
        "colab_type": "code",
        "colab": {}
      },
      "source": [
        "plt.plot(dfcars.wt, dfcars.mpg, 'o-')  \n",
        "plt.xlabel(\"weight\");\n",
        "plt.ylabel(\"miles per gallon\");\n",
        "plt.show()"
      ],
      "execution_count": 0,
      "outputs": []
    },
    {
      "cell_type": "markdown",
      "metadata": {
        "id": "6yvcZT9AEgrM",
        "colab_type": "text"
      },
      "source": [
        "To fix this problem, we make a new dataframe with the columns of interest, sort it based on the x-value (`wt` in this case), and plot the sorted data."
      ]
    },
    {
      "cell_type": "code",
      "metadata": {
        "id": "K83Hi7EBEgrN",
        "colab_type": "code",
        "colab": {}
      },
      "source": [
        "sub_dfcars = dfcars[['wt', 'mpg']]\n",
        "df_temp = sub_dfcars.sort_values('wt')\n",
        "plt.plot(df_temp.wt, df_temp.mpg, 'o-');\n",
        "plt.xlabel(\"weight\");\n",
        "plt.ylabel(\"miles per gallon\");\n",
        "plt.show()"
      ],
      "execution_count": 0,
      "outputs": []
    },
    {
      "cell_type": "markdown",
      "metadata": {
        "id": "5Pz08FgNEgrP",
        "colab_type": "text"
      },
      "source": [
        "Below is a summary of the most commonly used `matplotlib` plotting routines.\n",
        "\n",
        "![](https://github.com/mohammad0alfares/EDA/blob/master/Labs/images/mpl1.png?raw=1)"
      ]
    },
    {
      "cell_type": "markdown",
      "metadata": {
        "id": "SC66HlSbEgrQ",
        "colab_type": "text"
      },
      "source": [
        ">**EXERCISE**: Create a scatter plot showing the co-variation between two columns of your choice.  Label the axes.  See if you can do this *without* copying and pasting code from earlier in the lab.  What can you conclude, if anything, from your scatter plot?"
      ]
    },
    {
      "cell_type": "code",
      "metadata": {
        "id": "bWF3Ywa0EgrR",
        "colab_type": "code",
        "colab": {}
      },
      "source": [
        "# your code here\n"
      ],
      "execution_count": 0,
      "outputs": []
    },
    {
      "cell_type": "markdown",
      "metadata": {
        "id": "vKCEqYGhEgrS",
        "colab_type": "text"
      },
      "source": [
        "## Part 5: Conclusions"
      ]
    },
    {
      "cell_type": "markdown",
      "metadata": {
        "collapsed": true,
        "id": "jTxsqowbEgrS",
        "colab_type": "text"
      },
      "source": [
        "In this lab we introduced functions, the numpy and pandas libraries, and beginning EDA through histograms and scatter polots.  We've tried to consolidate the information as much as possible, so have necessarily left out other topics of interest.  For more practice exercises (with solutions) and discussion, see this [page](http://www.practicepython.org).  Some of these exercises are particularly relevant.  Check them out!\n",
        "\n",
        "Don't forget to look up [Jake's book](https://jakevdp.github.io/PythonDataScienceHandbook/).\n",
        "\n",
        "Finally, we would like to suggest using [Chris Albon's web site](https://chrisalbon.com) as a reference. Lots of useful information there."
      ]
    }
  ]
}