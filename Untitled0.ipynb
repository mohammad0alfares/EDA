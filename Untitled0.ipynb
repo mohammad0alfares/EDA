{
  "nbformat": 4,
  "nbformat_minor": 0,
  "metadata": {
    "colab": {
      "name": "Untitled0.ipynb",
      "provenance": [],
      "authorship_tag": "ABX9TyMO0MedjhTvpOyctVeT+dmp",
      "include_colab_link": true
    },
    "kernelspec": {
      "name": "python3",
      "display_name": "Python 3"
    }
  },
  "cells": [
    {
      "cell_type": "markdown",
      "metadata": {
        "id": "view-in-github",
        "colab_type": "text"
      },
      "source": [
        "<a href=\"https://colab.research.google.com/github/mohammad0alfares/EDA/blob/master/Untitled0.ipynb\" target=\"_parent\"><img src=\"https://colab.research.google.com/assets/colab-badge.svg\" alt=\"Open In Colab\"/></a>"
      ]
    },
    {
      "cell_type": "code",
      "metadata": {
        "id": "Tf4TuLAKMMm9",
        "colab_type": "code",
        "colab": {}
      },
      "source": [
        "import numpy as np\n",
        "import pandas as pd\n",
        "import matplotlib.pyplot as plt\n",
        "import seaborn as sns "
      ],
      "execution_count": 0,
      "outputs": []
    },
    {
      "cell_type": "code",
      "metadata": {
        "id": "ne09Y8CPNTQo",
        "colab_type": "code",
        "outputId": "0f3c81c7-2913-4f56-aae9-102e434207ca",
        "colab": {
          "base_uri": "https://localhost:8080/",
          "height": 255
        }
      },
      "source": [
        "df_swing = pd.read_csv('https://raw.githubusercontent.com/mohammad0alfares/EDA/master/Labs/data/2008_swing_states.csv')\n",
        "df_swing.head()"
      ],
      "execution_count": 2,
      "outputs": [
        {
          "output_type": "execute_result",
          "data": {
            "text/html": [
              "<div>\n",
              "<style scoped>\n",
              "    .dataframe tbody tr th:only-of-type {\n",
              "        vertical-align: middle;\n",
              "    }\n",
              "\n",
              "    .dataframe tbody tr th {\n",
              "        vertical-align: top;\n",
              "    }\n",
              "\n",
              "    .dataframe thead th {\n",
              "        text-align: right;\n",
              "    }\n",
              "</style>\n",
              "<table border=\"1\" class=\"dataframe\">\n",
              "  <thead>\n",
              "    <tr style=\"text-align: right;\">\n",
              "      <th></th>\n",
              "      <th>year</th>\n",
              "      <th>state</th>\n",
              "      <th>county</th>\n",
              "      <th>fips</th>\n",
              "      <th>vote_rep</th>\n",
              "      <th>vote_dem</th>\n",
              "      <th>vote_oth</th>\n",
              "      <th>vote_total</th>\n",
              "      <th>pct_rep</th>\n",
              "      <th>pct_dem</th>\n",
              "      <th>pct_oth</th>\n",
              "      <th>winner</th>\n",
              "      <th>runnerup</th>\n",
              "      <th>pct_winner</th>\n",
              "      <th>margin_winner_over_runnerup</th>\n",
              "    </tr>\n",
              "  </thead>\n",
              "  <tbody>\n",
              "    <tr>\n",
              "      <th>0</th>\n",
              "      <td>2008</td>\n",
              "      <td>AL</td>\n",
              "      <td>Autauga County</td>\n",
              "      <td>1001</td>\n",
              "      <td>17403</td>\n",
              "      <td>6093</td>\n",
              "      <td>145</td>\n",
              "      <td>23641</td>\n",
              "      <td>73.6</td>\n",
              "      <td>25.8</td>\n",
              "      <td>0.6</td>\n",
              "      <td>rep</td>\n",
              "      <td>dem</td>\n",
              "      <td>73.6</td>\n",
              "      <td>47.8</td>\n",
              "    </tr>\n",
              "    <tr>\n",
              "      <th>1</th>\n",
              "      <td>2008</td>\n",
              "      <td>AL</td>\n",
              "      <td>Baldwin County</td>\n",
              "      <td>1003</td>\n",
              "      <td>61271</td>\n",
              "      <td>19386</td>\n",
              "      <td>756</td>\n",
              "      <td>81413</td>\n",
              "      <td>75.3</td>\n",
              "      <td>23.8</td>\n",
              "      <td>0.9</td>\n",
              "      <td>rep</td>\n",
              "      <td>dem</td>\n",
              "      <td>75.3</td>\n",
              "      <td>51.5</td>\n",
              "    </tr>\n",
              "    <tr>\n",
              "      <th>2</th>\n",
              "      <td>2008</td>\n",
              "      <td>AL</td>\n",
              "      <td>Barbour County</td>\n",
              "      <td>1005</td>\n",
              "      <td>5866</td>\n",
              "      <td>5697</td>\n",
              "      <td>67</td>\n",
              "      <td>11630</td>\n",
              "      <td>50.4</td>\n",
              "      <td>49.0</td>\n",
              "      <td>0.6</td>\n",
              "      <td>rep</td>\n",
              "      <td>dem</td>\n",
              "      <td>50.4</td>\n",
              "      <td>1.4</td>\n",
              "    </tr>\n",
              "    <tr>\n",
              "      <th>3</th>\n",
              "      <td>2008</td>\n",
              "      <td>AL</td>\n",
              "      <td>Bibb County</td>\n",
              "      <td>1007</td>\n",
              "      <td>6262</td>\n",
              "      <td>2299</td>\n",
              "      <td>83</td>\n",
              "      <td>8644</td>\n",
              "      <td>72.4</td>\n",
              "      <td>26.6</td>\n",
              "      <td>1.0</td>\n",
              "      <td>rep</td>\n",
              "      <td>dem</td>\n",
              "      <td>72.4</td>\n",
              "      <td>45.8</td>\n",
              "    </tr>\n",
              "    <tr>\n",
              "      <th>4</th>\n",
              "      <td>2008</td>\n",
              "      <td>AL</td>\n",
              "      <td>Blount County</td>\n",
              "      <td>1009</td>\n",
              "      <td>20389</td>\n",
              "      <td>3522</td>\n",
              "      <td>356</td>\n",
              "      <td>24267</td>\n",
              "      <td>84.0</td>\n",
              "      <td>14.5</td>\n",
              "      <td>1.5</td>\n",
              "      <td>rep</td>\n",
              "      <td>dem</td>\n",
              "      <td>84.0</td>\n",
              "      <td>69.5</td>\n",
              "    </tr>\n",
              "  </tbody>\n",
              "</table>\n",
              "</div>"
            ],
            "text/plain": [
              "   year state          county  ... runnerup  pct_winner  margin_winner_over_runnerup\n",
              "0  2008    AL  Autauga County  ...      dem        73.6                         47.8\n",
              "1  2008    AL  Baldwin County  ...      dem        75.3                         51.5\n",
              "2  2008    AL  Barbour County  ...      dem        50.4                          1.4\n",
              "3  2008    AL     Bibb County  ...      dem        72.4                         45.8\n",
              "4  2008    AL   Blount County  ...      dem        84.0                         69.5\n",
              "\n",
              "[5 rows x 15 columns]"
            ]
          },
          "metadata": {
            "tags": []
          },
          "execution_count": 2
        }
      ]
    },
    {
      "cell_type": "code",
      "metadata": {
        "id": "lMwFBeoENlCP",
        "colab_type": "code",
        "outputId": "2f70f63e-ab0e-4a47-cc9d-874c1d842627",
        "colab": {
          "base_uri": "https://localhost:8080/",
          "height": 357
        }
      },
      "source": [
        "df_swing.info()"
      ],
      "execution_count": 3,
      "outputs": [
        {
          "output_type": "stream",
          "text": [
            "<class 'pandas.core.frame.DataFrame'>\n",
            "RangeIndex: 3154 entries, 0 to 3153\n",
            "Data columns (total 15 columns):\n",
            "year                           3154 non-null int64\n",
            "state                          3154 non-null object\n",
            "county                         3154 non-null object\n",
            "fips                           3154 non-null object\n",
            "vote_rep                       3154 non-null int64\n",
            "vote_dem                       3154 non-null int64\n",
            "vote_oth                       3154 non-null int64\n",
            "vote_total                     3154 non-null int64\n",
            "pct_rep                        3154 non-null float64\n",
            "pct_dem                        3154 non-null float64\n",
            "pct_oth                        3154 non-null float64\n",
            "winner                         3154 non-null object\n",
            "runnerup                       3154 non-null object\n",
            "pct_winner                     3154 non-null float64\n",
            "margin_winner_over_runnerup    3154 non-null float64\n",
            "dtypes: float64(5), int64(5), object(5)\n",
            "memory usage: 369.7+ KB\n"
          ],
          "name": "stdout"
        }
      ]
    },
    {
      "cell_type": "code",
      "metadata": {
        "id": "Qzs-aFyCOuHx",
        "colab_type": "code",
        "outputId": "2fd40491-4c89-4995-9229-d5775d25e4fa",
        "colab": {
          "base_uri": "https://localhost:8080/",
          "height": 285
        }
      },
      "source": [
        "sns.set()\n",
        "_=plt.hist(df_swing['pct_dem'],bins=range(10,100,10))\n",
        "_=plt.xlabel('xxxx state')\n",
        "_=plt.ylabel('numbr of votes')\n",
        "plt.show()"
      ],
      "execution_count": 4,
      "outputs": [
        {
          "output_type": "display_data",
          "data": {
            "image/png": "[encoded data removed]",
            "text/plain": [
              "<Figure size 432x288 with 1 Axes>"
            ]
          },
          "metadata": {
            "tags": []
          }
        }
      ]
    },
    {
      "cell_type": "code",
      "metadata": {
        "id": "blPvm913TE9F",
        "colab_type": "code",
        "outputId": "101ee3ab-f4f5-40fe-967a-aa88e405942b",
        "colab": {
          "base_uri": "https://localhost:8080/",
          "height": 287
        }
      },
      "source": [
        "\n",
        "x = df_swing.groupby('state')['pct_dem'].sum().sort_values()\n",
        "x.plot(kind='barh')"
      ],
      "execution_count": 0,
      "outputs": [
        {
          "output_type": "execute_result",
          "data": {
            "text/plain": [
              "<matplotlib.axes._subplots.AxesSubplot at 0x7f3e8d5fdd30>"
            ]
          },
          "metadata": {
            "tags": []
          },
          "execution_count": 27
        },
        {
          "output_type": "display_data",
          "data": {
            "image/png": "[encoded data removed]",
            "text/plain": [
              "<Figure size 432x288 with 1 Axes>"
            ]
          },
          "metadata": {
            "tags": []
          }
        }
      ]
    }
  ]
}