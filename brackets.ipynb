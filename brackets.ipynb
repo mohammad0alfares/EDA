{
  "nbformat": 4,
  "nbformat_minor": 0,
  "metadata": {
    "colab": {
      "name": "Untitled2.ipynb",
      "provenance": [],
      "authorship_tag": "ABX9TyN0jiHSQX26DUtPjY/i1No+",
      "include_colab_link": true
    },
    "kernelspec": {
      "name": "python3",
      "display_name": "Python 3"
    }
  },
  "cells": [
    {
      "cell_type": "markdown",
      "metadata": {
        "id": "view-in-github",
        "colab_type": "text"
      },
      "source": [
        "<a href=\"https://colab.research.google.com/github/mohammad0alfares/EDA/blob/master/brackets.ipynb\" target=\"_parent\"><img src=\"https://colab.research.google.com/assets/colab-badge.svg\" alt=\"Open In Colab\"/></a>"
      ]
    },
    {
      "cell_type": "markdown",
      "metadata": {
        "id": "RZr7xEVn9tIw",
        "colab_type": "text"
      },
      "source": [
        "# []  list , comprahension\n",
        "# {}  set , dictionary \n",
        "# ()  tuple, function"
      ]
    },
    {
      "cell_type": "markdown",
      "metadata": {
        "id": "avLqlw4k3ztC",
        "colab_type": "text"
      },
      "source": [
        "**Brackets** used for \n",
        "*   lists\n",
        "*   comparhensions List\n",
        "*   Indexing and Lookup\n"
      ]
    },
    {
      "cell_type": "code",
      "metadata": {
        "id": "lICl2R-L3wVn",
        "colab_type": "code",
        "colab": {
          "base_uri": "https://localhost:8080/",
          "height": 34
        },
        "outputId": "ccf07cf5-d415-49c4-d645-6648fdecd411"
      },
      "source": [
        "l= [1,2,3,4,5]\n",
        "type(l)\n"
      ],
      "execution_count": 1,
      "outputs": [
        {
          "output_type": "execute_result",
          "data": {
            "text/plain": [
              "list"
            ]
          },
          "metadata": {
            "tags": []
          },
          "execution_count": 1
        }
      ]
    },
    {
      "cell_type": "code",
      "metadata": {
        "id": "bRcq_Iku4H1W",
        "colab_type": "code",
        "colab": {
          "base_uri": "https://localhost:8080/",
          "height": 34
        },
        "outputId": "4b061f21-460d-468f-82ef-2ce1dc9d1204"
      },
      "source": [
        "l[1]"
      ],
      "execution_count": 4,
      "outputs": [
        {
          "output_type": "execute_result",
          "data": {
            "text/plain": [
              "5"
            ]
          },
          "metadata": {
            "tags": []
          },
          "execution_count": 4
        }
      ]
    },
    {
      "cell_type": "code",
      "metadata": {
        "id": "-FGii5cv4NIX",
        "colab_type": "code",
        "colab": {
          "base_uri": "https://localhost:8080/",
          "height": 34
        },
        "outputId": "d4f2cdf7-4be0-4745-f261-0bfe05e71940"
      },
      "source": [
        "l=[i for i in range(100) if i%5==0]\n",
        "l\n"
      ],
      "execution_count": 3,
      "outputs": [
        {
          "output_type": "execute_result",
          "data": {
            "text/plain": [
              "[0, 5, 10, 15, 20, 25, 30, 35, 40, 45, 50, 55, 60, 65, 70, 75, 80, 85, 90, 95]"
            ]
          },
          "metadata": {
            "tags": []
          },
          "execution_count": 3
        }
      ]
    },
    {
      "cell_type": "code",
      "metadata": {
        "id": "K8K4kZBW5yQo",
        "colab_type": "code",
        "colab": {
          "base_uri": "https://localhost:8080/",
          "height": 34
        },
        "outputId": "9078aa15-6912-4907-891f-95d7eb70074f"
      },
      "source": [
        "l[0]= 7\n",
        "l"
      ],
      "execution_count": 10,
      "outputs": [
        {
          "output_type": "execute_result",
          "data": {
            "text/plain": [
              "[7, 5, 10, 15, 20, 25, 30, 35, 40, 45, 50, 55, 60, 65, 70, 75, 80, 85, 90, 95]"
            ]
          },
          "metadata": {
            "tags": []
          },
          "execution_count": 10
        }
      ]
    },
    {
      "cell_type": "code",
      "metadata": {
        "id": "fRpzupvd5gJT",
        "colab_type": "code",
        "colab": {
          "base_uri": "https://localhost:8080/",
          "height": 34
        },
        "outputId": "d50a9584-3b71-4356-cece-49b2bdfba483"
      },
      "source": [
        "m = 'mohammad'\n",
        "m[6]"
      ],
      "execution_count": 8,
      "outputs": [
        {
          "output_type": "execute_result",
          "data": {
            "text/plain": [
              "'a'"
            ]
          },
          "metadata": {
            "tags": []
          },
          "execution_count": 8
        }
      ]
    },
    {
      "cell_type": "code",
      "metadata": {
        "id": "ShhL92WO5_J1",
        "colab_type": "code",
        "colab": {
          "base_uri": "https://localhost:8080/",
          "height": 34
        },
        "outputId": "b7d695a4-05c0-4717-c4d8-0f96c48ecd64"
      },
      "source": [
        "m[1:4]"
      ],
      "execution_count": 11,
      "outputs": [
        {
          "output_type": "execute_result",
          "data": {
            "text/plain": [
              "'oha'"
            ]
          },
          "metadata": {
            "tags": []
          },
          "execution_count": 11
        }
      ]
    },
    {
      "cell_type": "markdown",
      "metadata": {
        "id": "6ljjDc2_6QY5",
        "colab_type": "text"
      },
      "source": [
        "**Braces** are used for \n",
        "\n",
        "1.   set\n",
        "2.   dictionaty \n",
        "\n",
        "\n"
      ]
    },
    {
      "cell_type": "code",
      "metadata": {
        "id": "I2NERSca6bWO",
        "colab_type": "code",
        "colab": {
          "base_uri": "https://localhost:8080/",
          "height": 51
        },
        "outputId": "3c7b99aa-bdca-4b1e-8abe-012275c7dbdb"
      },
      "source": [
        "s = {1,2,3}\n",
        "print(s)\n",
        "type(s)"
      ],
      "execution_count": 13,
      "outputs": [
        {
          "output_type": "stream",
          "text": [
            "{1, 2, 3}\n"
          ],
          "name": "stdout"
        },
        {
          "output_type": "execute_result",
          "data": {
            "text/plain": [
              "set"
            ]
          },
          "metadata": {
            "tags": []
          },
          "execution_count": 13
        }
      ]
    },
    {
      "cell_type": "code",
      "metadata": {
        "id": "d2m4ZpAI6mlk",
        "colab_type": "code",
        "colab": {
          "base_uri": "https://localhost:8080/",
          "height": 68
        },
        "outputId": "0cbe2df6-fe06-450d-e0a8-8491cbb5be94"
      },
      "source": [
        "d={'name':'wsiam' ,'age':10 }\n",
        "print (d['name'])\n",
        "print(d['age'])\n",
        "print (type(d))"
      ],
      "execution_count": 16,
      "outputs": [
        {
          "output_type": "stream",
          "text": [
            "wsiam\n",
            "10\n",
            "<class 'dict'>\n"
          ],
          "name": "stdout"
        }
      ]
    },
    {
      "cell_type": "markdown",
      "metadata": {
        "id": "Fnl3PQRn7aDn",
        "colab_type": "text"
      },
      "source": [
        "Parantheses are used to create:\n",
        "\n",
        "*   tuple \n",
        "*   Order operations\n",
        "*   functions \n"
      ]
    },
    {
      "cell_type": "code",
      "metadata": {
        "id": "2hDjfYaT7VEq",
        "colab_type": "code",
        "colab": {
          "base_uri": "https://localhost:8080/",
          "height": 51
        },
        "outputId": "76d9c24c-6146-4075-ccac-5f574ab709bc"
      },
      "source": [
        "t = (1,2,3)\n",
        "print (type(t)) \n",
        "t[2]"
      ],
      "execution_count": 18,
      "outputs": [
        {
          "output_type": "stream",
          "text": [
            "<class 'tuple'>\n"
          ],
          "name": "stdout"
        },
        {
          "output_type": "execute_result",
          "data": {
            "text/plain": [
              "3"
            ]
          },
          "metadata": {
            "tags": []
          },
          "execution_count": 18
        }
      ]
    },
    {
      "cell_type": "code",
      "metadata": {
        "id": "CkqAbPK-8O3v",
        "colab_type": "code",
        "colab": {
          "base_uri": "https://localhost:8080/",
          "height": 51
        },
        "outputId": "dc76c32e-8e3e-4e6f-d41e-71bd79d041e3"
      },
      "source": [
        "print (1+2*(10+3))\n",
        "print (1+2*10+3)"
      ],
      "execution_count": 20,
      "outputs": [
        {
          "output_type": "stream",
          "text": [
            "27\n",
            "24\n"
          ],
          "name": "stdout"
        }
      ]
    }
  ]
}