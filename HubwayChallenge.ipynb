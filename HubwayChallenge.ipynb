{
  "nbformat": 4,
  "nbformat_minor": 0,
  "metadata": {
    "colab": {
      "name": "Untitled1.ipynb",
      "provenance": [],
      "authorship_tag": "ABX9TyMYRZEiTAhz3oYK8jNhArcI",
      "include_colab_link": true
    },
    "kernelspec": {
      "name": "python3",
      "display_name": "Python 3"
    }
  },
  "cells": [
    {
      "cell_type": "markdown",
      "metadata": {
        "id": "view-in-github",
        "colab_type": "text"
      },
      "source": [
        "<a href=\"https://colab.research.google.com/github/mohammad0alfares/EDA/blob/master/HubwayChallenge.ipynb\" target=\"_parent\"><img src=\"https://colab.research.google.com/assets/colab-badge.svg\" alt=\"Open In Colab\"/></a>"
      ]
    },
    {
      "cell_type": "code",
      "metadata": {
        "id": "vzQTT4qKwSL8",
        "colab_type": "code",
        "colab": {}
      },
      "source": [
        "import pandas as pd"
      ],
      "execution_count": 0,
      "outputs": []
    },
    {
      "cell_type": "code",
      "metadata": {
        "id": "A3hrFIqawZIr",
        "colab_type": "code",
        "colab": {}
      },
      "source": [
        "\n",
        "url = 'https://raw.githubusercontent.com/brl1906/HubwayChallenge/master/Hubway/Data/201712-hubway-tripdata.csv'\n",
        "df=pd.read_csv(url)"
      ],
      "execution_count": 0,
      "outputs": []
    },
    {
      "cell_type": "code",
      "metadata": {
        "id": "EQw1YdF6wgdG",
        "colab_type": "code",
        "outputId": "750444d7-4129-423a-851e-9d412e45f1a5",
        "colab": {
          "base_uri": "https://localhost:8080/",
          "height": 493
        }
      },
      "source": [
        "df.head()"
      ],
      "execution_count": 4,
      "outputs": [
        {
          "output_type": "execute_result",
          "data": {
            "text/html": [
              "<div>\n",
              "<style scoped>\n",
              "    .dataframe tbody tr th:only-of-type {\n",
              "        vertical-align: middle;\n",
              "    }\n",
              "\n",
              "    .dataframe tbody tr th {\n",
              "        vertical-align: top;\n",
              "    }\n",
              "\n",
              "    .dataframe thead th {\n",
              "        text-align: right;\n",
              "    }\n",
              "</style>\n",
              "<table border=\"1\" class=\"dataframe\">\n",
              "  <thead>\n",
              "    <tr style=\"text-align: right;\">\n",
              "      <th></th>\n",
              "      <th>tripduration</th>\n",
              "      <th>starttime</th>\n",
              "      <th>stoptime</th>\n",
              "      <th>start station id</th>\n",
              "      <th>start station name</th>\n",
              "      <th>start station latitude</th>\n",
              "      <th>start station longitude</th>\n",
              "      <th>end station id</th>\n",
              "      <th>end station name</th>\n",
              "      <th>end station latitude</th>\n",
              "      <th>end station longitude</th>\n",
              "      <th>bikeid</th>\n",
              "      <th>usertype</th>\n",
              "      <th>birth year</th>\n",
              "      <th>gender</th>\n",
              "    </tr>\n",
              "  </thead>\n",
              "  <tbody>\n",
              "    <tr>\n",
              "      <th>0</th>\n",
              "      <td>200</td>\n",
              "      <td>2017-12-01 00:02:02</td>\n",
              "      <td>2017-12-01 00:05:22</td>\n",
              "      <td>160</td>\n",
              "      <td>Wentworth Institute of Technology - Huntington...</td>\n",
              "      <td>42.337586</td>\n",
              "      <td>-71.096271</td>\n",
              "      <td>12</td>\n",
              "      <td>Ruggles T Stop - Columbus Ave at Melnea Cass Blvd</td>\n",
              "      <td>42.336244</td>\n",
              "      <td>-71.087986</td>\n",
              "      <td>1938</td>\n",
              "      <td>Subscriber</td>\n",
              "      <td>1982</td>\n",
              "      <td>0</td>\n",
              "    </tr>\n",
              "    <tr>\n",
              "      <th>1</th>\n",
              "      <td>365</td>\n",
              "      <td>2017-12-01 00:06:14</td>\n",
              "      <td>2017-12-01 00:12:20</td>\n",
              "      <td>226</td>\n",
              "      <td>Commonwealth Ave At Babcock St</td>\n",
              "      <td>42.351547</td>\n",
              "      <td>-71.121262</td>\n",
              "      <td>10</td>\n",
              "      <td>B.U. Central - 725 Comm. Ave.</td>\n",
              "      <td>42.350406</td>\n",
              "      <td>-71.108279</td>\n",
              "      <td>57</td>\n",
              "      <td>Subscriber</td>\n",
              "      <td>1997</td>\n",
              "      <td>1</td>\n",
              "    </tr>\n",
              "    <tr>\n",
              "      <th>2</th>\n",
              "      <td>297</td>\n",
              "      <td>2017-12-01 00:09:08</td>\n",
              "      <td>2017-12-01 00:14:06</td>\n",
              "      <td>74</td>\n",
              "      <td>Harvard Square at Mass Ave/ Dunster</td>\n",
              "      <td>42.373268</td>\n",
              "      <td>-71.118579</td>\n",
              "      <td>76</td>\n",
              "      <td>Central Sq Post Office / Cambridge City Hall a...</td>\n",
              "      <td>42.366426</td>\n",
              "      <td>-71.105495</td>\n",
              "      <td>1201</td>\n",
              "      <td>Subscriber</td>\n",
              "      <td>1977</td>\n",
              "      <td>1</td>\n",
              "    </tr>\n",
              "    <tr>\n",
              "      <th>3</th>\n",
              "      <td>1128</td>\n",
              "      <td>2017-12-01 00:09:36</td>\n",
              "      <td>2017-12-01 00:28:24</td>\n",
              "      <td>46</td>\n",
              "      <td>Christian Science Plaza - Massachusetts Ave at...</td>\n",
              "      <td>42.343666</td>\n",
              "      <td>-71.085824</td>\n",
              "      <td>130</td>\n",
              "      <td>Upham's Corner TEMPORARY WINTER LOCATION</td>\n",
              "      <td>42.317509</td>\n",
              "      <td>-71.064166</td>\n",
              "      <td>1148</td>\n",
              "      <td>Subscriber</td>\n",
              "      <td>1991</td>\n",
              "      <td>1</td>\n",
              "    </tr>\n",
              "    <tr>\n",
              "      <th>4</th>\n",
              "      <td>2594</td>\n",
              "      <td>2017-12-01 00:10:47</td>\n",
              "      <td>2017-12-01 00:54:01</td>\n",
              "      <td>193</td>\n",
              "      <td>Brookline Village - Station Street @ MBTA TEMP...</td>\n",
              "      <td>42.333765</td>\n",
              "      <td>-71.120464</td>\n",
              "      <td>32</td>\n",
              "      <td>Landmark Center - Brookline Ave at Park Dr</td>\n",
              "      <td>42.345194</td>\n",
              "      <td>-71.101697</td>\n",
              "      <td>1712</td>\n",
              "      <td>Subscriber</td>\n",
              "      <td>1963</td>\n",
              "      <td>1</td>\n",
              "    </tr>\n",
              "  </tbody>\n",
              "</table>\n",
              "</div>"
            ],
            "text/plain": [
              "   tripduration            starttime  ... birth year  gender\n",
              "0           200  2017-12-01 00:02:02  ...       1982       0\n",
              "1           365  2017-12-01 00:06:14  ...       1997       1\n",
              "2           297  2017-12-01 00:09:08  ...       1977       1\n",
              "3          1128  2017-12-01 00:09:36  ...       1991       1\n",
              "4          2594  2017-12-01 00:10:47  ...       1963       1\n",
              "\n",
              "[5 rows x 15 columns]"
            ]
          },
          "metadata": {
            "tags": []
          },
          "execution_count": 4
        }
      ]
    },
    {
      "cell_type": "code",
      "metadata": {
        "id": "KbMeK0Whw4FU",
        "colab_type": "code",
        "outputId": "59e93271-70fb-48a6-c1c9-234859201feb",
        "colab": {
          "base_uri": "https://localhost:8080/",
          "height": 357
        }
      },
      "source": [
        "df.info()"
      ],
      "execution_count": 5,
      "outputs": [
        {
          "output_type": "stream",
          "text": [
            "<class 'pandas.core.frame.DataFrame'>\n",
            "RangeIndex: 55072 entries, 0 to 55071\n",
            "Data columns (total 15 columns):\n",
            "tripduration               55072 non-null int64\n",
            "starttime                  55072 non-null object\n",
            "stoptime                   55072 non-null object\n",
            "start station id           55072 non-null int64\n",
            "start station name         55072 non-null object\n",
            "start station latitude     55072 non-null float64\n",
            "start station longitude    55072 non-null float64\n",
            "end station id             55072 non-null int64\n",
            "end station name           55072 non-null object\n",
            "end station latitude       55072 non-null float64\n",
            "end station longitude      55072 non-null float64\n",
            "bikeid                     55072 non-null int64\n",
            "usertype                   55072 non-null object\n",
            "birth year                 55072 non-null object\n",
            "gender                     55072 non-null int64\n",
            "dtypes: float64(4), int64(5), object(6)\n",
            "memory usage: 6.3+ MB\n"
          ],
          "name": "stdout"
        }
      ]
    },
    {
      "cell_type": "code",
      "metadata": {
        "id": "QUur-AhfxIgx",
        "colab_type": "code",
        "outputId": "341a4749-2c16-4cb6-880f-cc4d6499b0f6",
        "colab": {
          "base_uri": "https://localhost:8080/",
          "height": 85
        }
      },
      "source": [
        "tot_trip_count = df.groupby('usertype')['tripduration'].count()\n",
        "print(tot_trip_count)"
      ],
      "execution_count": 6,
      "outputs": [
        {
          "output_type": "stream",
          "text": [
            "usertype\n",
            "Customer       1980\n",
            "Subscriber    53092\n",
            "Name: tripduration, dtype: int64\n"
          ],
          "name": "stdout"
        }
      ]
    },
    {
      "cell_type": "code",
      "metadata": {
        "id": "qaLlwFmPxaRB",
        "colab_type": "code",
        "outputId": "76946b24-0fed-403e-8db5-2dd8898082ed",
        "colab": {
          "base_uri": "https://localhost:8080/",
          "height": 85
        }
      },
      "source": [
        "tot_trip_dur = df.groupby('usertype')['tripduration'].sum()\n",
        "print (tot_trip_dur)"
      ],
      "execution_count": 8,
      "outputs": [
        {
          "output_type": "stream",
          "text": [
            "usertype\n",
            "Customer       8333773\n",
            "Subscriber    38751599\n",
            "Name: tripduration, dtype: int64\n"
          ],
          "name": "stdout"
        }
      ]
    },
    {
      "cell_type": "code",
      "metadata": {
        "id": "doUl6kmf51Ku",
        "colab_type": "code",
        "colab": {}
      },
      "source": [
        "\n",
        "avg_dur_sub = tot_trip_dur[0]/tot_trip_count[0]\n",
        "avg_dur_cas = tot_trip_dur[1]/tot_trip_count[1]\n",
        "print ('Average Trip Duration for Subscribers=',avg_dur_sub)\n",
        "print ('Average Trip Duration for Subscribers=',avg_dur_cas)"
      ],
      "execution_count": 0,
      "outputs": []
    }
  ]
}