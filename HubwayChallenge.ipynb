{
  "nbformat": 4,
  "nbformat_minor": 0,
  "metadata": {
    "colab": {
      "name": "Untitled1.ipynb",
      "provenance": [],
      "authorship_tag": "ABX9TyNQdsk0j4sIdSoIYkj1tAJA",
      "include_colab_link": true
    },
    "kernelspec": {
      "name": "python3",
      "display_name": "Python 3"
    }
  },
  "cells": [
    {
      "cell_type": "markdown",
      "metadata": {
        "id": "view-in-github",
        "colab_type": "text"
      },
      "source": [
        "<a href=\"https://colab.research.google.com/github/mohammad0alfares/EDA/blob/master/HubwayChallenge.ipynb\" target=\"_parent\"><img src=\"https://colab.research.google.com/assets/colab-badge.svg\" alt=\"Open In Colab\"/></a>"
      ]
    },
    {
      "cell_type": "code",
      "metadata": {
        "id": "vzQTT4qKwSL8",
        "colab_type": "code",
        "colab": {}
      },
      "source": [
        "import pandas as pd\n",
        "import matplotlib.pyplot as plt\n",
        "import numpy as np\n",
        "\n"
      ],
      "execution_count": 0,
      "outputs": []
    },
    {
      "cell_type": "code",
      "metadata": {
        "id": "A3hrFIqawZIr",
        "colab_type": "code",
        "colab": {}
      },
      "source": [
        "\n",
        "url = 'https://raw.githubusercontent.com/brl1906/HubwayChallenge/master/Hubway/Data/201712-hubway-tripdata.csv'\n",
        "df=pd.read_csv(url)"
      ],
      "execution_count": 0,
      "outputs": []
    },
    {
      "cell_type": "code",
      "metadata": {
        "id": "EQw1YdF6wgdG",
        "colab_type": "code",
        "outputId": "a5227df0-ea5f-4c44-bc66-695a6c57cc7c",
        "colab": {
          "base_uri": "https://localhost:8080/",
          "height": 547
        }
      },
      "source": [
        "df.head()"
      ],
      "execution_count": 136,
      "outputs": [
        {
          "output_type": "execute_result",
          "data": {
            "text/html": [
              "<div>\n",
              "<style scoped>\n",
              "    .dataframe tbody tr th:only-of-type {\n",
              "        vertical-align: middle;\n",
              "    }\n",
              "\n",
              "    .dataframe tbody tr th {\n",
              "        vertical-align: top;\n",
              "    }\n",
              "\n",
              "    .dataframe thead th {\n",
              "        text-align: right;\n",
              "    }\n",
              "</style>\n",
              "<table border=\"1\" class=\"dataframe\">\n",
              "  <thead>\n",
              "    <tr style=\"text-align: right;\">\n",
              "      <th></th>\n",
              "      <th>tripduration</th>\n",
              "      <th>starttime</th>\n",
              "      <th>stoptime</th>\n",
              "      <th>start station id</th>\n",
              "      <th>start station name</th>\n",
              "      <th>start station latitude</th>\n",
              "      <th>start station longitude</th>\n",
              "      <th>end station id</th>\n",
              "      <th>end station name</th>\n",
              "      <th>end station latitude</th>\n",
              "      <th>end station longitude</th>\n",
              "      <th>bikeid</th>\n",
              "      <th>usertype</th>\n",
              "      <th>birth year</th>\n",
              "      <th>gender</th>\n",
              "    </tr>\n",
              "  </thead>\n",
              "  <tbody>\n",
              "    <tr>\n",
              "      <th>0</th>\n",
              "      <td>200</td>\n",
              "      <td>2017-12-01 00:02:02</td>\n",
              "      <td>2017-12-01 00:05:22</td>\n",
              "      <td>160</td>\n",
              "      <td>Wentworth Institute of Technology - Huntington...</td>\n",
              "      <td>42.337586</td>\n",
              "      <td>-71.096271</td>\n",
              "      <td>12</td>\n",
              "      <td>Ruggles T Stop - Columbus Ave at Melnea Cass Blvd</td>\n",
              "      <td>42.336244</td>\n",
              "      <td>-71.087986</td>\n",
              "      <td>1938</td>\n",
              "      <td>Subscriber</td>\n",
              "      <td>1982</td>\n",
              "      <td>0</td>\n",
              "    </tr>\n",
              "    <tr>\n",
              "      <th>1</th>\n",
              "      <td>365</td>\n",
              "      <td>2017-12-01 00:06:14</td>\n",
              "      <td>2017-12-01 00:12:20</td>\n",
              "      <td>226</td>\n",
              "      <td>Commonwealth Ave At Babcock St</td>\n",
              "      <td>42.351547</td>\n",
              "      <td>-71.121262</td>\n",
              "      <td>10</td>\n",
              "      <td>B.U. Central - 725 Comm. Ave.</td>\n",
              "      <td>42.350406</td>\n",
              "      <td>-71.108279</td>\n",
              "      <td>57</td>\n",
              "      <td>Subscriber</td>\n",
              "      <td>1997</td>\n",
              "      <td>1</td>\n",
              "    </tr>\n",
              "    <tr>\n",
              "      <th>2</th>\n",
              "      <td>297</td>\n",
              "      <td>2017-12-01 00:09:08</td>\n",
              "      <td>2017-12-01 00:14:06</td>\n",
              "      <td>74</td>\n",
              "      <td>Harvard Square at Mass Ave/ Dunster</td>\n",
              "      <td>42.373268</td>\n",
              "      <td>-71.118579</td>\n",
              "      <td>76</td>\n",
              "      <td>Central Sq Post Office / Cambridge City Hall a...</td>\n",
              "      <td>42.366426</td>\n",
              "      <td>-71.105495</td>\n",
              "      <td>1201</td>\n",
              "      <td>Subscriber</td>\n",
              "      <td>1977</td>\n",
              "      <td>1</td>\n",
              "    </tr>\n",
              "    <tr>\n",
              "      <th>3</th>\n",
              "      <td>1128</td>\n",
              "      <td>2017-12-01 00:09:36</td>\n",
              "      <td>2017-12-01 00:28:24</td>\n",
              "      <td>46</td>\n",
              "      <td>Christian Science Plaza - Massachusetts Ave at...</td>\n",
              "      <td>42.343666</td>\n",
              "      <td>-71.085824</td>\n",
              "      <td>130</td>\n",
              "      <td>Upham's Corner TEMPORARY WINTER LOCATION</td>\n",
              "      <td>42.317509</td>\n",
              "      <td>-71.064166</td>\n",
              "      <td>1148</td>\n",
              "      <td>Subscriber</td>\n",
              "      <td>1991</td>\n",
              "      <td>1</td>\n",
              "    </tr>\n",
              "    <tr>\n",
              "      <th>4</th>\n",
              "      <td>2594</td>\n",
              "      <td>2017-12-01 00:10:47</td>\n",
              "      <td>2017-12-01 00:54:01</td>\n",
              "      <td>193</td>\n",
              "      <td>Brookline Village - Station Street @ MBTA TEMP...</td>\n",
              "      <td>42.333765</td>\n",
              "      <td>-71.120464</td>\n",
              "      <td>32</td>\n",
              "      <td>Landmark Center - Brookline Ave at Park Dr</td>\n",
              "      <td>42.345194</td>\n",
              "      <td>-71.101697</td>\n",
              "      <td>1712</td>\n",
              "      <td>Subscriber</td>\n",
              "      <td>1963</td>\n",
              "      <td>1</td>\n",
              "    </tr>\n",
              "  </tbody>\n",
              "</table>\n",
              "</div>"
            ],
            "text/plain": [
              "   tripduration            starttime  ... birth year  gender\n",
              "0           200  2017-12-01 00:02:02  ...       1982       0\n",
              "1           365  2017-12-01 00:06:14  ...       1997       1\n",
              "2           297  2017-12-01 00:09:08  ...       1977       1\n",
              "3          1128  2017-12-01 00:09:36  ...       1991       1\n",
              "4          2594  2017-12-01 00:10:47  ...       1963       1\n",
              "\n",
              "[5 rows x 15 columns]"
            ]
          },
          "metadata": {
            "tags": []
          },
          "execution_count": 136
        }
      ]
    },
    {
      "cell_type": "code",
      "metadata": {
        "id": "KbMeK0Whw4FU",
        "colab_type": "code",
        "outputId": "c53350af-fb06-4141-c522-6f3fb341f54a",
        "colab": {
          "base_uri": "https://localhost:8080/",
          "height": 357
        }
      },
      "source": [
        "df.info()"
      ],
      "execution_count": 129,
      "outputs": [
        {
          "output_type": "stream",
          "text": [
            "<class 'pandas.core.frame.DataFrame'>\n",
            "RangeIndex: 55072 entries, 0 to 55071\n",
            "Data columns (total 15 columns):\n",
            "tripduration               55072 non-null int64\n",
            "starttime                  55072 non-null object\n",
            "stoptime                   55072 non-null object\n",
            "start station id           55072 non-null int64\n",
            "start station name         55072 non-null object\n",
            "start station latitude     55072 non-null float64\n",
            "start station longitude    55072 non-null float64\n",
            "end station id             55072 non-null int64\n",
            "end station name           55072 non-null object\n",
            "end station latitude       55072 non-null float64\n",
            "end station longitude      55072 non-null float64\n",
            "bikeid                     55072 non-null int64\n",
            "usertype                   55072 non-null object\n",
            "birth year                 55072 non-null object\n",
            "gender                     55072 non-null int64\n",
            "dtypes: float64(4), int64(5), object(6)\n",
            "memory usage: 6.3+ MB\n"
          ],
          "name": "stdout"
        }
      ]
    },
    {
      "cell_type": "code",
      "metadata": {
        "id": "XWD7qQ9jS8wF",
        "colab_type": "code",
        "colab": {
          "base_uri": "https://localhost:8080/",
          "height": 102
        },
        "outputId": "33f8c47c-1949-4ff8-ccdf-a4dd5b9ae0c7"
      },
      "source": [
        "df.groupby('gender')['gender'].count()"
      ],
      "execution_count": 5,
      "outputs": [
        {
          "output_type": "execute_result",
          "data": {
            "text/plain": [
              "gender\n",
              "0     2371\n",
              "1    41113\n",
              "2    11588\n",
              "Name: gender, dtype: int64"
            ]
          },
          "metadata": {
            "tags": []
          },
          "execution_count": 5
        }
      ]
    },
    {
      "cell_type": "code",
      "metadata": {
        "id": "gx4GCtdWZKc1",
        "colab_type": "code",
        "colab": {
          "base_uri": "https://localhost:8080/",
          "height": 102
        },
        "outputId": "ab2e2980-bbff-45fe-cbd8-ccdeb1f10901"
      },
      "source": [
        "sex = {0:'UnKnown' ,1: 'Male', 2: 'Female'}\n",
        "df['sex'] = [ sex.get(x,'UnKnown') for x in df['gender']]\n",
        "df.groupby('sex')['sex'].count()"
      ],
      "execution_count": 6,
      "outputs": [
        {
          "output_type": "execute_result",
          "data": {
            "text/plain": [
              "sex\n",
              "Female     11588\n",
              "Male       41113\n",
              "UnKnown     2371\n",
              "Name: sex, dtype: int64"
            ]
          },
          "metadata": {
            "tags": []
          },
          "execution_count": 6
        }
      ]
    },
    {
      "cell_type": "code",
      "metadata": {
        "id": "QUur-AhfxIgx",
        "colab_type": "code",
        "outputId": "60b80287-850f-43d6-9268-deb1a52837e1",
        "colab": {
          "base_uri": "https://localhost:8080/",
          "height": 85
        }
      },
      "source": [
        "tot_trip_count = df.groupby('usertype')['tripduration'].count()\n",
        "print(tot_trip_count)"
      ],
      "execution_count": 140,
      "outputs": [
        {
          "output_type": "stream",
          "text": [
            "usertype\n",
            "Customer       1980\n",
            "Subscriber    53092\n",
            "Name: tripduration, dtype: int64\n"
          ],
          "name": "stdout"
        }
      ]
    },
    {
      "cell_type": "code",
      "metadata": {
        "id": "qaLlwFmPxaRB",
        "colab_type": "code",
        "outputId": "3619b2a0-1946-4f8a-db7f-84c1ae4058c9",
        "colab": {
          "base_uri": "https://localhost:8080/",
          "height": 85
        }
      },
      "source": [
        "tot_trip_dur = df.groupby('usertype')['tripduration'].sum()\n",
        "print (tot_trip_dur)"
      ],
      "execution_count": 14,
      "outputs": [
        {
          "output_type": "stream",
          "text": [
            "usertype\n",
            "Customer       8333773\n",
            "Subscriber    38751599\n",
            "Name: tripduration, dtype: int64\n"
          ],
          "name": "stdout"
        }
      ]
    },
    {
      "cell_type": "code",
      "metadata": {
        "id": "doUl6kmf51Ku",
        "colab_type": "code",
        "outputId": "f2cc7352-5eec-4196-843d-4578afd3f553",
        "colab": {
          "base_uri": "https://localhost:8080/",
          "height": 51
        }
      },
      "source": [
        "\n",
        "avg_dur_sub = tot_trip_dur[0]/tot_trip_count[0]\n",
        "avg_dur_cas = tot_trip_dur[1]/tot_trip_count[1]\n",
        "print ('Average Trip Duration for Subscribers=',avg_dur_sub)\n",
        "print ('Average Trip Duration for Subscribers=',avg_dur_cas)"
      ],
      "execution_count": 15,
      "outputs": [
        {
          "output_type": "stream",
          "text": [
            "Average Trip Duration for Subscribers= 4208.976262626263\n",
            "Average Trip Duration for Subscribers= 729.8952572892338\n"
          ],
          "name": "stdout"
        }
      ]
    },
    {
      "cell_type": "code",
      "metadata": {
        "id": "gnudesbnFCAY",
        "colab_type": "code",
        "colab": {
          "base_uri": "https://localhost:8080/",
          "height": 357
        },
        "outputId": "efb9c09c-02cf-4ff2-89e9-403c58423ef0"
      },
      "source": [
        "df.info()?\n",
        "\n"
      ],
      "execution_count": 37,
      "outputs": [
        {
          "output_type": "stream",
          "text": [
            "<class 'pandas.core.frame.DataFrame'>\n",
            "RangeIndex: 55072 entries, 0 to 55071\n",
            "Data columns (total 15 columns):\n",
            "tripduration               55072 non-null int64\n",
            "starttime                  55072 non-null object\n",
            "stoptime                   55072 non-null object\n",
            "start station id           55072 non-null int64\n",
            "start station name         55072 non-null object\n",
            "start station latitude     55072 non-null float64\n",
            "start station longitude    55072 non-null float64\n",
            "end station id             55072 non-null int64\n",
            "end station name           55072 non-null object\n",
            "end station latitude       55072 non-null float64\n",
            "end station longitude      55072 non-null float64\n",
            "bikeid                     55072 non-null int64\n",
            "usertype                   55072 non-null object\n",
            "birth year                 55072 non-null object\n",
            "gender                     55072 non-null int64\n",
            "dtypes: float64(4), int64(5), object(6)\n",
            "memory usage: 6.3+ MB\n"
          ],
          "name": "stdout"
        }
      ]
    },
    {
      "cell_type": "code",
      "metadata": {
        "id": "Xc0BLAM_Fjmq",
        "colab_type": "code",
        "colab": {
          "base_uri": "https://localhost:8080/",
          "height": 34
        },
        "outputId": "5904f662-26de-4034-c0ba-f5edfeef2d59"
      },
      "source": [
        "df[['tripduration', 'starttime', 'stoptime']]\n",
        "min= df['tripduration'].min()\n",
        "max= df['tripduration'].max()\n",
        "\n",
        "print(min, max)"
      ],
      "execution_count": 52,
      "outputs": [
        {
          "output_type": "stream",
          "text": [
            "61 2852000\n"
          ],
          "name": "stdout"
        }
      ]
    },
    {
      "cell_type": "code",
      "metadata": {
        "id": "d4B7n5LcNWQ6",
        "colab_type": "code",
        "colab": {
          "base_uri": "https://localhost:8080/",
          "height": 238
        },
        "outputId": "4f373e69-9451-4926-97d0-689077ca6ed5"
      },
      "source": [
        "x= df.groupby('bikeid')['tripduration'].count()\n",
        "x"
      ],
      "execution_count": 125,
      "outputs": [
        {
          "output_type": "execute_result",
          "data": {
            "text/plain": [
              "bikeid\n",
              "1       10\n",
              "2       20\n",
              "3       46\n",
              "4       15\n",
              "5       25\n",
              "        ..\n",
              "1977    43\n",
              "1978    52\n",
              "1979    40\n",
              "1980    67\n",
              "1981    26\n",
              "Name: tripduration, Length: 1501, dtype: int64"
            ]
          },
          "metadata": {
            "tags": []
          },
          "execution_count": 125
        }
      ]
    },
    {
      "cell_type": "code",
      "metadata": {
        "id": "374qb7rqIpgG",
        "colab_type": "code",
        "colab": {
          "base_uri": "https://localhost:8080/",
          "height": 265
        },
        "outputId": "3d38c22f-533c-470a-fb89-116755756d9e"
      },
      "source": [
        "\n",
        "df_male = df[df.sex=='Male']\n",
        "df_female = df[df.sex=='Female']\n",
        "kwargs = dict(bins= range(1,200,5), histtype='stepfilled', alpha=0.3, density=True)\n",
        "plt.hist(x=df_male['tripduration'], **kwargs)\n",
        "plt.hist(x=df_female['tripduration'], **kwargs)\n",
        "plt.show()\n"
      ],
      "execution_count": 23,
      "outputs": [
        {
          "output_type": "display_data",
          "data": {
            "image/png": "[encoded data removed]",
            "text/plain": [
              "<Figure size 432x288 with 1 Axes>"
            ]
          },
          "metadata": {
            "tags": []
          }
        }
      ]
    },
    {
      "cell_type": "code",
      "metadata": {
        "id": "3yMDC1WfxAGF",
        "colab_type": "code",
        "colab": {
          "base_uri": "https://localhost:8080/",
          "height": 983
        },
        "outputId": "4b115b20-d5ae-41df-fbd0-bd0ab32e21f0"
      },
      "source": [
        "df[df.sex=='Male']"
      ],
      "execution_count": 16,
      "outputs": [
        {
          "output_type": "execute_result",
          "data": {
            "text/html": [
              "<div>\n",
              "<style scoped>\n",
              "    .dataframe tbody tr th:only-of-type {\n",
              "        vertical-align: middle;\n",
              "    }\n",
              "\n",
              "    .dataframe tbody tr th {\n",
              "        vertical-align: top;\n",
              "    }\n",
              "\n",
              "    .dataframe thead th {\n",
              "        text-align: right;\n",
              "    }\n",
              "</style>\n",
              "<table border=\"1\" class=\"dataframe\">\n",
              "  <thead>\n",
              "    <tr style=\"text-align: right;\">\n",
              "      <th></th>\n",
              "      <th>tripduration</th>\n",
              "      <th>starttime</th>\n",
              "      <th>stoptime</th>\n",
              "      <th>start station id</th>\n",
              "      <th>start station name</th>\n",
              "      <th>start station latitude</th>\n",
              "      <th>start station longitude</th>\n",
              "      <th>end station id</th>\n",
              "      <th>end station name</th>\n",
              "      <th>end station latitude</th>\n",
              "      <th>end station longitude</th>\n",
              "      <th>bikeid</th>\n",
              "      <th>usertype</th>\n",
              "      <th>birth year</th>\n",
              "      <th>gender</th>\n",
              "      <th>sex</th>\n",
              "    </tr>\n",
              "  </thead>\n",
              "  <tbody>\n",
              "    <tr>\n",
              "      <th>1</th>\n",
              "      <td>365</td>\n",
              "      <td>2017-12-01 00:06:14</td>\n",
              "      <td>2017-12-01 00:12:20</td>\n",
              "      <td>226</td>\n",
              "      <td>Commonwealth Ave At Babcock St</td>\n",
              "      <td>42.351547</td>\n",
              "      <td>-71.121262</td>\n",
              "      <td>10</td>\n",
              "      <td>B.U. Central - 725 Comm. Ave.</td>\n",
              "      <td>42.350406</td>\n",
              "      <td>-71.108279</td>\n",
              "      <td>57</td>\n",
              "      <td>Subscriber</td>\n",
              "      <td>1997</td>\n",
              "      <td>1</td>\n",
              "      <td>Male</td>\n",
              "    </tr>\n",
              "    <tr>\n",
              "      <th>2</th>\n",
              "      <td>297</td>\n",
              "      <td>2017-12-01 00:09:08</td>\n",
              "      <td>2017-12-01 00:14:06</td>\n",
              "      <td>74</td>\n",
              "      <td>Harvard Square at Mass Ave/ Dunster</td>\n",
              "      <td>42.373268</td>\n",
              "      <td>-71.118579</td>\n",
              "      <td>76</td>\n",
              "      <td>Central Sq Post Office / Cambridge City Hall a...</td>\n",
              "      <td>42.366426</td>\n",
              "      <td>-71.105495</td>\n",
              "      <td>1201</td>\n",
              "      <td>Subscriber</td>\n",
              "      <td>1977</td>\n",
              "      <td>1</td>\n",
              "      <td>Male</td>\n",
              "    </tr>\n",
              "    <tr>\n",
              "      <th>3</th>\n",
              "      <td>1128</td>\n",
              "      <td>2017-12-01 00:09:36</td>\n",
              "      <td>2017-12-01 00:28:24</td>\n",
              "      <td>46</td>\n",
              "      <td>Christian Science Plaza - Massachusetts Ave at...</td>\n",
              "      <td>42.343666</td>\n",
              "      <td>-71.085824</td>\n",
              "      <td>130</td>\n",
              "      <td>Upham's Corner TEMPORARY WINTER LOCATION</td>\n",
              "      <td>42.317509</td>\n",
              "      <td>-71.064166</td>\n",
              "      <td>1148</td>\n",
              "      <td>Subscriber</td>\n",
              "      <td>1991</td>\n",
              "      <td>1</td>\n",
              "      <td>Male</td>\n",
              "    </tr>\n",
              "    <tr>\n",
              "      <th>4</th>\n",
              "      <td>2594</td>\n",
              "      <td>2017-12-01 00:10:47</td>\n",
              "      <td>2017-12-01 00:54:01</td>\n",
              "      <td>193</td>\n",
              "      <td>Brookline Village - Station Street @ MBTA TEMP...</td>\n",
              "      <td>42.333765</td>\n",
              "      <td>-71.120464</td>\n",
              "      <td>32</td>\n",
              "      <td>Landmark Center - Brookline Ave at Park Dr</td>\n",
              "      <td>42.345194</td>\n",
              "      <td>-71.101697</td>\n",
              "      <td>1712</td>\n",
              "      <td>Subscriber</td>\n",
              "      <td>1963</td>\n",
              "      <td>1</td>\n",
              "      <td>Male</td>\n",
              "    </tr>\n",
              "    <tr>\n",
              "      <th>5</th>\n",
              "      <td>597</td>\n",
              "      <td>2017-12-01 00:12:22</td>\n",
              "      <td>2017-12-01 00:22:19</td>\n",
              "      <td>75</td>\n",
              "      <td>Lafayette Square at Mass Ave / Main St / Colum...</td>\n",
              "      <td>42.363465</td>\n",
              "      <td>-71.100573</td>\n",
              "      <td>19</td>\n",
              "      <td>Park Dr at Buswell St</td>\n",
              "      <td>42.347241</td>\n",
              "      <td>-71.105301</td>\n",
              "      <td>178</td>\n",
              "      <td>Subscriber</td>\n",
              "      <td>1986</td>\n",
              "      <td>1</td>\n",
              "      <td>Male</td>\n",
              "    </tr>\n",
              "    <tr>\n",
              "      <th>...</th>\n",
              "      <td>...</td>\n",
              "      <td>...</td>\n",
              "      <td>...</td>\n",
              "      <td>...</td>\n",
              "      <td>...</td>\n",
              "      <td>...</td>\n",
              "      <td>...</td>\n",
              "      <td>...</td>\n",
              "      <td>...</td>\n",
              "      <td>...</td>\n",
              "      <td>...</td>\n",
              "      <td>...</td>\n",
              "      <td>...</td>\n",
              "      <td>...</td>\n",
              "      <td>...</td>\n",
              "      <td>...</td>\n",
              "    </tr>\n",
              "    <tr>\n",
              "      <th>55066</th>\n",
              "      <td>652</td>\n",
              "      <td>2017-12-31 23:37:48</td>\n",
              "      <td>2017-12-31 23:48:41</td>\n",
              "      <td>29</td>\n",
              "      <td>Innovation Lab - 125 Western Ave at Batten Way</td>\n",
              "      <td>42.363732</td>\n",
              "      <td>-71.124565</td>\n",
              "      <td>91</td>\n",
              "      <td>One Kendall Square at Hampshire St / Portland St</td>\n",
              "      <td>42.366277</td>\n",
              "      <td>-71.091690</td>\n",
              "      <td>1648</td>\n",
              "      <td>Subscriber</td>\n",
              "      <td>1988</td>\n",
              "      <td>1</td>\n",
              "      <td>Male</td>\n",
              "    </tr>\n",
              "    <tr>\n",
              "      <th>55067</th>\n",
              "      <td>248</td>\n",
              "      <td>2017-12-31 23:46:18</td>\n",
              "      <td>2017-12-31 23:50:27</td>\n",
              "      <td>117</td>\n",
              "      <td>Binney St / Sixth St</td>\n",
              "      <td>42.366095</td>\n",
              "      <td>-71.086388</td>\n",
              "      <td>141</td>\n",
              "      <td>Kendall Street</td>\n",
              "      <td>42.363560</td>\n",
              "      <td>-71.082168</td>\n",
              "      <td>1846</td>\n",
              "      <td>Subscriber</td>\n",
              "      <td>1965</td>\n",
              "      <td>1</td>\n",
              "      <td>Male</td>\n",
              "    </tr>\n",
              "    <tr>\n",
              "      <th>55068</th>\n",
              "      <td>261</td>\n",
              "      <td>2017-12-29 16:11:56</td>\n",
              "      <td>2017-12-29 16:16:18</td>\n",
              "      <td>54</td>\n",
              "      <td>Tremont St at West St</td>\n",
              "      <td>42.354979</td>\n",
              "      <td>-71.063348</td>\n",
              "      <td>42</td>\n",
              "      <td>Boylston St at Arlington St TEMPORARY WINTER L...</td>\n",
              "      <td>42.352583</td>\n",
              "      <td>-71.067662</td>\n",
              "      <td>2</td>\n",
              "      <td>Subscriber</td>\n",
              "      <td>1955</td>\n",
              "      <td>1</td>\n",
              "      <td>Male</td>\n",
              "    </tr>\n",
              "    <tr>\n",
              "      <th>55069</th>\n",
              "      <td>983</td>\n",
              "      <td>2017-12-30 08:09:44</td>\n",
              "      <td>2017-12-30 08:26:08</td>\n",
              "      <td>54</td>\n",
              "      <td>Tremont St at West St</td>\n",
              "      <td>42.354979</td>\n",
              "      <td>-71.063348</td>\n",
              "      <td>58</td>\n",
              "      <td>Beacon St at Arlington St</td>\n",
              "      <td>42.355549</td>\n",
              "      <td>-71.072842</td>\n",
              "      <td>1534</td>\n",
              "      <td>Subscriber</td>\n",
              "      <td>1987</td>\n",
              "      <td>1</td>\n",
              "      <td>Male</td>\n",
              "    </tr>\n",
              "    <tr>\n",
              "      <th>55070</th>\n",
              "      <td>1751</td>\n",
              "      <td>2017-12-30 12:20:01</td>\n",
              "      <td>2017-12-30 12:49:12</td>\n",
              "      <td>54</td>\n",
              "      <td>Tremont St at West St</td>\n",
              "      <td>42.354979</td>\n",
              "      <td>-71.063348</td>\n",
              "      <td>46</td>\n",
              "      <td>Christian Science Plaza - Massachusetts Ave at...</td>\n",
              "      <td>42.343666</td>\n",
              "      <td>-71.085824</td>\n",
              "      <td>1978</td>\n",
              "      <td>Subscriber</td>\n",
              "      <td>1989</td>\n",
              "      <td>1</td>\n",
              "      <td>Male</td>\n",
              "    </tr>\n",
              "  </tbody>\n",
              "</table>\n",
              "<p>41113 rows × 16 columns</p>\n",
              "</div>"
            ],
            "text/plain": [
              "       tripduration            starttime  ... gender   sex\n",
              "1               365  2017-12-01 00:06:14  ...      1  Male\n",
              "2               297  2017-12-01 00:09:08  ...      1  Male\n",
              "3              1128  2017-12-01 00:09:36  ...      1  Male\n",
              "4              2594  2017-12-01 00:10:47  ...      1  Male\n",
              "5               597  2017-12-01 00:12:22  ...      1  Male\n",
              "...             ...                  ...  ...    ...   ...\n",
              "55066           652  2017-12-31 23:37:48  ...      1  Male\n",
              "55067           248  2017-12-31 23:46:18  ...      1  Male\n",
              "55068           261  2017-12-29 16:11:56  ...      1  Male\n",
              "55069           983  2017-12-30 08:09:44  ...      1  Male\n",
              "55070          1751  2017-12-30 12:20:01  ...      1  Male\n",
              "\n",
              "[41113 rows x 16 columns]"
            ]
          },
          "metadata": {
            "tags": []
          },
          "execution_count": 16
        }
      ]
    }
  ]
}